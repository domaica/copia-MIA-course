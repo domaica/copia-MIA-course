{
 "cells": [
  {
   "cell_type": "code",
   "execution_count": 1,
   "metadata": {},
   "outputs": [],
   "source": [
    "# Dependencies\n",
    "import json\n",
    "import requests"
   ]
  },
  {
   "cell_type": "code",
   "execution_count": 2,
   "metadata": {},
   "outputs": [
    {
     "name": "stdout",
     "output_type": "stream",
     "text": [
      "<Response [200]>\n"
     ]
    }
   ],
   "source": [
    "# Specify the URL\n",
    "url = \"http://nyt-mongo-scraper.herokuapp.com/api/headlines\"\n",
    "\n",
    "# Make request and store response\n",
    "print(requests.get(url))"
   ]
  },
  {
   "cell_type": "code",
   "execution_count": 3,
   "metadata": {
    "scrolled": true
   },
   "outputs": [
    {
     "name": "stdout",
     "output_type": "stream",
     "text": [
      "[{'saved': True, '_id': '604aa3e8b1f67400156dbf53', 'headline': 'Grammys Ready Pandemic Show, as the Weeknd Boycotts Future Awards\\u200b', 'summary': 'The Weeknd, who was snubbed, says he will boycott the awards going forward, in a sign of continuing friction with artists.', 'url': 'https://www.nytimes.com/2021/03/11/arts/music/grammys-the-weeknd-beyonce.html', 'date': '2021-03-11T23:12:40.625Z', '__v': 0}, {'saved': True, '_id': '604aa3e8b1f67400156dbf54', 'headline': 'A Drone Went Bowling. Hollywood Noticed.', 'summary': 'A drone video shot in a Minneapolis bowling alley was hailed as a classic. One Hollywood veteran said it “adds to the language and vocabulary of cinema.”', 'url': 'https://www.nytimes.com/2021/03/11/us/drone-bowling-alley.html', 'date': '2021-03-11T23:12:40.625Z', '__v': 0}, {'saved': True, '_id': '604aa3e8b1f67400156dbf52', 'headline': '27 Americans Share the Moment They Knew', 'summary': 'Tom Hanks’s Covid diagnosis. A truncated N.B.A. season. School closures. A look back to the start of the pandemic.', 'url': 'https://www.nytimes.com/interactive/2021/03/11/opinion/coronavirus-2020.html', 'date': '2021-03-11T23:12:40.619Z', '__v': 0}, {'saved': True, '_id': '604a5cdab1f67400156dbf51', 'headline': 'Testing Manhattan’s Rental Market Mid-Pandemic', 'summary': 'A Paris transplant arrived in New York looking for “the American experience,” and a one-bedroom. Which apartment would you choose?', 'url': 'https://www.nytimes.com/interactive/2021/03/11/realestate/11hunt-gaffie.html', 'date': '2021-03-11T18:09:30.419Z', '__v': 0}, {'saved': True, '_id': '604a5cdab1f67400156dbf50', 'headline': 'A Black Family Ran a Beach Resort 100 Years Ago. They Want Their Land Back.', 'summary': 'The Bruce family built a thriving resort in Manhattan Beach, Calif., but the city shut it down in 1924. Their descendants are still seeking restitution.', 'url': 'https://www.nytimes.com/2021/03/11/us/bruce-family-manhattan-beach.html', 'date': '2021-03-11T18:09:30.419Z', '__v': 0}]\n"
     ]
    }
   ],
   "source": [
    "# JSON-ify response\n",
    "print(requests.get(url).json())"
   ]
  },
  {
   "cell_type": "code",
   "execution_count": 13,
   "metadata": {},
   "outputs": [
    {
     "name": "stdout",
     "output_type": "stream",
     "text": [
      "[\n",
      "    {\n",
      "        \"__v\": 0,\n",
      "        \"_id\": \"604aa3e8b1f67400156dbf53\",\n",
      "        \"date\": \"2021-03-11T23:12:40.625Z\",\n",
      "        \"headline\": \"Grammys Ready Pandemic Show, as the Weeknd Boycotts Future Awards\\u200b\",\n",
      "        \"saved\": true,\n",
      "        \"summary\": \"The Weeknd, who was snubbed, says he will boycott the awards going forward, in a sign of continuing friction with artists.\",\n",
      "        \"url\": \"https://www.nytimes.com/2021/03/11/arts/music/grammys-the-weeknd-beyonce.html\"\n",
      "    },\n",
      "    {\n",
      "        \"__v\": 0,\n",
      "        \"_id\": \"604aa3e8b1f67400156dbf54\",\n",
      "        \"date\": \"2021-03-11T23:12:40.625Z\",\n",
      "        \"headline\": \"A Drone Went Bowling. Hollywood Noticed.\",\n",
      "        \"saved\": true,\n",
      "        \"summary\": \"A drone video shot in a Minneapolis bowling alley was hailed as a classic. One Hollywood veteran said it \\u201cadds to the language and vocabulary of cinema.\\u201d\",\n",
      "        \"url\": \"https://www.nytimes.com/2021/03/11/us/drone-bowling-alley.html\"\n",
      "    },\n",
      "    {\n",
      "        \"__v\": 0,\n",
      "        \"_id\": \"604aa3e8b1f67400156dbf52\",\n",
      "        \"date\": \"2021-03-11T23:12:40.619Z\",\n",
      "        \"headline\": \"27 Americans Share the Moment They Knew\",\n",
      "        \"saved\": true,\n",
      "        \"summary\": \"Tom Hanks\\u2019s Covid diagnosis. A truncated N.B.A. season. School closures. A look back to the start of the pandemic.\",\n",
      "        \"url\": \"https://www.nytimes.com/interactive/2021/03/11/opinion/coronavirus-2020.html\"\n",
      "    },\n",
      "    {\n",
      "        \"__v\": 0,\n",
      "        \"_id\": \"604a5cdab1f67400156dbf51\",\n",
      "        \"date\": \"2021-03-11T18:09:30.419Z\",\n",
      "        \"headline\": \"Testing Manhattan\\u2019s Rental Market Mid-Pandemic\",\n",
      "        \"saved\": true,\n",
      "        \"summary\": \"A Paris transplant arrived in New York looking for \\u201cthe American experience,\\u201d and a one-bedroom. Which apartment would you choose?\",\n",
      "        \"url\": \"https://www.nytimes.com/interactive/2021/03/11/realestate/11hunt-gaffie.html\"\n",
      "    },\n",
      "    {\n",
      "        \"__v\": 0,\n",
      "        \"_id\": \"604a5cdab1f67400156dbf50\",\n",
      "        \"date\": \"2021-03-11T18:09:30.419Z\",\n",
      "        \"headline\": \"A Black Family Ran a Beach Resort 100 Years Ago. They Want Their Land Back.\",\n",
      "        \"saved\": true,\n",
      "        \"summary\": \"The Bruce family built a thriving resort in Manhattan Beach, Calif., but the city shut it down in 1924. Their descendants are still seeking restitution.\",\n",
      "        \"url\": \"https://www.nytimes.com/2021/03/11/us/bruce-family-manhattan-beach.html\"\n",
      "    }\n",
      "]\n"
     ]
    }
   ],
   "source": [
    "response = requests.get(url).json()\n",
    "# response_json = response.json()\n",
    "print(json.dumps(response, indent=4, sort_keys=True))"
   ]
  },
  {
   "cell_type": "code",
   "execution_count": 14,
   "metadata": {},
   "outputs": [
    {
     "name": "stdout",
     "output_type": "stream",
     "text": [
      "[\n",
      "    {\n",
      "        \"__v\": 0,\n",
      "        \"_id\": \"604aa3e8b1f67400156dbf53\",\n",
      "        \"date\": \"2021-03-11T23:12:40.625Z\",\n",
      "        \"headline\": \"Grammys Ready Pandemic Show, as the Weeknd Boycotts Future Awards\\u200b\",\n",
      "        \"saved\": true,\n",
      "        \"summary\": \"The Weeknd, who was snubbed, says he will boycott the awards going forward, in a sign of continuing friction with artists.\",\n",
      "        \"url\": \"https://www.nytimes.com/2021/03/11/arts/music/grammys-the-weeknd-beyonce.html\"\n",
      "    },\n",
      "    {\n",
      "        \"__v\": 0,\n",
      "        \"_id\": \"604aa3e8b1f67400156dbf54\",\n",
      "        \"date\": \"2021-03-11T23:12:40.625Z\",\n",
      "        \"headline\": \"A Drone Went Bowling. Hollywood Noticed.\",\n",
      "        \"saved\": true,\n",
      "        \"summary\": \"A drone video shot in a Minneapolis bowling alley was hailed as a classic. One Hollywood veteran said it \\u201cadds to the language and vocabulary of cinema.\\u201d\",\n",
      "        \"url\": \"https://www.nytimes.com/2021/03/11/us/drone-bowling-alley.html\"\n",
      "    },\n",
      "    {\n",
      "        \"__v\": 0,\n",
      "        \"_id\": \"604aa3e8b1f67400156dbf52\",\n",
      "        \"date\": \"2021-03-11T23:12:40.619Z\",\n",
      "        \"headline\": \"27 Americans Share the Moment They Knew\",\n",
      "        \"saved\": true,\n",
      "        \"summary\": \"Tom Hanks\\u2019s Covid diagnosis. A truncated N.B.A. season. School closures. A look back to the start of the pandemic.\",\n",
      "        \"url\": \"https://www.nytimes.com/interactive/2021/03/11/opinion/coronavirus-2020.html\"\n",
      "    },\n",
      "    {\n",
      "        \"__v\": 0,\n",
      "        \"_id\": \"604a5cdab1f67400156dbf51\",\n",
      "        \"date\": \"2021-03-11T18:09:30.419Z\",\n",
      "        \"headline\": \"Testing Manhattan\\u2019s Rental Market Mid-Pandemic\",\n",
      "        \"saved\": true,\n",
      "        \"summary\": \"A Paris transplant arrived in New York looking for \\u201cthe American experience,\\u201d and a one-bedroom. Which apartment would you choose?\",\n",
      "        \"url\": \"https://www.nytimes.com/interactive/2021/03/11/realestate/11hunt-gaffie.html\"\n",
      "    },\n",
      "    {\n",
      "        \"__v\": 0,\n",
      "        \"_id\": \"604a5cdab1f67400156dbf50\",\n",
      "        \"date\": \"2021-03-11T18:09:30.419Z\",\n",
      "        \"headline\": \"A Black Family Ran a Beach Resort 100 Years Ago. They Want Their Land Back.\",\n",
      "        \"saved\": true,\n",
      "        \"summary\": \"The Bruce family built a thriving resort in Manhattan Beach, Calif., but the city shut it down in 1924. Their descendants are still seeking restitution.\",\n",
      "        \"url\": \"https://www.nytimes.com/2021/03/11/us/bruce-family-manhattan-beach.html\"\n",
      "    }\n",
      "]\n"
     ]
    }
   ],
   "source": [
    "response = requests.get(url)\n",
    "response_json = response.json()\n",
    "print(json.dumps(response_json, indent=4, sort_keys=True))"
   ]
  },
  {
   "cell_type": "code",
   "execution_count": 17,
   "metadata": {
    "scrolled": false
   },
   "outputs": [
    {
     "name": "stdout",
     "output_type": "stream",
     "text": [
      "{'saved': True, '_id': '604aa3e8b1f67400156dbf53', 'headline': 'Grammys Ready Pandemic Show, as the Weeknd Boycotts Future Awards\\u200b', 'summary': 'The Weeknd, who was snubbed, says he will boycott the awards going forward, in a sign of continuing friction with artists.', 'url': 'https://www.nytimes.com/2021/03/11/arts/music/grammys-the-weeknd-beyonce.html', 'date': '2021-03-11T23:12:40.625Z', '__v': 0}\n",
      "{'saved': True, '_id': '604a5cdab1f67400156dbf50', 'headline': 'A Black Family Ran a Beach Resort 100 Years Ago. They Want Their Land Back.', 'summary': 'The Bruce family built a thriving resort in Manhattan Beach, Calif., but the city shut it down in 1924. Their descendants are still seeking restitution.', 'url': 'https://www.nytimes.com/2021/03/11/us/bruce-family-manhattan-beach.html', 'date': '2021-03-11T18:09:30.419Z', '__v': 0}\n"
     ]
    }
   ],
   "source": [
    "# Print first and last articles\n",
    "print(response_json[0])\n",
    "print(response_json[4])"
   ]
  },
  {
   "cell_type": "code",
   "execution_count": null,
   "metadata": {},
   "outputs": [],
   "source": [
    "#Print the number of responses received."
   ]
  }
 ],
 "metadata": {
  "kernelspec": {
   "display_name": "Python [conda env:PythonData]",
   "language": "python",
   "name": "conda-env-PythonData-py"
  },
  "language_info": {
   "codemirror_mode": {
    "name": "ipython",
    "version": 3
   },
   "file_extension": ".py",
   "mimetype": "text/x-python",
   "name": "python",
   "nbconvert_exporter": "python",
   "pygments_lexer": "ipython3",
   "version": "3.6.10"
  },
  "varInspector": {
   "cols": {
    "lenName": 16,
    "lenType": 16,
    "lenVar": 40
   },
   "kernels_config": {
    "python": {
     "delete_cmd_postfix": "",
     "delete_cmd_prefix": "del ",
     "library": "var_list.py",
     "varRefreshCmd": "print(var_dic_list())"
    },
    "r": {
     "delete_cmd_postfix": ") ",
     "delete_cmd_prefix": "rm(",
     "library": "var_list.r",
     "varRefreshCmd": "cat(var_dic_list()) "
    }
   },
   "types_to_exclude": [
    "module",
    "function",
    "builtin_function_or_method",
    "instance",
    "_Feature"
   ],
   "window_display": false
  }
 },
 "nbformat": 4,
 "nbformat_minor": 2
}
