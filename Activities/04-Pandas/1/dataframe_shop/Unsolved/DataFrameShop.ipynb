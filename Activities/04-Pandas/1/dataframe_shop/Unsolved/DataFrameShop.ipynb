{
 "cells": [
  {
   "cell_type": "code",
   "execution_count": 1,
   "metadata": {},
   "outputs": [],
   "source": [
    "# Import Dependencies\n",
    "import pandas as pd"
   ]
  },
  {
   "cell_type": "code",
   "execution_count": 8,
   "metadata": {},
   "outputs": [
    {
     "data": {
      "text/html": [
       "<div>\n",
       "<style scoped>\n",
       "    .dataframe tbody tr th:only-of-type {\n",
       "        vertical-align: middle;\n",
       "    }\n",
       "\n",
       "    .dataframe tbody tr th {\n",
       "        vertical-align: top;\n",
       "    }\n",
       "\n",
       "    .dataframe thead th {\n",
       "        text-align: right;\n",
       "    }\n",
       "</style>\n",
       "<table border=\"1\" class=\"dataframe\">\n",
       "  <thead>\n",
       "    <tr style=\"text-align: right;\">\n",
       "      <th></th>\n",
       "      <th>0</th>\n",
       "      <th>1</th>\n",
       "    </tr>\n",
       "  </thead>\n",
       "  <tbody>\n",
       "    <tr>\n",
       "      <th>0</th>\n",
       "      <td>PRICE: 15.0 SALES: 100</td>\n",
       "      <td>FRAME: Ornate</td>\n",
       "    </tr>\n",
       "    <tr>\n",
       "      <th>1</th>\n",
       "      <td>FRAME: Classical</td>\n",
       "      <td>PRICE: 12.5 SALES: 200</td>\n",
       "    </tr>\n",
       "    <tr>\n",
       "      <th>2</th>\n",
       "      <td>PRICE: 10.0 SALES: 150</td>\n",
       "      <td>FRAME: Modern</td>\n",
       "    </tr>\n",
       "    <tr>\n",
       "      <th>3</th>\n",
       "      <td>FRAME: Wood</td>\n",
       "      <td>PRICE: 5.0 SALES: 300</td>\n",
       "    </tr>\n",
       "    <tr>\n",
       "      <th>4</th>\n",
       "      <td>FRAME: Cardboard</td>\n",
       "      <td>PRICE: 1.0 SALES: N/A</td>\n",
       "    </tr>\n",
       "  </tbody>\n",
       "</table>\n",
       "</div>"
      ],
      "text/plain": [
       "                         0                        1\n",
       "0   PRICE: 15.0 SALES: 100            FRAME: Ornate\n",
       "1         FRAME: Classical   PRICE: 12.5 SALES: 200\n",
       "2   PRICE: 10.0 SALES: 150            FRAME: Modern\n",
       "3              FRAME: Wood    PRICE: 5.0 SALES: 300\n",
       "4         FRAME: Cardboard    PRICE: 1.0 SALES: N/A"
      ]
     },
     "execution_count": 8,
     "metadata": {},
     "output_type": "execute_result"
    }
   ],
   "source": [
    "# DataFrame should have 3 columns: Frame, Price, and Sales AND 5 rows of data\n",
    "products_dicts = [{\"FRAME: Ornate\", \" PRICE: 15.0\" \" SALES: 100\"},\n",
    "                  {\"FRAME: Classical\", \" PRICE: 12.5\" \" SALES: 200\"},\n",
    "                  {\"FRAME: Modern\", \" PRICE: 10.0\" \" SALES: 150\"},\n",
    "                  {\"FRAME: Wood\", \" PRICE: 5.0\" \" SALES: 300\"},\n",
    "                  {\"FRAME: Cardboard\", \" PRICE: 1.0\" \" SALES: N/A\"}]\n",
    "\n",
    "products_df = pd.DataFrame(products_dicts)\n",
    "products_df\n"
   ]
  },
  {
   "cell_type": "code",
   "execution_count": 3,
   "metadata": {},
   "outputs": [],
   "source": [
    "# Use a different method of creating DataFrames to\n",
    "# Create a DataFrame for an art gallery that contains three columns - \"Painting\", \"Price\", and \"Popularity\"\n",
    "# and has 4 rows of data\n"
   ]
  }
 ],
 "metadata": {
  "kernelspec": {
   "display_name": "Python 3",
   "language": "python",
   "name": "python3"
  },
  "language_info": {
   "codemirror_mode": {
    "name": "ipython",
    "version": 3
   },
   "file_extension": ".py",
   "mimetype": "text/x-python",
   "name": "python",
   "nbconvert_exporter": "python",
   "pygments_lexer": "ipython3",
   "version": "3.8.5"
  }
 },
 "nbformat": 4,
 "nbformat_minor": 2
}
