{
 "cells": [
  {
   "cell_type": "code",
   "execution_count": 1,
   "metadata": {},
   "outputs": [],
   "source": [
    "# Dependencies\n",
    "import pymongo\n",
    "import datetime"
   ]
  },
  {
   "cell_type": "code",
   "execution_count": 2,
   "metadata": {},
   "outputs": [],
   "source": [
    "# The default port used by MongoDB is 27017\n",
    "# https://docs.mongodb.com/manual/reference/default-mongodb-port/\n",
    "conn = 'mongodb://localhost:27017'\n",
    "client = pymongo.MongoClient(conn)\n",
    "\n",
    "# Declare the database\n",
    "db = client.fruits_db\n",
    "\n",
    "# Declare the collection\n",
    "fruits = db.fruits"
   ]
  },
  {
   "cell_type": "code",
   "execution_count": 3,
   "metadata": {},
   "outputs": [
    {
     "data": {
      "text/plain": [
       "<pymongo.results.InsertOneResult at 0x1639b78d188>"
      ]
     },
     "execution_count": 3,
     "metadata": {},
     "output_type": "execute_result"
    }
   ],
   "source": [
    "# Part I\n",
    "# A dictionary that represents the document to be inserted\n",
    "post = {\n",
    "    'vendor': 'fruit star',\n",
    "    'fruit': 'raspberry',\n",
    "    'quantity': 21,\n",
    "    'ripeness': 2,\n",
    "    'date': datetime.datetime.utcnow()\n",
    "}\n",
    "# Insert the document into the database\n",
    "# The database and collection, if they don't already exist, will be created at this point.\n",
    "fruits.insert_one(post)"
   ]
  },
  {
   "cell_type": "code",
   "execution_count": 4,
   "metadata": {},
   "outputs": [
    {
     "name": "stdout",
     "output_type": "stream",
     "text": [
      "{'_id': ObjectId('607f7f0ea734dd047091afca'),\n",
      " 'quantity_received': 100,\n",
      " 'ripeness_rating': 1,\n",
      " 'type_of_fruit': 'banana',\n",
      " 'vendor': 'Perico'}\n",
      "---------------------------------------\n",
      "{'_id': ObjectId('608615b05cfd2b0a452891cc'),\n",
      " 'date': datetime.datetime(2021, 4, 26, 1, 21, 52, 29000),\n",
      " 'fruit': 'raspberry',\n",
      " 'quantity': 21,\n",
      " 'ripeness': 2,\n",
      " 'vendor': 'fruit star'}\n",
      "---------------------------------------\n",
      "{'_id': ObjectId('608617bf12c5cf84fa8e9235'),\n",
      " 'date': datetime.datetime(2021, 4, 26, 1, 30, 39, 165000),\n",
      " 'fruit': 'kiwi',\n",
      " 'quantity': '231',\n",
      " 'ripeness': '2',\n",
      " 'vendor': 'pacorro'}\n",
      "---------------------------------------\n",
      "{'_id': ObjectId('609044bbe4d9b806f6e0aa4e'),\n",
      " 'date': datetime.datetime(2021, 5, 3, 18, 45, 15, 781000),\n",
      " 'fruit': 'raspberry',\n",
      " 'quantity': 21,\n",
      " 'ripeness': 2,\n",
      " 'vendor': 'fruit star'}\n",
      "---------------------------------------\n"
     ]
    }
   ],
   "source": [
    "\n",
    "# query the classroom collection\n",
    "fruit_list = db.fruits.find({})\n",
    "\n",
    "from pprint import pprint\n",
    "\n",
    "for document in fruit_list: \n",
    "    pprint(document)\n",
    "    print(\"---------------------------------------\")"
   ]
  },
  {
   "cell_type": "code",
   "execution_count": null,
   "metadata": {},
   "outputs": [
    {
     "name": "stdout",
     "output_type": "stream",
     "text": [
      "Vendor name: de Allende\n"
     ]
    }
   ],
   "source": [
    "# Part II\n",
    "# Ask the user for input. Store information into variables.\n",
    "vendor = input('Vendor name: ')\n",
    "fruit_type = input('Type of fruit: ')\n",
    "quantity = input('Number of boxes received: ')\n",
    "ripeness = input('Ripeness of fruit (1 is unripe; 2 is ripe, 3 is over-ripe: ')\n",
    "\n",
    "# A dictionary that will become a MongoDB document\n",
    "post = {\n",
    "    'vendor': vendor,\n",
    "    'fruit': fruit_type,\n",
    "    'quantity': quantity,\n",
    "    'ripeness': ripeness,\n",
    "    'date': datetime.datetime.utcnow()\n",
    "}\n",
    "\n",
    "# Insert document into collection\n",
    "fruits.insert_one(post)"
   ]
  },
  {
   "cell_type": "code",
   "execution_count": 10,
   "metadata": {},
   "outputs": [
    {
     "name": "stdout",
     "output_type": "stream",
     "text": [
      "{'_id': ObjectId('607f7f0ea734dd047091afca'),\n",
      " 'quantity_received': 100,\n",
      " 'ripeness_rating': 1,\n",
      " 'type_of_fruit': 'banana',\n",
      " 'vendor': 'Perico'}\n",
      "---------------------------------------\n",
      "{'_id': ObjectId('608615b05cfd2b0a452891cc'),\n",
      " 'date': datetime.datetime(2021, 4, 26, 1, 21, 52, 29000),\n",
      " 'fruit': 'raspberry',\n",
      " 'quantity': 21,\n",
      " 'ripeness': 2,\n",
      " 'vendor': 'fruit star'}\n",
      "---------------------------------------\n",
      "{'_id': ObjectId('608617bf12c5cf84fa8e9235'),\n",
      " 'date': datetime.datetime(2021, 4, 26, 1, 30, 39, 165000),\n",
      " 'fruit': 'kiwi',\n",
      " 'quantity': '231',\n",
      " 'ripeness': '2',\n",
      " 'vendor': 'pacorro'}\n",
      "---------------------------------------\n"
     ]
    }
   ],
   "source": [
    "# query the classroom collection\n",
    "fruit_list = db.fruits.find({})\n",
    "\n",
    "from pprint import pprint\n",
    "\n",
    "for document in fruit_list: \n",
    "    pprint(document)\n",
    "    print(\"---------------------------------------\")"
   ]
  },
  {
   "cell_type": "code",
   "execution_count": null,
   "metadata": {},
   "outputs": [],
   "source": []
  }
 ],
 "metadata": {
  "kernelspec": {
   "display_name": "Python 3",
   "language": "python",
   "name": "python3"
  },
  "language_info": {
   "codemirror_mode": {
    "name": "ipython",
    "version": 3
   },
   "file_extension": ".py",
   "mimetype": "text/x-python",
   "name": "python",
   "nbconvert_exporter": "python",
   "pygments_lexer": "ipython3",
   "version": "3.6.10"
  }
 },
 "nbformat": 4,
 "nbformat_minor": 2
}
