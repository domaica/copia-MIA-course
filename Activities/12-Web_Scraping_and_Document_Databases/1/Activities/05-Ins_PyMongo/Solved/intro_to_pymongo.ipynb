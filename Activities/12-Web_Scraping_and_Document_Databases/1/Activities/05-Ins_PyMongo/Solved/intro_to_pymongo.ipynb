{
 "cells": [
  {
   "cell_type": "code",
   "execution_count": 1,
   "metadata": {},
   "outputs": [],
   "source": [
    "# Module used to connect Python with MongoDb\n",
    "import pymongo"
   ]
  },
  {
   "cell_type": "code",
   "execution_count": 2,
   "metadata": {},
   "outputs": [],
   "source": [
    "# The default port used by MongoDB is 27017\n",
    "# https://docs.mongodb.com/manual/reference/default-mongodb-port/\n",
    "conn = 'mongodb://localhost:27017'\n",
    "client = pymongo.MongoClient(conn)\n",
    "\n",
    "# Define the 'classDB' database in Mongo\n",
    "db = client.Dumpster_DB"
   ]
  },
  {
   "cell_type": "code",
   "execution_count": 3,
   "metadata": {},
   "outputs": [
    {
     "name": "stdout",
     "output_type": "stream",
     "text": [
      "{'_id': ObjectId('60861037c6938b48244457d6'), 'name': 'Davey', 'yearsDiving': 11.0, 'stillDiving': False, 'bestFinds': ['Flat Screen', 'Ruby Collar', '$100']}\n",
      "{'_id': ObjectId('60861037c6938b48244457d7'), 'name': 'Jeanie', 'yearsDiving': 2.0, 'stillDiving': True, 'bestFinds': ['Movie Theater Chairs', 'Music Box', 'Mona Lisa']}\n",
      "{'_id': ObjectId('608614123322b48387f33305'), 'name': 'Boppo', 'yearsDiving': 11, 'stillDiving': True, 'bestFinds': ['Half-Eaten Hamburger', 'Some Goop', 'Country music']}\n",
      "{'_id': ObjectId('6090416777c1698be4bb9f34'), 'name': 'Daniella', 'yearsDiving': 300, 'stillDiving': False, 'bestFinds': ['Yoyo', 'Telescope', 'Lamp']}\n",
      "{'_id': ObjectId('6090417a77c1698be4bb9f35'), 'name': 'Boppo', 'yearsDiving': 11, 'stillDiving': True, 'bestFinds': ['Half-Eaten Hamburger', 'Some Goop']}\n"
     ]
    }
   ],
   "source": [
    "# Query all students\n",
    "# Here, db.students refers to the collection 'classroom '\n",
    "divers = db.divers.find()\n",
    "\n",
    "# Iterate through each student in the collection\n",
    "for diver in divers:\n",
    "    print(diver)"
   ]
  },
  {
   "cell_type": "code",
   "execution_count": 4,
   "metadata": {},
   "outputs": [
    {
     "name": "stdout",
     "output_type": "stream",
     "text": [
      "{'_id': ObjectId('60861037c6938b48244457d6'), 'name': 'Davey', 'yearsDiving': 11.0, 'stillDiving': False, 'bestFinds': ['Flat Screen', 'Ruby Collar', '$100']}\n",
      "{'_id': ObjectId('60861037c6938b48244457d7'), 'name': 'Jeanie', 'yearsDiving': 2.0, 'stillDiving': True, 'bestFinds': ['Movie Theater Chairs', 'Music Box', 'Mona Lisa']}\n",
      "{'_id': ObjectId('608614123322b48387f33305'), 'name': 'Boppo', 'yearsDiving': 11, 'stillDiving': True, 'bestFinds': ['Half-Eaten Hamburger', 'Some Goop', 'Country music']}\n",
      "{'_id': ObjectId('6090416777c1698be4bb9f34'), 'name': 'Daniella', 'yearsDiving': 300, 'stillDiving': False, 'bestFinds': ['Yoyo', 'Telescope', 'Lamp']}\n",
      "{'_id': ObjectId('6090417a77c1698be4bb9f35'), 'name': 'Boppo', 'yearsDiving': 11, 'stillDiving': True, 'bestFinds': ['Half-Eaten Hamburger', 'Some Goop']}\n",
      "{'_id': ObjectId('6090437c6facf79bc1dbdfa3'), 'name': 'Daniella', 'yearsDiving': 300, 'stillDiving': False, 'bestFinds': ['Yoyo', 'Telescope', 'Lamp']}\n"
     ]
    }
   ],
   "source": [
    "# Insert a document into the 'divers' collection\n",
    "db.divers.insert_one(\n",
    "    {\n",
    "        'name': 'Daniella',\n",
    "        'yearsDiving': 300,\n",
    "        'stillDiving': False,\n",
    "        'bestFinds': ['Yoyo', 'Telescope', 'Lamp']\n",
    "    }\n",
    ")\n",
    "\n",
    "# query the classroom collection\n",
    "divers = db.divers.find()\n",
    "\n",
    "# see change in collection\n",
    "for diver in divers:\n",
    "    print(diver)"
   ]
  },
  {
   "cell_type": "code",
   "execution_count": 5,
   "metadata": {},
   "outputs": [
    {
     "data": {
      "text/plain": [
       "<pymongo.results.InsertOneResult at 0x21ee9f86e88>"
      ]
     },
     "execution_count": 5,
     "metadata": {},
     "output_type": "execute_result"
    }
   ],
   "source": [
    "db.divers.insert_one(\n",
    "    {\n",
    "        'name': 'Boppo',\n",
    "        'yearsDiving': 11,\n",
    "        'stillDiving': True,\n",
    "        'bestFinds': [\"Half-Eaten Hamburger\", \"Some Goop\"]\n",
    "    }\n",
    ")"
   ]
  },
  {
   "cell_type": "code",
   "execution_count": 6,
   "metadata": {},
   "outputs": [
    {
     "name": "stdout",
     "output_type": "stream",
     "text": [
      "{'_id': ObjectId('60861037c6938b48244457d6'), 'name': 'Davey', 'yearsDiving': 11.0, 'stillDiving': False, 'bestFinds': ['Flat Screen', 'Ruby Collar', '$100']}\n",
      "{'_id': ObjectId('60861037c6938b48244457d7'), 'name': 'Jeanie', 'yearsDiving': 2.0, 'stillDiving': True, 'bestFinds': ['Movie Theater Chairs', 'Music Box', 'Mona Lisa']}\n",
      "{'_id': ObjectId('608614123322b48387f33305'), 'name': 'Boppo', 'yearsDiving': 11, 'stillDiving': True, 'bestFinds': ['Half-Eaten Hamburger', 'Some Goop', 'Country music']}\n",
      "{'_id': ObjectId('6090416777c1698be4bb9f34'), 'name': 'Daniella', 'yearsDiving': 3, 'stillDiving': False, 'bestFinds': ['Yoyo', 'Telescope', 'Lamp']}\n",
      "{'_id': ObjectId('6090417a77c1698be4bb9f35'), 'name': 'Boppo', 'yearsDiving': 11, 'stillDiving': True, 'bestFinds': ['Half-Eaten Hamburger', 'Some Goop']}\n",
      "{'_id': ObjectId('6090437c6facf79bc1dbdfa3'), 'name': 'Daniella', 'yearsDiving': 300, 'stillDiving': False, 'bestFinds': ['Yoyo', 'Telescope', 'Lamp']}\n",
      "{'_id': ObjectId('6090437d6facf79bc1dbdfa4'), 'name': 'Boppo', 'yearsDiving': 11, 'stillDiving': True, 'bestFinds': ['Half-Eaten Hamburger', 'Some Goop']}\n",
      "<class 'pymongo.cursor.Cursor'>\n"
     ]
    }
   ],
   "source": [
    "# Update a document\n",
    "db.divers.update_one(\n",
    "    {'name': 'Daniella'},\n",
    "    {'$set':\n",
    "        {'yearsDiving': 3}\n",
    "     }\n",
    ")\n",
    "\n",
    "# query the divers collection\n",
    "divers = db.divers.find()\n",
    "\n",
    "# see change in collection\n",
    "for diver in divers:\n",
    "    print(diver)\n",
    "print(type(divers))"
   ]
  },
  {
   "cell_type": "code",
   "execution_count": 7,
   "metadata": {},
   "outputs": [
    {
     "name": "stdout",
     "output_type": "stream",
     "text": [
      "{'_id': ObjectId('60861037c6938b48244457d6'),\n",
      " 'bestFinds': ['Flat Screen', 'Ruby Collar', '$100'],\n",
      " 'name': 'Davey',\n",
      " 'stillDiving': False,\n",
      " 'yearsDiving': 11.0}\n",
      "---------------------------------------\n",
      "{'_id': ObjectId('60861037c6938b48244457d7'),\n",
      " 'bestFinds': ['Movie Theater Chairs', 'Music Box', 'Mona Lisa'],\n",
      " 'name': 'Jeanie',\n",
      " 'stillDiving': True,\n",
      " 'yearsDiving': 2.0}\n",
      "---------------------------------------\n",
      "{'_id': ObjectId('608614123322b48387f33305'),\n",
      " 'bestFinds': ['Half-Eaten Hamburger', 'Some Goop', 'Country music'],\n",
      " 'name': 'Boppo',\n",
      " 'stillDiving': True,\n",
      " 'yearsDiving': 11}\n",
      "---------------------------------------\n",
      "{'_id': ObjectId('6090416777c1698be4bb9f34'),\n",
      " 'bestFinds': ['Yoyo', 'Telescope', 'Lamp'],\n",
      " 'name': 'Daniella',\n",
      " 'stillDiving': False,\n",
      " 'yearsDiving': 3}\n",
      "---------------------------------------\n",
      "{'_id': ObjectId('6090417a77c1698be4bb9f35'),\n",
      " 'bestFinds': ['Half-Eaten Hamburger', 'Some Goop'],\n",
      " 'name': 'Boppo',\n",
      " 'stillDiving': True,\n",
      " 'yearsDiving': 11}\n",
      "---------------------------------------\n",
      "{'_id': ObjectId('6090437c6facf79bc1dbdfa3'),\n",
      " 'bestFinds': ['Yoyo', 'Telescope', 'Lamp'],\n",
      " 'name': 'Daniella',\n",
      " 'stillDiving': False,\n",
      " 'yearsDiving': 300}\n",
      "---------------------------------------\n",
      "{'_id': ObjectId('6090437d6facf79bc1dbdfa4'),\n",
      " 'bestFinds': ['Half-Eaten Hamburger', 'Some Goop'],\n",
      " 'name': 'Boppo',\n",
      " 'stillDiving': True,\n",
      " 'yearsDiving': 11}\n",
      "---------------------------------------\n"
     ]
    }
   ],
   "source": [
    "# Add an item to a document array\n",
    "db.divers.update_one(\n",
    "    {'name': 'Adam'},\n",
    "    {'$push':\n",
    "        {'bestFinds': 'Country music'}\n",
    "     }\n",
    ")\n",
    "\n",
    "# query the classroom collection\n",
    "divers = db.divers.find()\n",
    "\n",
    "# see change in collection\n",
    "# for diver in divers:\n",
    "#     print(diver)\n",
    "\n",
    "from pprint import pprint\n",
    "\n",
    "divers = db.divers.find({})\n",
    "for document in divers: \n",
    "    pprint(document)\n",
    "    print(\"---------------------------------------\")"
   ]
  },
  {
   "cell_type": "code",
   "execution_count": 10,
   "metadata": {},
   "outputs": [],
   "source": [
    "# Delete a field from a document\n",
    "db.classroom.update_one({'name': 'Boppo'},\n",
    "                        {'$unset':\n",
    "                         {'row': \"\"}\n",
    "                         }\n",
    "                        )\n",
    "\n",
    "# query the classroom collection\n",
    "classroom = db.classroom.find()\n",
    "\n",
    "# see change in collection\n",
    "for student in classroom:\n",
    "    print(student)"
   ]
  },
  {
   "cell_type": "code",
   "execution_count": 12,
   "metadata": {},
   "outputs": [],
   "source": [
    "# Delete a document from a collection\n",
    "db.classroom.delete_one(\n",
    "    {'name': 'Boppo'}\n",
    ")\n",
    "\n",
    "# query the classroom collection\n",
    "classroom = db.classroom.find()\n",
    "\n",
    "# see change in collection\n",
    "for student in classroom:\n",
    "    print(student)"
   ]
  },
  {
   "cell_type": "code",
   "execution_count": null,
   "metadata": {},
   "outputs": [],
   "source": []
  }
 ],
 "metadata": {
  "kernelspec": {
   "display_name": "Python 3",
   "language": "python",
   "name": "python3"
  },
  "language_info": {
   "codemirror_mode": {
    "name": "ipython",
    "version": 3
   },
   "file_extension": ".py",
   "mimetype": "text/x-python",
   "name": "python",
   "nbconvert_exporter": "python",
   "pygments_lexer": "ipython3",
   "version": "3.6.10"
  }
 },
 "nbformat": 4,
 "nbformat_minor": 2
}
