{
 "cells": [
  {
   "cell_type": "code",
   "execution_count": 6,
   "metadata": {},
   "outputs": [
    {
     "name": "stdout",
     "output_type": "stream",
     "text": [
      "Collecting splinterNote: you may need to restart the kernel to use updated packages.\n",
      "  Using cached splinter-0.14.0-py3-none-any.whl (36 kB)\n",
      "\n",
      "Requirement already satisfied: six in c:\\users\\admin\\anaconda3\\lib\\site-packages (from splinter) (1.15.0)\n",
      "Collecting selenium>=3.141.0\n",
      "  Using cached selenium-3.141.0-py2.py3-none-any.whl (904 kB)\n",
      "Requirement already satisfied: urllib3 in c:\\users\\admin\\anaconda3\\lib\\site-packages (from selenium>=3.141.0->splinter) (1.25.11)\n",
      "Installing collected packages: selenium, splinter\n",
      "Successfully installed selenium-3.141.0 splinter-0.14.0\n"
     ]
    }
   ],
   "source": [
    "# pip install splinter"
   ]
  },
  {
   "cell_type": "code",
   "execution_count": 8,
   "metadata": {},
   "outputs": [
    {
     "name": "stdout",
     "output_type": "stream",
     "text": [
      "Collecting webdriver_manager\n",
      "  Using cached webdriver_manager-3.4.0-py2.py3-none-any.whl (16 kB)\n",
      "Requirement already satisfied: requests in c:\\users\\admin\\anaconda3\\lib\\site-packages (from webdriver_manager) (2.24.0)\n",
      "Collecting crayons\n",
      "  Using cached crayons-0.4.0-py2.py3-none-any.whl (4.6 kB)\n",
      "Collecting configparser\n",
      "  Using cached configparser-5.0.2-py3-none-any.whl (19 kB)\n",
      "Requirement already satisfied: chardet<4,>=3.0.2 in c:\\users\\admin\\anaconda3\\lib\\site-packages (from requests->webdriver_manager) (3.0.4)\n",
      "Requirement already satisfied: urllib3!=1.25.0,!=1.25.1,<1.26,>=1.21.1 in c:\\users\\admin\\anaconda3\\lib\\site-packages (from requests->webdriver_manager) (1.25.11)\n",
      "Requirement already satisfied: certifi>=2017.4.17 in c:\\users\\admin\\anaconda3\\lib\\site-packages (from requests->webdriver_manager) (2020.6.20)\n",
      "Requirement already satisfied: idna<3,>=2.5 in c:\\users\\admin\\anaconda3\\lib\\site-packages (from requests->webdriver_manager) (2.10)\n",
      "Requirement already satisfied: colorama in c:\\users\\admin\\anaconda3\\lib\\site-packages (from crayons->webdriver_manager) (0.4.4)\n",
      "Installing collected packages: crayons, configparser, webdriver-manager\n",
      "Successfully installed configparser-5.0.2 crayons-0.4.0 webdriver-manager-3.4.0\n",
      "Note: you may need to restart the kernel to use updated packages.\n"
     ]
    }
   ],
   "source": [
    "# pip install webdriver_manager\n"
   ]
  },
  {
   "cell_type": "code",
   "execution_count": 1,
   "metadata": {
    "scrolled": false
   },
   "outputs": [],
   "source": [
    "from splinter import Browser\n",
    "from bs4 import BeautifulSoup\n",
    "from webdriver_manager.chrome import ChromeDriverManager"
   ]
  },
  {
   "cell_type": "code",
   "execution_count": 2,
   "metadata": {},
   "outputs": [
    {
     "name": "stderr",
     "output_type": "stream",
     "text": [
      "\n",
      "\n",
      "====== WebDriver manager ======\n",
      "Current google-chrome version is 90.0.4430\n",
      "Get LATEST driver version for 90.0.4430\n",
      "Driver [C:\\Users\\Admin\\.wdm\\drivers\\chromedriver\\win32\\90.0.4430.24\\chromedriver.exe] found in cache\n"
     ]
    }
   ],
   "source": [
    "executable_path = {'executable_path': ChromeDriverManager().install()}\n",
    "browser = Browser('chrome', **executable_path, headless=False)"
   ]
  },
  {
   "cell_type": "code",
   "execution_count": 3,
   "metadata": {},
   "outputs": [],
   "source": [
    "url = 'http://books.toscrape.com/'\n",
    "browser.visit(url)"
   ]
  },
  {
   "cell_type": "code",
   "execution_count": 5,
   "metadata": {},
   "outputs": [
    {
     "name": "stdout",
     "output_type": "stream",
     "text": [
      "-----------\n",
      "Frankenstein\n",
      "http://books.toscrape.com/frankenstein_20/index.html\n",
      "-----------\n",
      "Forever Rockers (The Rocker #12)\n",
      "http://books.toscrape.com/forever-rockers-the-rocker-12_19/index.html\n",
      "-----------\n",
      "Fighting Fate (Fighting #6)\n",
      "http://books.toscrape.com/fighting-fate-fighting-6_18/index.html\n",
      "-----------\n",
      "Emma\n",
      "http://books.toscrape.com/emma_17/index.html\n",
      "-----------\n",
      "Eat, Pray, Love\n",
      "http://books.toscrape.com/eat-pray-love_16/index.html\n",
      "-----------\n",
      "Deep Under (Walker Security #1)\n",
      "http://books.toscrape.com/deep-under-walker-security-1_15/index.html\n",
      "-----------\n",
      "Choosing Our Religion: The Spiritual Lives of America's Nones\n",
      "http://books.toscrape.com/choosing-our-religion-the-spiritual-lives-of-americas-nones_14/index.html\n",
      "-----------\n",
      "Charlie and the Chocolate Factory (Charlie Bucket #1)\n",
      "http://books.toscrape.com/charlie-and-the-chocolate-factory-charlie-bucket-1_13/index.html\n",
      "-----------\n",
      "Charity's Cross (Charles Towne Belles #4)\n",
      "http://books.toscrape.com/charitys-cross-charles-towne-belles-4_12/index.html\n",
      "-----------\n",
      "Bright Lines\n",
      "http://books.toscrape.com/bright-lines_11/index.html\n",
      "-----------\n",
      "Bridget Jones's Diary (Bridget Jones #1)\n",
      "http://books.toscrape.com/bridget-joness-diary-bridget-jones-1_10/index.html\n",
      "-----------\n",
      "Bounty (Colorado Mountain #7)\n",
      "http://books.toscrape.com/bounty-colorado-mountain-7_9/index.html\n",
      "-----------\n",
      "Blood Defense (Samantha Brinkman #1)\n",
      "http://books.toscrape.com/blood-defense-samantha-brinkman-1_8/index.html\n",
      "-----------\n",
      "Bleach, Vol. 1: Strawberry and the Soul Reapers (Bleach #1)\n",
      "http://books.toscrape.com/bleach-vol-1-strawberry-and-the-soul-reapers-bleach-1_7/index.html\n",
      "-----------\n",
      "Beyond Good and Evil\n",
      "http://books.toscrape.com/beyond-good-and-evil_6/index.html\n",
      "-----------\n",
      "Alice in Wonderland (Alice's Adventures in Wonderland #1)\n",
      "http://books.toscrape.com/alice-in-wonderland-alices-adventures-in-wonderland-1_5/index.html\n",
      "-----------\n",
      "Ajin: Demi-Human, Volume 1 (Ajin: Demi-Human #1)\n",
      "http://books.toscrape.com/ajin-demi-human-volume-1-ajin-demi-human-1_4/index.html\n",
      "-----------\n",
      "A Spy's Devotion (The Regency Spies of London #1)\n",
      "http://books.toscrape.com/a-spys-devotion-the-regency-spies-of-london-1_3/index.html\n",
      "-----------\n",
      "1st to Die (Women's Murder Club #1)\n",
      "http://books.toscrape.com/1st-to-die-womens-murder-club-1_2/index.html\n",
      "-----------\n",
      "1,000 Places to See Before You Die\n",
      "http://books.toscrape.com/1000-places-to-see-before-you-die_1/index.html\n",
      "Scraping Complete\n",
      "-----------\n",
      "Frankenstein\n",
      "http://books.toscrape.com/frankenstein_20/index.html\n",
      "-----------\n",
      "Forever Rockers (The Rocker #12)\n",
      "http://books.toscrape.com/forever-rockers-the-rocker-12_19/index.html\n",
      "-----------\n",
      "Fighting Fate (Fighting #6)\n",
      "http://books.toscrape.com/fighting-fate-fighting-6_18/index.html\n",
      "-----------\n",
      "Emma\n",
      "http://books.toscrape.com/emma_17/index.html\n",
      "-----------\n",
      "Eat, Pray, Love\n",
      "http://books.toscrape.com/eat-pray-love_16/index.html\n",
      "-----------\n",
      "Deep Under (Walker Security #1)\n",
      "http://books.toscrape.com/deep-under-walker-security-1_15/index.html\n",
      "-----------\n",
      "Choosing Our Religion: The Spiritual Lives of America's Nones\n",
      "http://books.toscrape.com/choosing-our-religion-the-spiritual-lives-of-americas-nones_14/index.html\n",
      "-----------\n",
      "Charlie and the Chocolate Factory (Charlie Bucket #1)\n",
      "http://books.toscrape.com/charlie-and-the-chocolate-factory-charlie-bucket-1_13/index.html\n",
      "-----------\n",
      "Charity's Cross (Charles Towne Belles #4)\n",
      "http://books.toscrape.com/charitys-cross-charles-towne-belles-4_12/index.html\n",
      "-----------\n",
      "Bright Lines\n",
      "http://books.toscrape.com/bright-lines_11/index.html\n",
      "-----------\n",
      "Bridget Jones's Diary (Bridget Jones #1)\n",
      "http://books.toscrape.com/bridget-joness-diary-bridget-jones-1_10/index.html\n",
      "-----------\n",
      "Bounty (Colorado Mountain #7)\n",
      "http://books.toscrape.com/bounty-colorado-mountain-7_9/index.html\n",
      "-----------\n",
      "Blood Defense (Samantha Brinkman #1)\n",
      "http://books.toscrape.com/blood-defense-samantha-brinkman-1_8/index.html\n",
      "-----------\n",
      "Bleach, Vol. 1: Strawberry and the Soul Reapers (Bleach #1)\n",
      "http://books.toscrape.com/bleach-vol-1-strawberry-and-the-soul-reapers-bleach-1_7/index.html\n",
      "-----------\n",
      "Beyond Good and Evil\n",
      "http://books.toscrape.com/beyond-good-and-evil_6/index.html\n",
      "-----------\n",
      "Alice in Wonderland (Alice's Adventures in Wonderland #1)\n",
      "http://books.toscrape.com/alice-in-wonderland-alices-adventures-in-wonderland-1_5/index.html\n",
      "-----------\n",
      "Ajin: Demi-Human, Volume 1 (Ajin: Demi-Human #1)\n",
      "http://books.toscrape.com/ajin-demi-human-volume-1-ajin-demi-human-1_4/index.html\n",
      "-----------\n",
      "A Spy's Devotion (The Regency Spies of London #1)\n",
      "http://books.toscrape.com/a-spys-devotion-the-regency-spies-of-london-1_3/index.html\n",
      "-----------\n",
      "1st to Die (Women's Murder Club #1)\n",
      "http://books.toscrape.com/1st-to-die-womens-murder-club-1_2/index.html\n",
      "-----------\n",
      "1,000 Places to See Before You Die\n",
      "http://books.toscrape.com/1000-places-to-see-before-you-die_1/index.html\n",
      "Scraping Complete\n"
     ]
    }
   ],
   "source": [
    "# Iterate through all pages\n",
    "for x in range(2):\n",
    "    # HTML object\n",
    "    html = browser.html\n",
    "    # Parse HTML with Beautiful Soup\n",
    "    soup = BeautifulSoup(html, 'html.parser')\n",
    "    # Retrieve all elements that contain book information\n",
    "    articles = soup.find_all('article', class_='product_pod')\n",
    "\n",
    "    # Iterate through each book\n",
    "    for article in articles:\n",
    "        # Use Beautiful Soup's find() method to navigate and retrieve attributes\n",
    "        h3 = article.find('h3')\n",
    "        link = h3.find('a')\n",
    "        href = link['href']\n",
    "        title = link['title']\n",
    "        print('-----------')\n",
    "        print(title)\n",
    "        print('http://books.toscrape.com/' + href)\n",
    "\n",
    "    # Click the 'Next' button on each page\n",
    "    try:\n",
    "        browser.links.find_by_partial_text('next').click()\n",
    "          \n",
    "    except:\n",
    "        print(\"Scraping Complete\")\n"
   ]
  },
  {
   "cell_type": "code",
   "execution_count": 6,
   "metadata": {},
   "outputs": [],
   "source": [
    "browser.quit()"
   ]
  },
  {
   "cell_type": "code",
   "execution_count": null,
   "metadata": {},
   "outputs": [],
   "source": []
  },
  {
   "cell_type": "code",
   "execution_count": null,
   "metadata": {},
   "outputs": [],
   "source": []
  }
 ],
 "metadata": {
  "kernelspec": {
   "display_name": "Python 3",
   "language": "python",
   "name": "python3"
  },
  "language_info": {
   "codemirror_mode": {
    "name": "ipython",
    "version": 3
   },
   "file_extension": ".py",
   "mimetype": "text/x-python",
   "name": "python",
   "nbconvert_exporter": "python",
   "pygments_lexer": "ipython3",
   "version": "3.6.10"
  },
  "varInspector": {
   "cols": {
    "lenName": 16,
    "lenType": 16,
    "lenVar": 40
   },
   "kernels_config": {
    "python": {
     "delete_cmd_postfix": "",
     "delete_cmd_prefix": "del ",
     "library": "var_list.py",
     "varRefreshCmd": "print(var_dic_list())"
    },
    "r": {
     "delete_cmd_postfix": ") ",
     "delete_cmd_prefix": "rm(",
     "library": "var_list.r",
     "varRefreshCmd": "cat(var_dic_list()) "
    }
   },
   "types_to_exclude": [
    "module",
    "function",
    "builtin_function_or_method",
    "instance",
    "_Feature"
   ],
   "window_display": false
  }
 },
 "nbformat": 4,
 "nbformat_minor": 2
}
