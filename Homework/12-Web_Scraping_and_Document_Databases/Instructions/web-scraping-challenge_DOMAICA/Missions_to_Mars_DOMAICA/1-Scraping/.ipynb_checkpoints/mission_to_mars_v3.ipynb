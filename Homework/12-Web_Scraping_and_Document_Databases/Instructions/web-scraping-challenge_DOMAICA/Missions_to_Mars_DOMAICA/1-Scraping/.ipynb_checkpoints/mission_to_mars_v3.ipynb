{
 "cells": [
  {
   "cell_type": "code",
   "execution_count": 151,
   "metadata": {},
   "outputs": [],
   "source": [
    "# Import BeautifulSoup\n",
    "from splinter import Browser\n",
    "from bs4 import BeautifulSoup\n",
    "from webdriver_manager.chrome import ChromeDriverManager\n",
    "\n",
    "import os\n",
    "import pandas as pd\n",
    "import time"
   ]
  },
  {
   "cell_type": "code",
   "execution_count": 152,
   "metadata": {
    "scrolled": true
   },
   "outputs": [
    {
     "name": "stderr",
     "output_type": "stream",
     "text": [
      "\n",
      "\n",
      "====== WebDriver manager ======\n",
      "Current google-chrome version is 90.0.4430\n",
      "Get LATEST driver version for 90.0.4430\n",
      "Driver [C:\\Users\\Admin\\.wdm\\drivers\\chromedriver\\win32\\90.0.4430.24\\chromedriver.exe] found in cache\n"
     ]
    }
   ],
   "source": [
    "# Import Splinter and set the chromedriver path\n",
    "# from splinter import Browser\n",
    "# executable_path = {\"executable_path\": \"/usr/local/bin/chromedriver\"}\n",
    "executable_path = {'executable_path': ChromeDriverManager().install()}\n",
    "browser = Browser(\"chrome\", **executable_path, headless=False)"
   ]
  },
  {
   "cell_type": "markdown",
   "metadata": {},
   "source": [
    "## Step 1 - Scraping"
   ]
  },
  {
   "cell_type": "markdown",
   "metadata": {},
   "source": [
    "### NASA Mars Latest News"
   ]
  },
  {
   "cell_type": "code",
   "execution_count": 153,
   "metadata": {
    "scrolled": true
   },
   "outputs": [],
   "source": [
    "# Visit the NASA news page indicated by instructions\n",
    "url = 'https://mars.nasa.gov/news/'\n",
    "browser.visit(url)"
   ]
  },
  {
   "cell_type": "code",
   "execution_count": 154,
   "metadata": {},
   "outputs": [],
   "source": [
    "# HTML Object\n",
    "html = browser.html\n",
    "\n",
    "# Parse HTML with Beautiful Soup\n",
    "soup = BeautifulSoup(html, 'html.parser')\n",
    "# print(soup)"
   ]
  },
  {
   "cell_type": "code",
   "execution_count": 155,
   "metadata": {},
   "outputs": [
    {
     "data": {
      "text/plain": [
       "<li class=\"slide\"><div class=\"image_and_description_container\"><a href=\"/news/8936/nasas-ingenuity-helicopter-to-begin-new-demonstration-phase/\" target=\"_self\"><div class=\"rollover_description\"><div class=\"rollover_description_inner\">The Red Planet rotorcraft will shift focus from proving flight is possible on Mars to demonstrating flight operations that future aerial craft could utilize.</div><div class=\"overlay_arrow\"><img alt=\"More\" src=\"/assets/overlay-arrow.png\"/></div></div><div class=\"list_image\"><img alt=\"Perseverance's Selfie with Ingenuity\" src=\"/system/news_items/list_view_images/8936_First_selfie_animation_320.jpg\"/></div><div class=\"bottom_gradient\"><div><h3>NASA's Ingenuity Helicopter to Begin New Demonstration Phase</h3></div></div></a><div class=\"list_text\"><div class=\"list_date\">April 30, 2021</div><div class=\"content_title\"><a href=\"/news/8936/nasas-ingenuity-helicopter-to-begin-new-demonstration-phase/\" target=\"_self\">NASA's Ingenuity Helicopter to Begin New Demonstration Phase</a></div><div class=\"article_teaser_body\">The Red Planet rotorcraft will shift focus from proving flight is possible on Mars to demonstrating flight operations that future aerial craft could utilize.</div></div></div></li>"
      ]
     },
     "execution_count": 155,
     "metadata": {},
     "output_type": "execute_result"
    }
   ],
   "source": [
    "# Retrieve the latest element that contains news title and news_paragraph\n",
    "# results = soup.find('div', class_='content_title')\n",
    "\n",
    "# select function instead of find give you a different way navigating through an HTML tree \n",
    "# using the CSS selectors which have easier syntax.\n",
    "results = soup.select_one(\"ul.item_list li.slide\")\n",
    "results"
   ]
  },
  {
   "cell_type": "code",
   "execution_count": 156,
   "metadata": {},
   "outputs": [
    {
     "name": "stdout",
     "output_type": "stream",
     "text": [
      "---------------------------------------------------------------------\n",
      "Latest title: NASA's Ingenuity Helicopter to Begin New Demonstration Phase\n",
      "---------------------------------------------------------------------\n",
      "The Red Planet rotorcraft will shift focus from proving flight is possible on Mars to demonstrating flight operations that future aerial craft could utilize.\n"
     ]
    }
   ],
   "source": [
    "# loop over results to get article data\n",
    "# for result in results:\n",
    "   # scrape the article title \n",
    "    news_title = results.find('div', class_='content_title').text\n",
    "    \n",
    "    # scrape the article subheader / paragraph\n",
    "    news_paragraph = results.find('div', class_='article_teaser_body').text\n",
    "    \n",
    "    # print latest title and paragraph\n",
    "    print('---------------------------------------------------------------------')\n",
    "    print(f\"Latest title: {news_title}\")\n",
    "    print('---------------------------------------------------------------------')\n",
    "    print(news_paragraph)"
   ]
  },
  {
   "cell_type": "markdown",
   "metadata": {},
   "source": [
    "### JPL Mars Space Images - Featured Image"
   ]
  },
  {
   "cell_type": "code",
   "execution_count": 157,
   "metadata": {},
   "outputs": [],
   "source": [
    "# Visit Mars Space Images through splinter module\n",
    "# url = 'https://www.jpl.nasa.gov/spaceimages/?search=&category=Mars'\n",
    "# browser.visit(url)"
   ]
  },
  {
   "cell_type": "code",
   "execution_count": 158,
   "metadata": {},
   "outputs": [],
   "source": [
    "# Visit Mars Space Images through splinter module\n",
    "url = 'https://spaceimages-mars.com/'\n",
    "browser.visit(url)"
   ]
  },
  {
   "cell_type": "code",
   "execution_count": 159,
   "metadata": {},
   "outputs": [],
   "source": [
    "# HTML Object \n",
    "html = browser.html\n",
    "# Parse HTML with Beautiful Soup\n",
    "soup = BeautifulSoup(html, 'html.parser')"
   ]
  },
  {
   "cell_type": "code",
   "execution_count": 160,
   "metadata": {},
   "outputs": [
    {
     "name": "stdout",
     "output_type": "stream",
     "text": [
      "featured_image_url:  https://spaceimages-mars.com/image/featured/mars3.jpg\n"
     ]
    }
   ],
   "source": [
    "results = soup.find_all('img', class_=\"headerimage fade-in\")\n",
    "\n",
    "# results = soup.find_all('button')\n",
    "\n",
    "# results = soup.select_one(\"ul li\")\n",
    "\n",
    "# image_url= soup.select_one(\"btn.btn-outline-light\")\n",
    "# print(results)\n",
    "\n",
    "\n",
    "for result in results:\n",
    "#     print(results)\n",
    "#     print(result['src'])\n",
    "      featured_image_url = result['src']\n",
    "#       print(featured_image_url)\n",
    "\n",
    "# Website Url \n",
    "main_url = 'https://spaceimages-mars.com/'\n",
    "\n",
    "# Concatenate website url with scrapped route\n",
    "featured_image_url = main_url + featured_image_url\n",
    "\n",
    "# Display full link to featured image\n",
    "print(f'featured_image_url:  ' + featured_image_url)\n",
    "    \n",
    "#     print('---------------------------------------------------------------------')\n",
    "\n",
    "# base_link = \"https:\"+jpl_soup.find('div', class_='jpl_logo').a['href'].rstrip('/')\n",
    "# feature_url = base_link+image_url\n",
    "# featured_image_title = jpl_soup.find('h1', class_=\"media_feature_title\").text.strip()\n",
    "# print(f'Featured image title is:{featured_image_title}')\n",
    "# print(f'Featured image url is:{feature_url}')"
   ]
  },
  {
   "cell_type": "markdown",
   "metadata": {},
   "source": [
    "### Mars Facts"
   ]
  },
  {
   "cell_type": "code",
   "execution_count": 161,
   "metadata": {},
   "outputs": [],
   "source": [
    "# Visit Mars Space Images through splinter module\n",
    "url = 'https://galaxyfacts-mars.com/'\n",
    "browser.visit(url)"
   ]
  },
  {
   "cell_type": "code",
   "execution_count": 162,
   "metadata": {},
   "outputs": [
    {
     "data": {
      "text/plain": [
       "[                         0                1                2\n",
       " 0  Mars - Earth Comparison             Mars            Earth\n",
       " 1                Diameter:         6,779 km        12,742 km\n",
       " 2                    Mass:  6.39 × 10^23 kg  5.97 × 10^24 kg\n",
       " 3                   Moons:                2                1\n",
       " 4       Distance from Sun:   227,943,824 km   149,598,262 km\n",
       " 5          Length of Year:   687 Earth days      365.24 days\n",
       " 6             Temperature:     -87 to -5 °C      -88 to 58°C,\n",
       "                       0                              1\n",
       " 0  Equatorial Diameter:                       6,792 km\n",
       " 1       Polar Diameter:                       6,752 km\n",
       " 2                 Mass:  6.39 × 10^23 kg (0.11 Earths)\n",
       " 3                Moons:          2 ( Phobos & Deimos )\n",
       " 4       Orbit Distance:       227,943,824 km (1.38 AU)\n",
       " 5         Orbit Period:           687 days (1.9 years)\n",
       " 6  Surface Temperature:                   -87 to -5 °C\n",
       " 7         First Record:              2nd millennium BC\n",
       " 8          Recorded By:           Egyptian astronomers]"
      ]
     },
     "execution_count": 162,
     "metadata": {},
     "output_type": "execute_result"
    }
   ],
   "source": [
    "extraction_df = pd.read_html(url)\n",
    "# table[1]\n",
    "extraction_df"
   ]
  },
  {
   "cell_type": "code",
   "execution_count": 163,
   "metadata": {},
   "outputs": [
    {
     "data": {
      "text/html": [
       "<div>\n",
       "<style scoped>\n",
       "    .dataframe tbody tr th:only-of-type {\n",
       "        vertical-align: middle;\n",
       "    }\n",
       "\n",
       "    .dataframe tbody tr th {\n",
       "        vertical-align: top;\n",
       "    }\n",
       "\n",
       "    .dataframe thead th {\n",
       "        text-align: right;\n",
       "    }\n",
       "</style>\n",
       "<table border=\"1\" class=\"dataframe\">\n",
       "  <thead>\n",
       "    <tr style=\"text-align: right;\">\n",
       "      <th></th>\n",
       "      <th>0</th>\n",
       "      <th>1</th>\n",
       "    </tr>\n",
       "  </thead>\n",
       "  <tbody>\n",
       "    <tr>\n",
       "      <th>0</th>\n",
       "      <td>Equatorial Diameter:</td>\n",
       "      <td>6,792 km</td>\n",
       "    </tr>\n",
       "    <tr>\n",
       "      <th>1</th>\n",
       "      <td>Polar Diameter:</td>\n",
       "      <td>6,752 km</td>\n",
       "    </tr>\n",
       "    <tr>\n",
       "      <th>2</th>\n",
       "      <td>Mass:</td>\n",
       "      <td>6.39 × 10^23 kg (0.11 Earths)</td>\n",
       "    </tr>\n",
       "    <tr>\n",
       "      <th>3</th>\n",
       "      <td>Moons:</td>\n",
       "      <td>2 ( Phobos &amp; Deimos )</td>\n",
       "    </tr>\n",
       "    <tr>\n",
       "      <th>4</th>\n",
       "      <td>Orbit Distance:</td>\n",
       "      <td>227,943,824 km (1.38 AU)</td>\n",
       "    </tr>\n",
       "    <tr>\n",
       "      <th>5</th>\n",
       "      <td>Orbit Period:</td>\n",
       "      <td>687 days (1.9 years)</td>\n",
       "    </tr>\n",
       "    <tr>\n",
       "      <th>6</th>\n",
       "      <td>Surface Temperature:</td>\n",
       "      <td>-87 to -5 °C</td>\n",
       "    </tr>\n",
       "    <tr>\n",
       "      <th>7</th>\n",
       "      <td>First Record:</td>\n",
       "      <td>2nd millennium BC</td>\n",
       "    </tr>\n",
       "    <tr>\n",
       "      <th>8</th>\n",
       "      <td>Recorded By:</td>\n",
       "      <td>Egyptian astronomers</td>\n",
       "    </tr>\n",
       "  </tbody>\n",
       "</table>\n",
       "</div>"
      ],
      "text/plain": [
       "                      0                              1\n",
       "0  Equatorial Diameter:                       6,792 km\n",
       "1       Polar Diameter:                       6,752 km\n",
       "2                 Mass:  6.39 × 10^23 kg (0.11 Earths)\n",
       "3                Moons:          2 ( Phobos & Deimos )\n",
       "4       Orbit Distance:       227,943,824 km (1.38 AU)\n",
       "5         Orbit Period:           687 days (1.9 years)\n",
       "6  Surface Temperature:                   -87 to -5 °C\n",
       "7         First Record:              2nd millennium BC\n",
       "8          Recorded By:           Egyptian astronomers"
      ]
     },
     "execution_count": 163,
     "metadata": {},
     "output_type": "execute_result"
    }
   ],
   "source": [
    "mars_facts_df = extraction_df[1]\n",
    "mars_facts_df"
   ]
  },
  {
   "cell_type": "code",
   "execution_count": 164,
   "metadata": {},
   "outputs": [
    {
     "data": {
      "text/plain": [
       "Int64Index([0, 1], dtype='int64')"
      ]
     },
     "execution_count": 164,
     "metadata": {},
     "output_type": "execute_result"
    }
   ],
   "source": [
    "mars_facts_df.columns"
   ]
  },
  {
   "cell_type": "code",
   "execution_count": 165,
   "metadata": {
    "scrolled": true
   },
   "outputs": [
    {
     "data": {
      "text/html": [
       "<div>\n",
       "<style scoped>\n",
       "    .dataframe tbody tr th:only-of-type {\n",
       "        vertical-align: middle;\n",
       "    }\n",
       "\n",
       "    .dataframe tbody tr th {\n",
       "        vertical-align: top;\n",
       "    }\n",
       "\n",
       "    .dataframe thead th {\n",
       "        text-align: right;\n",
       "    }\n",
       "</style>\n",
       "<table border=\"1\" class=\"dataframe\">\n",
       "  <thead>\n",
       "    <tr style=\"text-align: right;\">\n",
       "      <th></th>\n",
       "      <th>Mars facts</th>\n",
       "      <th>Data/Description</th>\n",
       "    </tr>\n",
       "  </thead>\n",
       "  <tbody>\n",
       "    <tr>\n",
       "      <th>0</th>\n",
       "      <td>Equatorial Diameter:</td>\n",
       "      <td>6,792 km</td>\n",
       "    </tr>\n",
       "    <tr>\n",
       "      <th>1</th>\n",
       "      <td>Polar Diameter:</td>\n",
       "      <td>6,752 km</td>\n",
       "    </tr>\n",
       "    <tr>\n",
       "      <th>2</th>\n",
       "      <td>Mass:</td>\n",
       "      <td>6.39 × 10^23 kg (0.11 Earths)</td>\n",
       "    </tr>\n",
       "    <tr>\n",
       "      <th>3</th>\n",
       "      <td>Moons:</td>\n",
       "      <td>2 ( Phobos &amp; Deimos )</td>\n",
       "    </tr>\n",
       "    <tr>\n",
       "      <th>4</th>\n",
       "      <td>Orbit Distance:</td>\n",
       "      <td>227,943,824 km (1.38 AU)</td>\n",
       "    </tr>\n",
       "    <tr>\n",
       "      <th>5</th>\n",
       "      <td>Orbit Period:</td>\n",
       "      <td>687 days (1.9 years)</td>\n",
       "    </tr>\n",
       "    <tr>\n",
       "      <th>6</th>\n",
       "      <td>Surface Temperature:</td>\n",
       "      <td>-87 to -5 °C</td>\n",
       "    </tr>\n",
       "    <tr>\n",
       "      <th>7</th>\n",
       "      <td>First Record:</td>\n",
       "      <td>2nd millennium BC</td>\n",
       "    </tr>\n",
       "    <tr>\n",
       "      <th>8</th>\n",
       "      <td>Recorded By:</td>\n",
       "      <td>Egyptian astronomers</td>\n",
       "    </tr>\n",
       "  </tbody>\n",
       "</table>\n",
       "</div>"
      ],
      "text/plain": [
       "             Mars facts               Data/Description\n",
       "0  Equatorial Diameter:                       6,792 km\n",
       "1       Polar Diameter:                       6,752 km\n",
       "2                 Mass:  6.39 × 10^23 kg (0.11 Earths)\n",
       "3                Moons:          2 ( Phobos & Deimos )\n",
       "4       Orbit Distance:       227,943,824 km (1.38 AU)\n",
       "5         Orbit Period:           687 days (1.9 years)\n",
       "6  Surface Temperature:                   -87 to -5 °C\n",
       "7         First Record:              2nd millennium BC\n",
       "8          Recorded By:           Egyptian astronomers"
      ]
     },
     "execution_count": 165,
     "metadata": {},
     "output_type": "execute_result"
    }
   ],
   "source": [
    "# mars_facts_df.columns['Mars facts', 'Data/Description']\n",
    "mars_facts_df.rename(columns={0:'Mars facts', 1:'Data/Description'}, inplace=True)\n",
    "mars_facts_df"
   ]
  },
  {
   "cell_type": "code",
   "execution_count": 166,
   "metadata": {},
   "outputs": [
    {
     "data": {
      "text/plain": [
       "'<table border=\"1\" class=\"dataframe\">\\n  <thead>\\n    <tr style=\"text-align: right;\">\\n      <th>Mars facts</th>\\n      <th>Data/Description</th>\\n    </tr>\\n  </thead>\\n  <tbody>\\n    <tr>\\n      <td>Equatorial Diameter:</td>\\n      <td>6,792 km</td>\\n    </tr>\\n    <tr>\\n      <td>Polar Diameter:</td>\\n      <td>6,752 km</td>\\n    </tr>\\n    <tr>\\n      <td>Mass:</td>\\n      <td>6.39 × 10^23 kg (0.11 Earths)</td>\\n    </tr>\\n    <tr>\\n      <td>Moons:</td>\\n      <td>2 ( Phobos &amp; Deimos )</td>\\n    </tr>\\n    <tr>\\n      <td>Orbit Distance:</td>\\n      <td>227,943,824 km (1.38 AU)</td>\\n    </tr>\\n    <tr>\\n      <td>Orbit Period:</td>\\n      <td>687 days (1.9 years)</td>\\n    </tr>\\n    <tr>\\n      <td>Surface Temperature:</td>\\n      <td>-87 to -5 °C</td>\\n    </tr>\\n    <tr>\\n      <td>First Record:</td>\\n      <td>2nd millennium BC</td>\\n    </tr>\\n    <tr>\\n      <td>Recorded By:</td>\\n      <td>Egyptian astronomers</td>\\n    </tr>\\n  </tbody>\\n</table>'"
      ]
     },
     "execution_count": 166,
     "metadata": {},
     "output_type": "execute_result"
    }
   ],
   "source": [
    "# mars_html_table = df_mars_facts.to_html()\n",
    "# mars_fact_html = mars_facts_df.to_html(header=False, index=False)\n",
    "mars_fact_html = mars_facts_df.to_html(index=False)\n",
    "mars_fact_html"
   ]
  },
  {
   "cell_type": "code",
   "execution_count": 167,
   "metadata": {},
   "outputs": [],
   "source": [
    "# write html to file\n",
    "# Note: The HTML file 'mars_detailed_facts.html' will be created \n",
    "# with HTML data in the current working directory\n",
    "text_file = open(\"mars_detailed_facts.html\", \"w\", encoding='utf-8')\n",
    "text_file.write(mars_fact_html)\n",
    "text_file.close()"
   ]
  },
  {
   "cell_type": "markdown",
   "metadata": {},
   "source": [
    "### Mars Hemispheres"
   ]
  },
  {
   "cell_type": "code",
   "execution_count": 168,
   "metadata": {},
   "outputs": [],
   "source": [
    "url = \"https://marshemispheres.com/\"\n",
    "browser.visit(url)"
   ]
  },
  {
   "cell_type": "code",
   "execution_count": 169,
   "metadata": {},
   "outputs": [],
   "source": [
    "# HTML Object\n",
    "html = browser.html\n",
    "\n",
    "# Parse HTML with Beautiful Soup\n",
    "soup = BeautifulSoup(html, 'html.parser')"
   ]
  },
  {
   "cell_type": "code",
   "execution_count": 176,
   "metadata": {},
   "outputs": [
    {
     "data": {
      "text/plain": [
       "[<div class=\"collapsible results\">\n",
       " <div class=\"item\">\n",
       " <a class=\"itemLink product-item\" href=\"cerberus.html\"><img alt=\"Cerberus Hemisphere Enhanced thumbnail\" class=\"thumb\" src=\"images/39d3266553462198bd2fbc4d18fbed17_cerberus_enhanced.tif_thumb.png\"/></a>\n",
       " <div class=\"description\">\n",
       " <a class=\"itemLink product-item\" href=\"cerberus.html\">\n",
       " <h3>Cerberus Hemisphere Enhanced</h3>\n",
       " </a>\n",
       " <span class=\"subtitle\" style=\"float:left\">image/tiff 21 MB</span><span class=\"pubDate\" style=\"float:right\"></span><br/>\n",
       " <p>Mosaic of the Cerberus hemisphere of Mars projected into point perspective, a view similar to that which one would see from a spacecraft. This mosaic is composed of 104 Viking Orbiter images acquired…</p>\n",
       " </div>\n",
       " <!-- end description -->\n",
       " </div>\n",
       " <div class=\"item\">\n",
       " <a class=\"itemLink product-item\" href=\"schiaparelli.html\"><img alt=\"Schiaparelli Hemisphere Enhanced thumbnail\" class=\"thumb\" src=\"images/08eac6e22c07fb1fe72223a79252de20_schiaparelli_enhanced.tif_thumb.png\"/></a>\n",
       " <div class=\"description\">\n",
       " <a class=\"itemLink product-item\" href=\"schiaparelli.html\">\n",
       " <h3>Schiaparelli Hemisphere Enhanced</h3>\n",
       " </a>\n",
       " <span class=\"subtitle\" style=\"float:left\">image/tiff 35 MB</span><span class=\"pubDate\" style=\"float:right\"></span><br/>\n",
       " <p>Mosaic of the Schiaparelli hemisphere of Mars projected into point perspective, a view similar to that which one would see from a spacecraft. The images were acquired in 1980 during early northern…</p>\n",
       " </div>\n",
       " <!-- end description -->\n",
       " </div>\n",
       " <div class=\"item\">\n",
       " <a class=\"itemLink product-item\" href=\"syrtis.html\"><img alt=\"Syrtis Major Hemisphere Enhanced thumbnail\" class=\"thumb\" src=\"images/55a0a1e2796313fdeafb17c35925e8ac_syrtis_major_enhanced.tif_thumb.png\"/></a>\n",
       " <div class=\"description\">\n",
       " <a class=\"itemLink product-item\" href=\"syrtis.html\">\n",
       " <h3>Syrtis Major Hemisphere Enhanced</h3>\n",
       " </a>\n",
       " <span class=\"subtitle\" style=\"float:left\">image/tiff 25 MB</span><span class=\"pubDate\" style=\"float:right\"></span><br/>\n",
       " <p>Mosaic of the Syrtis Major hemisphere of Mars projected into point perspective, a view similar to that which one would see from a spacecraft. This mosaic is composed of about 100 red and violet…</p>\n",
       " </div>\n",
       " <!-- end description -->\n",
       " </div>\n",
       " <div class=\"item\">\n",
       " <a class=\"itemLink product-item\" href=\"valles.html\"><img alt=\"Valles Marineris Hemisphere Enhanced thumbnail\" class=\"thumb\" src=\"images/4e59980c1c57f89c680c0e1ccabbeff1_valles_marineris_enhanced.tif_thumb.png\"/></a>\n",
       " <div class=\"description\">\n",
       " <a class=\"itemLink product-item\" href=\"valles.html\">\n",
       " <h3>Valles Marineris Hemisphere Enhanced</h3>\n",
       " </a>\n",
       " <span class=\"subtitle\" style=\"float:left\">image/tiff 27 MB</span><span class=\"pubDate\" style=\"float:right\"></span><br/>\n",
       " <p>Mosaic of the Valles Marineris hemisphere of Mars projected into point perspective, a view similar to that which one would see from a spacecraft. The distance is 2500 kilometers from the surface of…</p>\n",
       " </div>\n",
       " <!-- end description -->\n",
       " </div>\n",
       " </div>]"
      ]
     },
     "execution_count": 176,
     "metadata": {},
     "output_type": "execute_result"
    }
   ],
   "source": [
    "# results = soup.find_all(\"div\",class_='description')\n",
    "results = soup.find_all('div', class_=\"collapsible results\")\n",
    "results"
   ]
  },
  {
   "cell_type": "markdown",
   "metadata": {},
   "source": [
    "### Titles"
   ]
  },
  {
   "cell_type": "code",
   "execution_count": 175,
   "metadata": {},
   "outputs": [
    {
     "data": {
      "text/plain": [
       "['Cerberus Hemisphere Enhanced',\n",
       " 'Schiaparelli Hemisphere Enhanced',\n",
       " 'Syrtis Major Hemisphere Enhanced',\n",
       " 'Valles Marineris Hemisphere Enhanced']"
      ]
     },
     "execution_count": 175,
     "metadata": {},
     "output_type": "execute_result"
    }
   ],
   "source": [
    "hemi_names = []\n",
    "\n",
    "# Search for the names of all four hemispheres\n",
    "results = soup.find_all('div', class_=\"collapsible results\")\n",
    "hemispheres = results[0].find_all('h3')\n",
    "\n",
    "# Get text and store in list\n",
    "for name in hemispheres:\n",
    "    hemi_names.append(name.text)\n",
    "\n",
    "hemi_names"
   ]
  },
  {
   "cell_type": "code",
   "execution_count": 182,
   "metadata": {},
   "outputs": [
    {
     "data": {
      "text/plain": [
       "['https://marshemispheres.com/cerberus.html',\n",
       " 'https://marshemispheres.com/schiaparelli.html',\n",
       " 'https://marshemispheres.com/syrtis.html',\n",
       " 'https://marshemispheres.com/valles.html']"
      ]
     },
     "execution_count": 182,
     "metadata": {},
     "output_type": "execute_result"
    }
   ],
   "source": [
    "# Search for thumbnail links\n",
    "thumbnail_results = results[0].find_all('a')\n",
    "thumbnail_links = []\n",
    "base_url = \"https://marshemispheres.com/\"\n",
    "\n",
    "for thumbnail in thumbnail_results:\n",
    "    \n",
    "    # If the thumbnail element has an image...\n",
    "    if (thumbnail.img):\n",
    "        \n",
    "        # then grab the attached link\n",
    "#         thumbnail_url = 'https://astrogeology.usgs.gov/' + thumbnail['href']\n",
    "        thumbnail_url = base_url + thumbnail['href']\n",
    "        \n",
    "        # Append list with links\n",
    "        thumbnail_links.append(thumbnail_url)\n",
    "\n",
    "thumbnail_links"
   ]
  },
  {
   "cell_type": "code",
   "execution_count": 184,
   "metadata": {},
   "outputs": [
    {
     "data": {
      "text/plain": [
       "['https://marshemispheres.com/images/f5e372a36edfa389625da6d0cc25d905_cerberus_enhanced.tif_full.jpg',\n",
       " 'https://marshemispheres.com/images/3778f7b43bbbc89d6e3cfabb3613ba93_schiaparelli_enhanced.tif_full.jpg',\n",
       " 'https://marshemispheres.com/images/555e6403a6ddd7ba16ddb0e471cadcf7_syrtis_major_enhanced.tif_full.jpg',\n",
       " 'https://marshemispheres.com/images/b3c7c6c9138f57b4756be9b9c43e3a48_valles_marineris_enhanced.tif_full.jpg']"
      ]
     },
     "execution_count": 184,
     "metadata": {},
     "output_type": "execute_result"
    }
   ],
   "source": [
    "full_imgs = []\n",
    "\n",
    "for url in thumbnail_links:\n",
    "    \n",
    "    # Click through each thumbnail link\n",
    "    browser.visit(url)\n",
    "    \n",
    "    html = browser.html\n",
    "    # Parse HTML with Beautiful Soup\n",
    "    soup = BeautifulSoup(html, 'html.parser')\n",
    "    \n",
    "    # Scrape each page for the relative image path\n",
    "    results = soup.find_all('img', class_='wide-image')\n",
    "    relative_img_path = results[0]['src']\n",
    "    \n",
    "    # Combine the reltaive image path to get the full url\n",
    "    img_link = base_url + relative_img_path\n",
    "    \n",
    "    # Add full image links to a list\n",
    "    full_imgs.append(img_link)\n",
    "\n",
    "full_imgs"
   ]
  },
  {
   "cell_type": "markdown",
   "metadata": {},
   "source": [
    "### Create a dictionary"
   ]
  },
  {
   "cell_type": "code",
   "execution_count": 185,
   "metadata": {},
   "outputs": [
    {
     "data": {
      "text/plain": [
       "[{'title': 'Cerberus Hemisphere Enhanced',\n",
       "  'img_url': 'https://marshemispheres.com/images/f5e372a36edfa389625da6d0cc25d905_cerberus_enhanced.tif_full.jpg'},\n",
       " {'title': 'Schiaparelli Hemisphere Enhanced',\n",
       "  'img_url': 'https://marshemispheres.com/images/3778f7b43bbbc89d6e3cfabb3613ba93_schiaparelli_enhanced.tif_full.jpg'},\n",
       " {'title': 'Syrtis Major Hemisphere Enhanced',\n",
       "  'img_url': 'https://marshemispheres.com/images/555e6403a6ddd7ba16ddb0e471cadcf7_syrtis_major_enhanced.tif_full.jpg'},\n",
       " {'title': 'Valles Marineris Hemisphere Enhanced',\n",
       "  'img_url': 'https://marshemispheres.com/images/b3c7c6c9138f57b4756be9b9c43e3a48_valles_marineris_enhanced.tif_full.jpg'}]"
      ]
     },
     "execution_count": 185,
     "metadata": {},
     "output_type": "execute_result"
    }
   ],
   "source": [
    "# Zip together the list of hemisphere names and hemisphere image links\n",
    "mars_hemi_zip = zip(hemi_names, full_imgs)\n",
    "\n",
    "hemisphere_image_urls = []\n",
    "\n",
    "# Iterate through the zipped object\n",
    "for title, img in mars_hemi_zip:\n",
    "    \n",
    "    mars_hemi_dict = {}\n",
    "    \n",
    "    # Add hemisphere title to dictionary\n",
    "    mars_hemi_dict['title'] = title\n",
    "    \n",
    "    # Add image url to dictionary\n",
    "    mars_hemi_dict['img_url'] = img\n",
    "    \n",
    "    # Append the list with dictionaries\n",
    "    hemisphere_image_urls.append(mars_hemi_dict)\n",
    "\n",
    "hemisphere_image_urls"
   ]
  },
  {
   "cell_type": "code",
   "execution_count": null,
   "metadata": {},
   "outputs": [],
   "source": []
  },
  {
   "cell_type": "code",
   "execution_count": 179,
   "metadata": {},
   "outputs": [],
   "source": [
    "# # --- create an empty list to store the python dictionary ---\n",
    "# hemisphere_image_data = []\n",
    "\n",
    "# # --- loop through each div item to get hemisphere data ---\n",
    "# for hemisphere in range(len(results)):\n",
    "\n",
    "#     # --- use splinter's browser to click on each hemisphere's link in order to retrieve image data ---\n",
    "#     hem_link = browser.find_by_css(\"a.product-item h3\")\n",
    "#     hem_link[hemisphere].click()\n",
    "#     time.sleep(1)\n",
    "    \n",
    "#     # --- create a beautiful soup object with the image detail page's html ---\n",
    "#     img_detail_html = browser.html\n",
    "#     imagesoup = BeautifulSoup(img_detail_html, 'html.parser')\n",
    "    \n",
    "#     # --- create the base url for the fullsize image link ---\n",
    "#     base_url = 'https://astrogeology.usgs.gov'\n",
    "    \n",
    "#     # --- retrieve the full-res image url and save into a variable ---\n",
    "#     hem_url = imagesoup.find('img', class_=\"wide-image\")['src']\n",
    "    \n",
    "#     # --- complete the featured image url by adding the base url ---\n",
    "#     img_url = base_url + hem_url\n",
    "\n",
    "#     # --- retrieve the image title using the title class and save into variable ---\n",
    "#     img_title = browser.find_by_css('.title').text\n",
    "    \n",
    "#     # --- add the key value pairs to python dictionary and append to the list ---\n",
    "#     hemisphere_image_data.append({\"title\": img_title,\n",
    "#                               \"img_url\": img_url})\n",
    "#     # --- go back to the main page ---\n",
    "#     browser.back()\n",
    "    \n",
    "# hemisphere_image_data"
   ]
  },
  {
   "cell_type": "code",
   "execution_count": 148,
   "metadata": {},
   "outputs": [
    {
     "data": {
      "text/plain": [
       "[<div class=\"item\">\n",
       " <a class=\"itemLink product-item\" href=\"cerberus.html\"><img alt=\"Cerberus Hemisphere Enhanced thumbnail\" class=\"thumb\" src=\"images/39d3266553462198bd2fbc4d18fbed17_cerberus_enhanced.tif_thumb.png\"/></a>\n",
       " <div class=\"description\">\n",
       " <a class=\"itemLink product-item\" href=\"cerberus.html\">\n",
       " <h3>Cerberus Hemisphere Enhanced</h3>\n",
       " </a>\n",
       " <span class=\"subtitle\" style=\"float:left\">image/tiff 21 MB</span><span class=\"pubDate\" style=\"float:right\"></span><br/>\n",
       " <p>Mosaic of the Cerberus hemisphere of Mars projected into point perspective, a view similar to that which one would see from a spacecraft. This mosaic is composed of 104 Viking Orbiter images acquired…</p>\n",
       " </div>\n",
       " <!-- end description -->\n",
       " </div>,\n",
       " <div class=\"item\">\n",
       " <a class=\"itemLink product-item\" href=\"schiaparelli.html\"><img alt=\"Schiaparelli Hemisphere Enhanced thumbnail\" class=\"thumb\" src=\"images/08eac6e22c07fb1fe72223a79252de20_schiaparelli_enhanced.tif_thumb.png\"/></a>\n",
       " <div class=\"description\">\n",
       " <a class=\"itemLink product-item\" href=\"schiaparelli.html\">\n",
       " <h3>Schiaparelli Hemisphere Enhanced</h3>\n",
       " </a>\n",
       " <span class=\"subtitle\" style=\"float:left\">image/tiff 35 MB</span><span class=\"pubDate\" style=\"float:right\"></span><br/>\n",
       " <p>Mosaic of the Schiaparelli hemisphere of Mars projected into point perspective, a view similar to that which one would see from a spacecraft. The images were acquired in 1980 during early northern…</p>\n",
       " </div>\n",
       " <!-- end description -->\n",
       " </div>,\n",
       " <div class=\"item\">\n",
       " <a class=\"itemLink product-item\" href=\"syrtis.html\"><img alt=\"Syrtis Major Hemisphere Enhanced thumbnail\" class=\"thumb\" src=\"images/55a0a1e2796313fdeafb17c35925e8ac_syrtis_major_enhanced.tif_thumb.png\"/></a>\n",
       " <div class=\"description\">\n",
       " <a class=\"itemLink product-item\" href=\"syrtis.html\">\n",
       " <h3>Syrtis Major Hemisphere Enhanced</h3>\n",
       " </a>\n",
       " <span class=\"subtitle\" style=\"float:left\">image/tiff 25 MB</span><span class=\"pubDate\" style=\"float:right\"></span><br/>\n",
       " <p>Mosaic of the Syrtis Major hemisphere of Mars projected into point perspective, a view similar to that which one would see from a spacecraft. This mosaic is composed of about 100 red and violet…</p>\n",
       " </div>\n",
       " <!-- end description -->\n",
       " </div>,\n",
       " <div class=\"item\">\n",
       " <a class=\"itemLink product-item\" href=\"valles.html\"><img alt=\"Valles Marineris Hemisphere Enhanced thumbnail\" class=\"thumb\" src=\"images/4e59980c1c57f89c680c0e1ccabbeff1_valles_marineris_enhanced.tif_thumb.png\"/></a>\n",
       " <div class=\"description\">\n",
       " <a class=\"itemLink product-item\" href=\"valles.html\">\n",
       " <h3>Valles Marineris Hemisphere Enhanced</h3>\n",
       " </a>\n",
       " <span class=\"subtitle\" style=\"float:left\">image/tiff 27 MB</span><span class=\"pubDate\" style=\"float:right\"></span><br/>\n",
       " <p>Mosaic of the Valles Marineris hemisphere of Mars projected into point perspective, a view similar to that which one would see from a spacecraft. The distance is 2500 kilometers from the surface of…</p>\n",
       " </div>\n",
       " <!-- end description -->\n",
       " </div>]"
      ]
     },
     "execution_count": 148,
     "metadata": {},
     "output_type": "execute_result"
    }
   ],
   "source": [
    "\n",
    "# hemispheres = results[0].find_all('h3')\n",
    "\n",
    "# results = soup.find_all(\"div\",class_='description')\n",
    "# print(results)\n",
    "# results\n",
    "\n",
    "# hemisphere_image_urls = []\n",
    "\n",
    "# links = browser.find_by_css(\"a.product-item h3\")\n",
    "\n",
    "# for result in results:\n",
    "# #     print(results)\n",
    "#     print(result['href'])\n",
    "#       featured_image_url = result['src']\n",
    "#       print(featured_image_url)\n",
    "\n",
    "# hemisphere_image_urls = []\n",
    "# for result in results:\n",
    "#         product_dict = {}\n",
    "#         titles = result.find('h3').text\n",
    "#         end_link = result.find(\"a\")[\"href\"]\n",
    "#         image_link = \"https://astrogeology.usgs.gov/\" + end_link    \n",
    "#         browser.visit(image_link)\n",
    "#         html = browser.html\n",
    "#         soup= bs(html, \"html.parser\")\n",
    "#         downloads = soup.find(\"div\", class_=\"downloads\")\n",
    "#         image_url = downloads.find(\"a\")[\"href\"]\n",
    "#         print(titles)\n",
    "#         print(image_url)\n",
    "#         product_dict['title']= titles\n",
    "#         product_dict['image_url']= image_url\n",
    "#         hemisphere_image_urls.append(product_dict)"
   ]
  },
  {
   "cell_type": "code",
   "execution_count": 137,
   "metadata": {},
   "outputs": [],
   "source": [
    "# # --- retrieve all the parent div tags for each hemisphere --- \n",
    "# hemisphere_divs = soup.find_all('div', class_=\"item\")\n",
    "\n",
    "# # --- create an empty list to store the python dictionary ---\n",
    "# hemisphere_image_data = []\n",
    "\n",
    "# # --- loop through each div item to get hemisphere data ---\n",
    "# for hemisphere in range(len(hemisphere_divs)):\n",
    "\n",
    "#     # --- use splinter's browser to click on each hemisphere's link in order to retrieve image data ---\n",
    "#     hem_link = browser.find_by_css(\"a.product-item h3\")\n",
    "#     hem_link[hemisphere].click()\n",
    "#     time.sleep(1)\n",
    "    \n",
    "#     # --- create a beautiful soup object with the image detail page's html ---\n",
    "#     img_detail_html = browser.html\n",
    "#     imagesoup = BeautifulSoup(img_detail_html, 'html.parser')\n",
    "    \n",
    "#     # --- create the base url for the fullsize image link ---\n",
    "#     base_url = 'https://marshemispheres.com/'\n",
    "    \n",
    "#     # --- retrieve the full-res image url and save into a variable ---\n",
    "#     hem_url = imagesoup.find('img', class_=\"wide-image\")['src']\n",
    "    \n",
    "#     # --- complete the featured image url by adding the base url ---\n",
    "#     img_url = base_url + hem_url\n",
    "\n",
    "#     # --- retrieve the image title using the title class and save into variable ---\n",
    "#     img_title = browser.find_by_css('.title').text\n",
    "    \n",
    "#     # --- add the key value pairs to python dictionary and append to the list ---\n",
    "#     hemisphere_image_data.append({\"title\": img_title,\n",
    "#                               \"img_url\": img_url})\n",
    "    \n",
    "#     # --- go back to the main page ---\n",
    "# #     browser.back()\n",
    "    \n",
    "# # --- close the browser session ---    \n",
    "# # browser.quit()\n",
    "\n",
    "# hemisphere_image_data"
   ]
  },
  {
   "cell_type": "code",
   "execution_count": 132,
   "metadata": {},
   "outputs": [
    {
     "ename": "IndexError",
     "evalue": "list index out of range",
     "output_type": "error",
     "traceback": [
      "\u001b[1;31m---------------------------------------------------------------------------\u001b[0m",
      "\u001b[1;31mIndexError\u001b[0m                                Traceback (most recent call last)",
      "\u001b[1;32m<ipython-input-132-958b56e564a3>\u001b[0m in \u001b[0;36m<module>\u001b[1;34m\u001b[0m\n\u001b[0;32m      3\u001b[0m \u001b[1;31m# Search for the names of all four hemispheres\u001b[0m\u001b[1;33m\u001b[0m\u001b[1;33m\u001b[0m\u001b[1;33m\u001b[0m\u001b[0m\n\u001b[0;32m      4\u001b[0m \u001b[0mresults\u001b[0m \u001b[1;33m=\u001b[0m \u001b[0msoup\u001b[0m\u001b[1;33m.\u001b[0m\u001b[0mfind_all\u001b[0m\u001b[1;33m(\u001b[0m\u001b[1;34m'div'\u001b[0m\u001b[1;33m,\u001b[0m \u001b[0mclass_\u001b[0m\u001b[1;33m=\u001b[0m\u001b[1;34m\"collapsible results\"\u001b[0m\u001b[1;33m)\u001b[0m\u001b[1;33m\u001b[0m\u001b[1;33m\u001b[0m\u001b[0m\n\u001b[1;32m----> 5\u001b[1;33m \u001b[0mhemispheres\u001b[0m \u001b[1;33m=\u001b[0m \u001b[0mresults\u001b[0m\u001b[1;33m[\u001b[0m\u001b[1;36m0\u001b[0m\u001b[1;33m]\u001b[0m\u001b[1;33m.\u001b[0m\u001b[0mfind_all\u001b[0m\u001b[1;33m(\u001b[0m\u001b[1;34m'h3'\u001b[0m\u001b[1;33m)\u001b[0m\u001b[1;33m\u001b[0m\u001b[1;33m\u001b[0m\u001b[0m\n\u001b[0m\u001b[0;32m      6\u001b[0m \u001b[1;33m\u001b[0m\u001b[0m\n\u001b[0;32m      7\u001b[0m \u001b[1;31m# Get text and store in list\u001b[0m\u001b[1;33m\u001b[0m\u001b[1;33m\u001b[0m\u001b[1;33m\u001b[0m\u001b[0m\n",
      "\u001b[1;31mIndexError\u001b[0m: list index out of range"
     ]
    }
   ],
   "source": [
    "# hemi_names = []\n",
    "\n",
    "# # Search for the names of all four hemispheres\n",
    "# results = soup.find_all('div', class_=\"collapsible results\")\n",
    "# hemispheres = results[0].find_all('h3')\n",
    "\n",
    "# # Get text and store in list\n",
    "# for name in hemispheres:\n",
    "#     hemi_names.append(name.text)\n",
    "\n",
    "# hemi_names"
   ]
  },
  {
   "cell_type": "code",
   "execution_count": 128,
   "metadata": {},
   "outputs": [],
   "source": [
    "\n",
    "# hemisphere_img_urls = []\n",
    "# results = browser.find_by_xpath( \"//*[@id='product-section']/div[2]/div[1]/a/img\").click()\n",
    "# time.sleep(2)\n",
    "# cerberus_open_click = browser.find_by_xpath( \"//*[@id='wide-image-toggle']\").click()\n",
    "# time.sleep(1)\n",
    "# cerberus_image = browser.html\n",
    "# soup = bs(cerberus_image, \"html.parser\")\n",
    "# cerberus_url = soup.find(\"img\", class_=\"wide-image\")[\"src\"]\n",
    "# cerberus_img_url = hemisphere_base_url + cerberus_url\n",
    "# print(cerberus_img_url)\n",
    "# cerberus_title = soup.find(\"h2\",class_=\"title\").text\n",
    "# print(cerberus_title)\n",
    "# back_button = browser.find_by_xpath(\"//*[@id='splashy']/div[1]/div[1]/div[3]/section/a\").click()\n",
    "# cerberus = {\"image title\":cerberus_title, \"image url\": cerberus_img_url}\n",
    "# hemisphere_img_urls.append(cerberus)"
   ]
  },
  {
   "cell_type": "code",
   "execution_count": 129,
   "metadata": {},
   "outputs": [],
   "source": [
    "# # HTML Object\n",
    "# html = browser.html\n",
    "\n",
    "# # Parse HTML with Beautiful Soup\n",
    "# soup = BeautifulSoup(html, 'html.parser')\n",
    "\n",
    "# # Retreive all items that contain mars hemispheres information\n",
    "# items = soup.find_all('div', class_='item')\n",
    "\n",
    "# # Create empty list for hemisphere urls \n",
    "# hemisphere_image_urls = []\n",
    "\n",
    "# # Store the main_ul \n",
    "# hemispheres_main_url = 'https://marshemispheres.com/'\n",
    "\n",
    "# # Get a List of All the Hemispheres\n",
    "# links = browser.find_by_css(\"a.product-item h3\")\n",
    "# for item in range(len(links)):\n",
    "#     hemisphere = {}\n",
    "    \n",
    "#     # Find Element on Each Loop to Avoid a Stale Element Exception\n",
    "#     browser.find_by_css(\"a.product-item h3\")[item].click()\n",
    "    \n",
    "#     # Find Sample Image Anchor Tag & Extract <href>\n",
    "#     sample_element = browser.find_link_by_text(\"Sample\").first\n",
    "#     hemisphere[\"img_url\"] = sample_element[\"href\"]\n",
    "    \n",
    "#     # Get Hemisphere Title\n",
    "#     hemisphere[\"title\"] = browser.find_by_css(\"h2.title\").text\n",
    "    \n",
    "#     # Append Hemisphere Object to List\n",
    "#     hemisphere_image_urls.append(hemisphere)\n",
    "    \n",
    "#     # Navigate Backwards\n",
    "#     browser.back()"
   ]
  },
  {
   "cell_type": "code",
   "execution_count": null,
   "metadata": {},
   "outputs": [],
   "source": [
    "# # --- retrieve all the parent div tags for each hemisphere --- \n",
    "# hemisphere_divs = soup.find_all('div', class_=\"item\")\n",
    "\n",
    "# # --- create an empty list to store the python dictionary ---\n",
    "# hemisphere_image_data = []\n",
    "\n",
    "# # --- loop through each div item to get hemisphere data ---\n",
    "# for hemisphere in range(len(hemisphere_divs)):\n",
    "\n",
    "#     # --- use splinter's browser to click on each hemisphere's link in order to retrieve image data ---\n",
    "#     hem_link = browser.find_by_css(\"a.product-item h3\")\n",
    "#     hem_link[hemisphere].click()\n",
    "#     time.sleep(1)\n",
    "    \n",
    "#     # --- create a beautiful soup object with the image detail page's html ---\n",
    "#     img_detail_html = browser.html\n",
    "#     imagesoup = BeautifulSoup(img_detail_html, 'html.parser')\n",
    "    \n",
    "#     # --- create the base url for the fullsize image link ---\n",
    "#     base_url = 'https://astrogeology.usgs.gov'\n",
    "    \n",
    "#     # --- retrieve the full-res image url and save into a variable ---\n",
    "#     hem_url = imagesoup.find('img', class_=\"wide-image\")['src']\n",
    "    \n",
    "#     # --- complete the featured image url by adding the base url ---\n",
    "#     img_url = base_url + hem_url\n",
    "\n",
    "#     # --- retrieve the image title using the title class and save into variable ---\n",
    "#     img_title = browser.find_by_css('.title').text\n",
    "    \n",
    "#     # --- add the key value pairs to python dictionary and append to the list ---\n",
    "#     hemisphere_image_data.append({\"title\": img_title,\n",
    "#                               \"img_url\": img_url})\n",
    "    \n",
    "#     # --- go back to the main page ---\n",
    "#     browser.back()\n",
    "    \n",
    "# # --- close the browser session ---    \n",
    "# browser.quit()\n",
    "\n",
    "# hemisphere_image_data"
   ]
  },
  {
   "cell_type": "code",
   "execution_count": null,
   "metadata": {},
   "outputs": [],
   "source": []
  }
 ],
 "metadata": {
  "kernelspec": {
   "display_name": "Python 3",
   "language": "python",
   "name": "python3"
  },
  "language_info": {
   "codemirror_mode": {
    "name": "ipython",
    "version": 3
   },
   "file_extension": ".py",
   "mimetype": "text/x-python",
   "name": "python",
   "nbconvert_exporter": "python",
   "pygments_lexer": "ipython3",
   "version": "3.6.10"
  },
  "varInspector": {
   "cols": {
    "lenName": 16,
    "lenType": 16,
    "lenVar": 40
   },
   "kernels_config": {
    "python": {
     "delete_cmd_postfix": "",
     "delete_cmd_prefix": "del ",
     "library": "var_list.py",
     "varRefreshCmd": "print(var_dic_list())"
    },
    "r": {
     "delete_cmd_postfix": ") ",
     "delete_cmd_prefix": "rm(",
     "library": "var_list.r",
     "varRefreshCmd": "cat(var_dic_list()) "
    }
   },
   "types_to_exclude": [
    "module",
    "function",
    "builtin_function_or_method",
    "instance",
    "_Feature"
   ],
   "window_display": false
  }
 },
 "nbformat": 4,
 "nbformat_minor": 2
}
