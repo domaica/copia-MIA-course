{
 "cells": [
  {
   "cell_type": "markdown",
   "metadata": {},
   "source": [
    "# WeatherPy\n",
    "----\n",
    "\n",
    "#### Note\n",
    "* Instructions have been included for each segment. You do not have to follow them exactly, but they are included to help you think through the steps."
   ]
  },
  {
   "cell_type": "code",
   "execution_count": null,
   "metadata": {},
   "outputs": [],
   "source": [
    "# pip install citipy"
   ]
  },
  {
   "cell_type": "code",
   "execution_count": 12,
   "metadata": {
    "scrolled": true
   },
   "outputs": [
    {
     "name": "stdout",
     "output_type": "stream",
     "text": [
      "99f96a0396de356f1b82d64d481006c5\n"
     ]
    }
   ],
   "source": [
    "# Dependencies and Setup\n",
    "import matplotlib.pyplot as plt\n",
    "import pandas as pd\n",
    "import numpy as np\n",
    "import requests\n",
    "import time\n",
    "from scipy.stats import linregress\n",
    "\n",
    "# Import API key\n",
    "from config import weather_api_key\n",
    "\n",
    "# Incorporated citipy to determine city based on latitude and longitude\n",
    "from citipy import citipy\n",
    "\n",
    "# Output File (CSV)\n",
    "output_data_file = \"output_data/cities.csv\"\n",
    "\n",
    "# Range of latitudes and longitudes\n",
    "lat_range = (-90, 90)\n",
    "lng_range = (-180, 180)\n",
    "\n",
    "print(weather_api_key)"
   ]
  },
  {
   "cell_type": "markdown",
   "metadata": {},
   "source": [
    "## Generate Cities List"
   ]
  },
  {
   "cell_type": "code",
   "execution_count": 13,
   "metadata": {
    "scrolled": true
   },
   "outputs": [
    {
     "data": {
      "text/plain": [
       "19"
      ]
     },
     "execution_count": 13,
     "metadata": {},
     "output_type": "execute_result"
    }
   ],
   "source": [
    "# List for holding lat_lngs and cities\n",
    "lat_lngs = []\n",
    "cities = []\n",
    "\n",
    "# Create a set of random lat and lng combinations\n",
    "lats = np.random.uniform(lat_range[0], lat_range[1], size=20)\n",
    "lngs = np.random.uniform(lng_range[0], lng_range[1], size=20)\n",
    "lat_lngs = zip(lats, lngs)\n",
    "\n",
    "# Identify nearest city for each lat, lng combination\n",
    "for lat_lng in lat_lngs:\n",
    "    city = citipy.nearest_city(lat_lng[0], lat_lng[1]).city_name\n",
    "    \n",
    "    # If the city is unique, then add it to a our cities list\n",
    "    if city not in cities:\n",
    "        cities.append(city)\n",
    "\n",
    "# Print the city count to confirm sufficient count\n",
    "len(cities)\n",
    "# print(cities)"
   ]
  },
  {
   "cell_type": "markdown",
   "metadata": {},
   "source": [
    "### Perform API Calls\n",
    "* Perform a weather check on each city using a series of successive API calls.\n",
    "* Include a print log of each city as it'sbeing processed (with the city number and city name).\n"
   ]
  },
  {
   "cell_type": "code",
   "execution_count": 59,
   "metadata": {
    "scrolled": true
   },
   "outputs": [
    {
     "name": "stdout",
     "output_type": "stream",
     "text": [
      "------------------------\n",
      "Beginning Weather Check\n",
      "------------------------\n",
      "Retrieving data from city of tessalit ==> Record 1\n",
      "Retrieving data from city of esperance ==> Record 2\n",
      "Retrieving data from city of ushuaia ==> Record 3\n",
      "Retrieving data from city of narsaq ==> Record 4\n",
      "Retrieving data from city of mount gambier ==> Record 5\n",
      "Retrieving data from city of carupano ==> Record 6\n",
      "Retrieving data from city of carnot ==> Record 7\n",
      "Retrieving data from city of victoria ==> Record 8\n",
      "Retrieving data from city of mataura ==> Record 9\n",
      "Retrieving data from city of mar del plata ==> Record 10\n",
      "Retrieving data from city of rikitea ==> Record 11\n",
      "Retrieving data from city of nome ==> Record 12\n",
      "Retrieving data from city of mahon ==> Record 13\n",
      "Retrieving data from city of chuy ==> Record 14\n",
      "Retrieving data from city of punta arenas ==> Record 15\n",
      "Retrieving data from city of bredasdorp ==> Record 16\n",
      "Retrieving data from city of isangel ==> Record 17\n",
      "There are not enough weather information for city of {}. Skip record.\n",
      "Retrieving data from city of jamestown ==> Record 18\n",
      "-------------------------\n",
      "Finished weather check\n",
      "-------------------------\n"
     ]
    }
   ],
   "source": [
    "# OpenWeatherMap API Key\n",
    "api_key = weather_api_key\n",
    "# Starting URL for Weather Map API Call\n",
    "url = \"http://api.openweathermap.org/data/2.5/weather?units=Metric&APPID=\" + api_key\n",
    "\n",
    "# Create empty lists to append the API data into lists \n",
    "city_list = []\n",
    "country_list = []\n",
    "lat_list = []\n",
    "lng_list = []\n",
    "temperature_list = []\n",
    "cloud_list = []\n",
    "humidity_list = []\n",
    "wind_speed_list = []\n",
    "\n",
    "record_counter = 0\n",
    "\n",
    "print('------------------------')\n",
    "print('Beginning Weather Check')\n",
    "print('------------------------')\n",
    "\n",
    "for city in cities:\n",
    "    # Try statement to append calls where value is found \n",
    "    # Not all calls return data as OpenWeatherMap will\n",
    "    # not have have records in all the cities generated by CityPy module\n",
    "    try: \n",
    "    \n",
    "        query_url = url + \"&q=\" + city\n",
    "        # Get weather data\n",
    "        response = requests.get(query_url).json()\n",
    "\n",
    "    #     response = requests.get(query_url + city).json()\n",
    "        city_list.append(response[\"name\"])\n",
    "        country_list.append(response[\"sys\"][\"country\"])\n",
    "        lat_list.append(response[\"coord\"][\"lat\"])\n",
    "        lng_list.append(response[\"coord\"][\"lon\"])\n",
    "        temperature_list.append(response['main']['temp_max'])    \n",
    "        cloud_list.append(response[\"clouds\"][\"all\"])\n",
    "        humidity_list.append(response[\"main\"][\"humidity\"])\n",
    "\n",
    "    #    date_list.append(response[\"dt\"])\n",
    "        wind_speed_list.append(response[\"wind\"][\"speed\"])\n",
    "        record_counter += 1\n",
    "        print('Retrieving data from city of {} ==> Record {}'.format(city, record_counter))\n",
    "    \n",
    "#         # If no record found \"skip\" to next city\n",
    "    except:\n",
    "        print('-------------------------')\n",
    "        print(\"There are not enough weather information{}. Skip record.\")\n",
    "        print('-------------------------')\n",
    "        #         print(query_url)\n",
    "\n",
    "\n",
    "    pass\n",
    "    \n",
    "    \n",
    "    \n",
    "    \n",
    "    \n",
    "\n",
    "\n",
    "print('-------------------------')\n",
    "print('Finished weather check')\n",
    "print('-------------------------')"
   ]
  },
  {
   "cell_type": "markdown",
   "metadata": {},
   "source": [
    "### Convert Raw Data to DataFrame\n",
    "* Export the city data into a .csv.\n",
    "* Display the DataFrame"
   ]
  },
  {
   "cell_type": "code",
   "execution_count": 51,
   "metadata": {
    "scrolled": false
   },
   "outputs": [
    {
     "data": {
      "text/html": [
       "<div>\n",
       "<style scoped>\n",
       "    .dataframe tbody tr th:only-of-type {\n",
       "        vertical-align: middle;\n",
       "    }\n",
       "\n",
       "    .dataframe tbody tr th {\n",
       "        vertical-align: top;\n",
       "    }\n",
       "\n",
       "    .dataframe thead th {\n",
       "        text-align: right;\n",
       "    }\n",
       "</style>\n",
       "<table border=\"1\" class=\"dataframe\">\n",
       "  <thead>\n",
       "    <tr style=\"text-align: right;\">\n",
       "      <th></th>\n",
       "      <th>City</th>\n",
       "      <th>Lat</th>\n",
       "      <th>Lng</th>\n",
       "      <th>Country</th>\n",
       "      <th>Max.Temp</th>\n",
       "      <th>Humidity</th>\n",
       "      <th>Cloudiness</th>\n",
       "      <th>Wind Speed</th>\n",
       "    </tr>\n",
       "  </thead>\n",
       "  <tbody>\n",
       "    <tr>\n",
       "      <th>0</th>\n",
       "      <td>Tessalit</td>\n",
       "      <td>20.1986</td>\n",
       "      <td>1.0114</td>\n",
       "      <td>ML</td>\n",
       "      <td>24.90</td>\n",
       "      <td>8</td>\n",
       "      <td>0</td>\n",
       "      <td>3.87</td>\n",
       "    </tr>\n",
       "    <tr>\n",
       "      <th>1</th>\n",
       "      <td>Esperance</td>\n",
       "      <td>-33.8667</td>\n",
       "      <td>121.9000</td>\n",
       "      <td>AU</td>\n",
       "      <td>16.00</td>\n",
       "      <td>94</td>\n",
       "      <td>0</td>\n",
       "      <td>5.66</td>\n",
       "    </tr>\n",
       "    <tr>\n",
       "      <th>2</th>\n",
       "      <td>Ushuaia</td>\n",
       "      <td>-54.8000</td>\n",
       "      <td>-68.3000</td>\n",
       "      <td>AR</td>\n",
       "      <td>12.00</td>\n",
       "      <td>47</td>\n",
       "      <td>75</td>\n",
       "      <td>5.14</td>\n",
       "    </tr>\n",
       "    <tr>\n",
       "      <th>3</th>\n",
       "      <td>Narsaq</td>\n",
       "      <td>60.9167</td>\n",
       "      <td>-46.0500</td>\n",
       "      <td>GL</td>\n",
       "      <td>-1.00</td>\n",
       "      <td>40</td>\n",
       "      <td>75</td>\n",
       "      <td>5.14</td>\n",
       "    </tr>\n",
       "    <tr>\n",
       "      <th>4</th>\n",
       "      <td>Mount Gambier</td>\n",
       "      <td>-37.8333</td>\n",
       "      <td>140.7667</td>\n",
       "      <td>AU</td>\n",
       "      <td>15.00</td>\n",
       "      <td>88</td>\n",
       "      <td>0</td>\n",
       "      <td>4.12</td>\n",
       "    </tr>\n",
       "    <tr>\n",
       "      <th>5</th>\n",
       "      <td>Carupano</td>\n",
       "      <td>10.6678</td>\n",
       "      <td>-63.2585</td>\n",
       "      <td>VE</td>\n",
       "      <td>26.25</td>\n",
       "      <td>74</td>\n",
       "      <td>100</td>\n",
       "      <td>4.65</td>\n",
       "    </tr>\n",
       "    <tr>\n",
       "      <th>6</th>\n",
       "      <td>Carnot</td>\n",
       "      <td>4.9409</td>\n",
       "      <td>15.8665</td>\n",
       "      <td>CF</td>\n",
       "      <td>22.10</td>\n",
       "      <td>90</td>\n",
       "      <td>100</td>\n",
       "      <td>0.41</td>\n",
       "    </tr>\n",
       "    <tr>\n",
       "      <th>7</th>\n",
       "      <td>Hong Kong</td>\n",
       "      <td>22.2855</td>\n",
       "      <td>114.1577</td>\n",
       "      <td>HK</td>\n",
       "      <td>22.21</td>\n",
       "      <td>88</td>\n",
       "      <td>15</td>\n",
       "      <td>2.26</td>\n",
       "    </tr>\n",
       "    <tr>\n",
       "      <th>8</th>\n",
       "      <td>Mataura</td>\n",
       "      <td>-46.1927</td>\n",
       "      <td>168.8643</td>\n",
       "      <td>NZ</td>\n",
       "      <td>11.11</td>\n",
       "      <td>88</td>\n",
       "      <td>100</td>\n",
       "      <td>1.34</td>\n",
       "    </tr>\n",
       "    <tr>\n",
       "      <th>9</th>\n",
       "      <td>Mar del Plata</td>\n",
       "      <td>-38.0023</td>\n",
       "      <td>-57.5575</td>\n",
       "      <td>AR</td>\n",
       "      <td>21.75</td>\n",
       "      <td>46</td>\n",
       "      <td>0</td>\n",
       "      <td>6.17</td>\n",
       "    </tr>\n",
       "    <tr>\n",
       "      <th>10</th>\n",
       "      <td>Rikitea</td>\n",
       "      <td>-23.1203</td>\n",
       "      <td>-134.9692</td>\n",
       "      <td>PF</td>\n",
       "      <td>27.03</td>\n",
       "      <td>77</td>\n",
       "      <td>100</td>\n",
       "      <td>6.44</td>\n",
       "    </tr>\n",
       "    <tr>\n",
       "      <th>11</th>\n",
       "      <td>Nome</td>\n",
       "      <td>64.5011</td>\n",
       "      <td>-165.4064</td>\n",
       "      <td>US</td>\n",
       "      <td>-28.46</td>\n",
       "      <td>69</td>\n",
       "      <td>1</td>\n",
       "      <td>1.86</td>\n",
       "    </tr>\n",
       "    <tr>\n",
       "      <th>12</th>\n",
       "      <td>Mahon</td>\n",
       "      <td>39.8885</td>\n",
       "      <td>4.2658</td>\n",
       "      <td>ES</td>\n",
       "      <td>7.00</td>\n",
       "      <td>65</td>\n",
       "      <td>40</td>\n",
       "      <td>2.57</td>\n",
       "    </tr>\n",
       "    <tr>\n",
       "      <th>13</th>\n",
       "      <td>Chui</td>\n",
       "      <td>-33.6971</td>\n",
       "      <td>-53.4616</td>\n",
       "      <td>UY</td>\n",
       "      <td>21.39</td>\n",
       "      <td>60</td>\n",
       "      <td>0</td>\n",
       "      <td>3.99</td>\n",
       "    </tr>\n",
       "    <tr>\n",
       "      <th>14</th>\n",
       "      <td>Punta Arenas</td>\n",
       "      <td>-53.1500</td>\n",
       "      <td>-70.9167</td>\n",
       "      <td>CL</td>\n",
       "      <td>10.00</td>\n",
       "      <td>71</td>\n",
       "      <td>75</td>\n",
       "      <td>8.75</td>\n",
       "    </tr>\n",
       "    <tr>\n",
       "      <th>15</th>\n",
       "      <td>Bredasdorp</td>\n",
       "      <td>-34.5322</td>\n",
       "      <td>20.0403</td>\n",
       "      <td>ZA</td>\n",
       "      <td>19.00</td>\n",
       "      <td>72</td>\n",
       "      <td>100</td>\n",
       "      <td>2.06</td>\n",
       "    </tr>\n",
       "    <tr>\n",
       "      <th>16</th>\n",
       "      <td>Isangel</td>\n",
       "      <td>-19.5500</td>\n",
       "      <td>169.2667</td>\n",
       "      <td>VU</td>\n",
       "      <td>21.00</td>\n",
       "      <td>94</td>\n",
       "      <td>20</td>\n",
       "      <td>5.27</td>\n",
       "    </tr>\n",
       "  </tbody>\n",
       "</table>\n",
       "</div>"
      ],
      "text/plain": [
       "             City      Lat       Lng Country  Max.Temp  Humidity  Cloudiness  \\\n",
       "0        Tessalit  20.1986    1.0114      ML     24.90         8           0   \n",
       "1       Esperance -33.8667  121.9000      AU     16.00        94           0   \n",
       "2         Ushuaia -54.8000  -68.3000      AR     12.00        47          75   \n",
       "3          Narsaq  60.9167  -46.0500      GL     -1.00        40          75   \n",
       "4   Mount Gambier -37.8333  140.7667      AU     15.00        88           0   \n",
       "5        Carupano  10.6678  -63.2585      VE     26.25        74         100   \n",
       "6          Carnot   4.9409   15.8665      CF     22.10        90         100   \n",
       "7       Hong Kong  22.2855  114.1577      HK     22.21        88          15   \n",
       "8         Mataura -46.1927  168.8643      NZ     11.11        88         100   \n",
       "9   Mar del Plata -38.0023  -57.5575      AR     21.75        46           0   \n",
       "10        Rikitea -23.1203 -134.9692      PF     27.03        77         100   \n",
       "11           Nome  64.5011 -165.4064      US    -28.46        69           1   \n",
       "12          Mahon  39.8885    4.2658      ES      7.00        65          40   \n",
       "13           Chui -33.6971  -53.4616      UY     21.39        60           0   \n",
       "14   Punta Arenas -53.1500  -70.9167      CL     10.00        71          75   \n",
       "15     Bredasdorp -34.5322   20.0403      ZA     19.00        72         100   \n",
       "16        Isangel -19.5500  169.2667      VU     21.00        94          20   \n",
       "\n",
       "    Wind Speed  \n",
       "0         3.87  \n",
       "1         5.66  \n",
       "2         5.14  \n",
       "3         5.14  \n",
       "4         4.12  \n",
       "5         4.65  \n",
       "6         0.41  \n",
       "7         2.26  \n",
       "8         1.34  \n",
       "9         6.17  \n",
       "10        6.44  \n",
       "11        1.86  \n",
       "12        2.57  \n",
       "13        3.99  \n",
       "14        8.75  \n",
       "15        2.06  \n",
       "16        5.27  "
      ]
     },
     "execution_count": 51,
     "metadata": {},
     "output_type": "execute_result"
    }
   ],
   "source": [
    "# move data to dictionary and the DF\n",
    "weather_data_dict = {\n",
    "    \"City\": city_list,\n",
    "    \"Lat\":lat_list, \n",
    "    \"Lng\":lng_list, \n",
    "    \"Country\":country_list,\n",
    "    \"Max.Temp\": temperature_list,    \n",
    "    \"Humidity\": humidity_list,   \n",
    "    \"Cloudiness\":cloud_list, \n",
    "    \"Wind Speed\":wind_speed_list\n",
    "}\n",
    "\n",
    "# Create a data frame from dictionary\n",
    "weather_data_df = pd.DataFrame(weather_data_dict)\n",
    "\n",
    "# Display count of weather data values \n",
    "# weather_data_df.count()\n",
    "weather_data_df\n",
    "\n"
   ]
  },
  {
   "cell_type": "code",
   "execution_count": 52,
   "metadata": {},
   "outputs": [],
   "source": [
    "# Save data frame to CSV\n",
    "# i have anticipated step\n",
    "weather_data_df.to_csv('weather_data.csv')"
   ]
  },
  {
   "cell_type": "markdown",
   "metadata": {},
   "source": [
    "## Inspect the data and remove the cities where the humidity > 100%.\n",
    "----\n",
    "Skip this step if there are no cities that have humidity > 100%. "
   ]
  },
  {
   "cell_type": "code",
   "execution_count": 29,
   "metadata": {},
   "outputs": [
    {
     "data": {
      "text/html": [
       "<div>\n",
       "<style scoped>\n",
       "    .dataframe tbody tr th:only-of-type {\n",
       "        vertical-align: middle;\n",
       "    }\n",
       "\n",
       "    .dataframe tbody tr th {\n",
       "        vertical-align: top;\n",
       "    }\n",
       "\n",
       "    .dataframe thead th {\n",
       "        text-align: right;\n",
       "    }\n",
       "</style>\n",
       "<table border=\"1\" class=\"dataframe\">\n",
       "  <thead>\n",
       "    <tr style=\"text-align: right;\">\n",
       "      <th></th>\n",
       "      <th>City</th>\n",
       "      <th>Lat</th>\n",
       "      <th>Lng</th>\n",
       "      <th>Country</th>\n",
       "      <th>Temp</th>\n",
       "      <th>Humidity</th>\n",
       "      <th>Cloudiness</th>\n",
       "      <th>Wind Speed</th>\n",
       "    </tr>\n",
       "  </thead>\n",
       "  <tbody>\n",
       "    <tr>\n",
       "      <th>1</th>\n",
       "      <td>Esperance</td>\n",
       "      <td>-33.8667</td>\n",
       "      <td>121.9000</td>\n",
       "      <td>AU</td>\n",
       "      <td>16.0</td>\n",
       "      <td>94</td>\n",
       "      <td>0</td>\n",
       "      <td>5.66</td>\n",
       "    </tr>\n",
       "    <tr>\n",
       "      <th>16</th>\n",
       "      <td>Isangel</td>\n",
       "      <td>-19.5500</td>\n",
       "      <td>169.2667</td>\n",
       "      <td>VU</td>\n",
       "      <td>21.0</td>\n",
       "      <td>94</td>\n",
       "      <td>20</td>\n",
       "      <td>5.27</td>\n",
       "    </tr>\n",
       "  </tbody>\n",
       "</table>\n",
       "</div>"
      ],
      "text/plain": [
       "         City      Lat       Lng Country  Temp  Humidity  Cloudiness  \\\n",
       "1   Esperance -33.8667  121.9000      AU  16.0        94           0   \n",
       "16    Isangel -19.5500  169.2667      VU  21.0        94          20   \n",
       "\n",
       "    Wind Speed  \n",
       "1         5.66  \n",
       "16        5.27  "
      ]
     },
     "execution_count": 29,
     "metadata": {},
     "output_type": "execute_result"
    }
   ],
   "source": [
    "# humid_100_df = weather_data_df.loc[reduced_df[\"Drug Regimen\"] == 100,:]\n",
    "\n",
    "humid_100_df = weather_data_df.loc[weather_data_df[\"Humidity\"] == 94,:]\n",
    "\n",
    "humid_100_df"
   ]
  },
  {
   "cell_type": "code",
   "execution_count": 30,
   "metadata": {},
   "outputs": [
    {
     "data": {
      "text/plain": [
       "Int64Index([1, 16], dtype='int64')"
      ]
     },
     "execution_count": 30,
     "metadata": {},
     "output_type": "execute_result"
    }
   ],
   "source": [
    "#  Get the indices of cities that have humidity over 100%.\n",
    "humid_100_df.index"
   ]
  },
  {
   "cell_type": "code",
   "execution_count": 39,
   "metadata": {},
   "outputs": [],
   "source": [
    "# # Make a new DataFrame equal to the city data to drop all humidity outliers by index.\n",
    "# # Passing \"inplace=False\" will make a copy of the city_data DataFrame, which we call \n",
    "# # \"clean_city_data\".\n",
    "\n",
    "# # clean_city_data_df = weather_data_df.drop(weather_data_df[\"Humidity\"] == 94.index, inplace=False)\n",
    "# # clean_city_data_df = weather_data_df.loc(weather_data_df[\"Humidity\"] == 94, inplace=False)\n",
    "# clean_city_data_df = weather_data_df.loc(weather_data_df[\"Humidity\"] == 94)\n",
    "\n",
    "\n",
    "# #  clean_city_data_df =df.drop(df[df.score < 50].index, inplace=True)\n",
    "# clean_city_data_df"
   ]
  },
  {
   "cell_type": "markdown",
   "metadata": {},
   "source": [
    "## Plotting the Data\n",
    "* Use proper labeling of the plots using plot titles (including date of analysis) and axes labels.\n",
    "* Save the plotted figures as .pngs."
   ]
  },
  {
   "cell_type": "markdown",
   "metadata": {},
   "source": [
    "## Latitude vs. Temperature Plot"
   ]
  },
  {
   "cell_type": "code",
   "execution_count": 40,
   "metadata": {},
   "outputs": [
    {
     "data": {
      "text/plain": [
       "Index(['City', 'Lat', 'Lng', 'Country', 'Temp', 'Humidity', 'Cloudiness',\n",
       "       'Wind Speed'],\n",
       "      dtype='object')"
      ]
     },
     "execution_count": 40,
     "metadata": {},
     "output_type": "execute_result"
    }
   ],
   "source": [
    "# weather_data_df.columns"
   ]
  },
  {
   "cell_type": "code",
   "execution_count": 54,
   "metadata": {
    "scrolled": true
   },
   "outputs": [
    {
     "data": {
      "image/png": "[encoded data removed]",
      "text/plain": [
       "<Figure size 432x288 with 1 Axes>"
      ]
     },
     "metadata": {
      "needs_background": "light"
     },
     "output_type": "display_data"
    }
   ],
   "source": [
    "\n",
    "# Scatter plot\n",
    "plt.scatter(weather_data_df[\"Lat\"], weather_data_df[\"Max.Temp\"], marker=\"o\", s=10)\n",
    "\n",
    "# Incorporate the other graph properties\n",
    "plt.title(\"City Latitude vs. Max.Temperature\")\n",
    "plt.ylabel(\"Max. Temperature (C)\")\n",
    "plt.xlabel(\"Latitude\")\n",
    "plt.grid(True)\n",
    "\n",
    "# Save the figure\n",
    "plt.savefig(\"figures/Latitude_vs_Temp.png\")\n",
    "\n",
    "# Show plot\n",
    "plt.show()"
   ]
  },
  {
   "cell_type": "markdown",
   "metadata": {},
   "source": [
    "## Latitude vs. Humidity Plot"
   ]
  },
  {
   "cell_type": "code",
   "execution_count": 47,
   "metadata": {},
   "outputs": [
    {
     "data": {
      "image/png": "[encoded data removed]",
      "text/plain": [
       "<Figure size 432x288 with 1 Axes>"
      ]
     },
     "metadata": {
      "needs_background": "light"
     },
     "output_type": "display_data"
    }
   ],
   "source": [
    "\n",
    "# Scatter plot\n",
    "plt.scatter(weather_data_df[\"Lat\"], weather_data_df[\"Humidity\"], marker=\"o\", s=10)\n",
    "\n",
    "# Incorporate the other graph properties\n",
    "plt.title(\"City Latitude vs. Humidity\")\n",
    "plt.ylabel(\"Humidity %\")\n",
    "plt.xlabel(\"Latitude\")\n",
    "plt.grid(True)\n",
    "\n",
    "# Save the figure\n",
    "plt.savefig(\"figures/Latitude_vs_Humidity.png\")\n",
    "\n",
    "# Show plot\n",
    "plt.show()"
   ]
  },
  {
   "cell_type": "markdown",
   "metadata": {},
   "source": [
    "## Latitude vs. Cloudiness Plot"
   ]
  },
  {
   "cell_type": "code",
   "execution_count": 48,
   "metadata": {},
   "outputs": [
    {
     "data": {
      "image/png": "[encoded data removed]",
      "text/plain": [
       "<Figure size 432x288 with 1 Axes>"
      ]
     },
     "metadata": {
      "needs_background": "light"
     },
     "output_type": "display_data"
    }
   ],
   "source": [
    "# Scatter plot\n",
    "plt.scatter(weather_data_df[\"Lat\"], weather_data_df[\"Cloudiness\"], marker=\"o\", s=10)\n",
    "\n",
    "# Incorporate the other graph properties\n",
    "plt.title(\"City Latitude vs. Cloudiness\")\n",
    "plt.ylabel(\"Cloudiness\")\n",
    "plt.xlabel(\"Latitude\")\n",
    "plt.grid(True)\n",
    "\n",
    "# Save the figure\n",
    "plt.savefig(\"figures/Latitude_vs_Cloudiness.png\")\n",
    "\n",
    "# Show plot\n",
    "plt.show()"
   ]
  },
  {
   "cell_type": "markdown",
   "metadata": {},
   "source": [
    "## Latitude vs. Wind Speed Plot"
   ]
  },
  {
   "cell_type": "code",
   "execution_count": 55,
   "metadata": {},
   "outputs": [
    {
     "data": {
      "image/png": "[encoded data removed]",
      "text/plain": [
       "<Figure size 432x288 with 1 Axes>"
      ]
     },
     "metadata": {
      "needs_background": "light"
     },
     "output_type": "display_data"
    }
   ],
   "source": [
    "# Scatter plot\n",
    "plt.scatter(weather_data_df[\"Lat\"], weather_data_df[\"Wind Speed\"], marker=\"o\", s=10)\n",
    "\n",
    "# Incorporate the other graph properties\n",
    "plt.title(\"City Latitude vs. Wind Speed(kpm)\")\n",
    "plt.ylabel(\"Temperature (C)\")\n",
    "plt.xlabel(\"Wind Speed (kph)\")\n",
    "plt.grid(True)\n",
    "\n",
    "# Save the figure\n",
    "plt.savefig(\"figures/Latitude_vs_Wind.png\")\n",
    "\n",
    "# Show plot\n",
    "plt.show()"
   ]
  },
  {
   "cell_type": "markdown",
   "metadata": {},
   "source": [
    "## Linear Regression"
   ]
  },
  {
   "cell_type": "markdown",
   "metadata": {},
   "source": [
    "####  Northern Hemisphere - Max Temp vs. Latitude Linear Regression"
   ]
  },
  {
   "cell_type": "code",
   "execution_count": 79,
   "metadata": {},
   "outputs": [
    {
     "data": {
      "text/html": [
       "<div>\n",
       "<style scoped>\n",
       "    .dataframe tbody tr th:only-of-type {\n",
       "        vertical-align: middle;\n",
       "    }\n",
       "\n",
       "    .dataframe tbody tr th {\n",
       "        vertical-align: top;\n",
       "    }\n",
       "\n",
       "    .dataframe thead th {\n",
       "        text-align: right;\n",
       "    }\n",
       "</style>\n",
       "<table border=\"1\" class=\"dataframe\">\n",
       "  <thead>\n",
       "    <tr style=\"text-align: right;\">\n",
       "      <th></th>\n",
       "      <th>City</th>\n",
       "      <th>Lat</th>\n",
       "      <th>Lng</th>\n",
       "      <th>Country</th>\n",
       "      <th>Max.Temp</th>\n",
       "      <th>Humidity</th>\n",
       "      <th>Cloudiness</th>\n",
       "      <th>Wind Speed</th>\n",
       "    </tr>\n",
       "  </thead>\n",
       "  <tbody>\n",
       "    <tr>\n",
       "      <th>0</th>\n",
       "      <td>Tessalit</td>\n",
       "      <td>20.1986</td>\n",
       "      <td>1.0114</td>\n",
       "      <td>ML</td>\n",
       "      <td>24.90</td>\n",
       "      <td>8</td>\n",
       "      <td>0</td>\n",
       "      <td>3.87</td>\n",
       "    </tr>\n",
       "    <tr>\n",
       "      <th>1</th>\n",
       "      <td>Esperance</td>\n",
       "      <td>-33.8667</td>\n",
       "      <td>121.9000</td>\n",
       "      <td>AU</td>\n",
       "      <td>16.00</td>\n",
       "      <td>94</td>\n",
       "      <td>0</td>\n",
       "      <td>5.66</td>\n",
       "    </tr>\n",
       "    <tr>\n",
       "      <th>2</th>\n",
       "      <td>Ushuaia</td>\n",
       "      <td>-54.8000</td>\n",
       "      <td>-68.3000</td>\n",
       "      <td>AR</td>\n",
       "      <td>12.00</td>\n",
       "      <td>47</td>\n",
       "      <td>75</td>\n",
       "      <td>5.14</td>\n",
       "    </tr>\n",
       "    <tr>\n",
       "      <th>3</th>\n",
       "      <td>Narsaq</td>\n",
       "      <td>60.9167</td>\n",
       "      <td>-46.0500</td>\n",
       "      <td>GL</td>\n",
       "      <td>-1.00</td>\n",
       "      <td>40</td>\n",
       "      <td>75</td>\n",
       "      <td>5.14</td>\n",
       "    </tr>\n",
       "    <tr>\n",
       "      <th>4</th>\n",
       "      <td>Mount Gambier</td>\n",
       "      <td>-37.8333</td>\n",
       "      <td>140.7667</td>\n",
       "      <td>AU</td>\n",
       "      <td>15.00</td>\n",
       "      <td>88</td>\n",
       "      <td>0</td>\n",
       "      <td>4.12</td>\n",
       "    </tr>\n",
       "    <tr>\n",
       "      <th>5</th>\n",
       "      <td>Carupano</td>\n",
       "      <td>10.6678</td>\n",
       "      <td>-63.2585</td>\n",
       "      <td>VE</td>\n",
       "      <td>26.25</td>\n",
       "      <td>74</td>\n",
       "      <td>100</td>\n",
       "      <td>4.65</td>\n",
       "    </tr>\n",
       "    <tr>\n",
       "      <th>6</th>\n",
       "      <td>Carnot</td>\n",
       "      <td>4.9409</td>\n",
       "      <td>15.8665</td>\n",
       "      <td>CF</td>\n",
       "      <td>22.10</td>\n",
       "      <td>90</td>\n",
       "      <td>100</td>\n",
       "      <td>0.41</td>\n",
       "    </tr>\n",
       "    <tr>\n",
       "      <th>7</th>\n",
       "      <td>Hong Kong</td>\n",
       "      <td>22.2855</td>\n",
       "      <td>114.1577</td>\n",
       "      <td>HK</td>\n",
       "      <td>22.21</td>\n",
       "      <td>88</td>\n",
       "      <td>15</td>\n",
       "      <td>2.26</td>\n",
       "    </tr>\n",
       "    <tr>\n",
       "      <th>8</th>\n",
       "      <td>Mataura</td>\n",
       "      <td>-46.1927</td>\n",
       "      <td>168.8643</td>\n",
       "      <td>NZ</td>\n",
       "      <td>11.11</td>\n",
       "      <td>88</td>\n",
       "      <td>100</td>\n",
       "      <td>1.34</td>\n",
       "    </tr>\n",
       "    <tr>\n",
       "      <th>9</th>\n",
       "      <td>Mar del Plata</td>\n",
       "      <td>-38.0023</td>\n",
       "      <td>-57.5575</td>\n",
       "      <td>AR</td>\n",
       "      <td>21.75</td>\n",
       "      <td>46</td>\n",
       "      <td>0</td>\n",
       "      <td>6.17</td>\n",
       "    </tr>\n",
       "    <tr>\n",
       "      <th>10</th>\n",
       "      <td>Rikitea</td>\n",
       "      <td>-23.1203</td>\n",
       "      <td>-134.9692</td>\n",
       "      <td>PF</td>\n",
       "      <td>27.03</td>\n",
       "      <td>77</td>\n",
       "      <td>100</td>\n",
       "      <td>6.44</td>\n",
       "    </tr>\n",
       "    <tr>\n",
       "      <th>11</th>\n",
       "      <td>Nome</td>\n",
       "      <td>64.5011</td>\n",
       "      <td>-165.4064</td>\n",
       "      <td>US</td>\n",
       "      <td>-28.46</td>\n",
       "      <td>69</td>\n",
       "      <td>1</td>\n",
       "      <td>1.86</td>\n",
       "    </tr>\n",
       "    <tr>\n",
       "      <th>12</th>\n",
       "      <td>Mahon</td>\n",
       "      <td>39.8885</td>\n",
       "      <td>4.2658</td>\n",
       "      <td>ES</td>\n",
       "      <td>7.00</td>\n",
       "      <td>65</td>\n",
       "      <td>40</td>\n",
       "      <td>2.57</td>\n",
       "    </tr>\n",
       "    <tr>\n",
       "      <th>13</th>\n",
       "      <td>Chui</td>\n",
       "      <td>-33.6971</td>\n",
       "      <td>-53.4616</td>\n",
       "      <td>UY</td>\n",
       "      <td>21.39</td>\n",
       "      <td>60</td>\n",
       "      <td>0</td>\n",
       "      <td>3.99</td>\n",
       "    </tr>\n",
       "    <tr>\n",
       "      <th>14</th>\n",
       "      <td>Punta Arenas</td>\n",
       "      <td>-53.1500</td>\n",
       "      <td>-70.9167</td>\n",
       "      <td>CL</td>\n",
       "      <td>10.00</td>\n",
       "      <td>71</td>\n",
       "      <td>75</td>\n",
       "      <td>8.75</td>\n",
       "    </tr>\n",
       "    <tr>\n",
       "      <th>15</th>\n",
       "      <td>Bredasdorp</td>\n",
       "      <td>-34.5322</td>\n",
       "      <td>20.0403</td>\n",
       "      <td>ZA</td>\n",
       "      <td>19.00</td>\n",
       "      <td>72</td>\n",
       "      <td>100</td>\n",
       "      <td>2.06</td>\n",
       "    </tr>\n",
       "    <tr>\n",
       "      <th>16</th>\n",
       "      <td>Isangel</td>\n",
       "      <td>-19.5500</td>\n",
       "      <td>169.2667</td>\n",
       "      <td>VU</td>\n",
       "      <td>21.00</td>\n",
       "      <td>94</td>\n",
       "      <td>20</td>\n",
       "      <td>5.27</td>\n",
       "    </tr>\n",
       "  </tbody>\n",
       "</table>\n",
       "</div>"
      ],
      "text/plain": [
       "             City      Lat       Lng Country  Max.Temp  Humidity  Cloudiness  \\\n",
       "0        Tessalit  20.1986    1.0114      ML     24.90         8           0   \n",
       "1       Esperance -33.8667  121.9000      AU     16.00        94           0   \n",
       "2         Ushuaia -54.8000  -68.3000      AR     12.00        47          75   \n",
       "3          Narsaq  60.9167  -46.0500      GL     -1.00        40          75   \n",
       "4   Mount Gambier -37.8333  140.7667      AU     15.00        88           0   \n",
       "5        Carupano  10.6678  -63.2585      VE     26.25        74         100   \n",
       "6          Carnot   4.9409   15.8665      CF     22.10        90         100   \n",
       "7       Hong Kong  22.2855  114.1577      HK     22.21        88          15   \n",
       "8         Mataura -46.1927  168.8643      NZ     11.11        88         100   \n",
       "9   Mar del Plata -38.0023  -57.5575      AR     21.75        46           0   \n",
       "10        Rikitea -23.1203 -134.9692      PF     27.03        77         100   \n",
       "11           Nome  64.5011 -165.4064      US    -28.46        69           1   \n",
       "12          Mahon  39.8885    4.2658      ES      7.00        65          40   \n",
       "13           Chui -33.6971  -53.4616      UY     21.39        60           0   \n",
       "14   Punta Arenas -53.1500  -70.9167      CL     10.00        71          75   \n",
       "15     Bredasdorp -34.5322   20.0403      ZA     19.00        72         100   \n",
       "16        Isangel -19.5500  169.2667      VU     21.00        94          20   \n",
       "\n",
       "    Wind Speed  \n",
       "0         3.87  \n",
       "1         5.66  \n",
       "2         5.14  \n",
       "3         5.14  \n",
       "4         4.12  \n",
       "5         4.65  \n",
       "6         0.41  \n",
       "7         2.26  \n",
       "8         1.34  \n",
       "9         6.17  \n",
       "10        6.44  \n",
       "11        1.86  \n",
       "12        2.57  \n",
       "13        3.99  \n",
       "14        8.75  \n",
       "15        2.06  \n",
       "16        5.27  "
      ]
     },
     "execution_count": 79,
     "metadata": {},
     "output_type": "execute_result"
    }
   ],
   "source": [
    "# # Get weight and tumor volume from previous dataframe\n",
    "# max_temp = weather_data_df[\"Max.Temp\"]\n",
    "# lat = weather_data_df[\"Lat\"]\n",
    "# northern_lat = []\n",
    "# lower_limit = 0\n",
    "# upper_limit = 90\n",
    "\n",
    "# lat\n",
    "# weather_data_df\n",
    "# # for item in lat:\n",
    "# #     if lat(item) > lower_limit:\n",
    "# #         northern_lat.append(item)\n",
    "        \n",
    "# # northern_lat\n",
    "\n",
    "# # lat = lat.loc(lat[\"Lat\"] > 0)\n",
    "\n",
    "\n",
    "\n",
    "\n",
    "# #---------------------------------\n",
    "\n",
    "# # Calculate linear regression for above values weight and tumor volume\n",
    "# (slope, intercept, rvalue, pvalue, stderr) = linregress(max_temp, lat)\n",
    "# regress_values = max_temp * slope + intercept\n",
    "# line_eq = \"y = \" + str(round(slope,2)) + \"x + \" + str(round(intercept,2)) # equation of a line y = mx + b \n",
    "\n",
    "# # clean_city_data_df = weather_data_df.loc(weather_data_df[\"Humidity\"] == 94)\n",
    "# # # Calculate the correlation coefficient between mouse weight and average tumor volume\n",
    "# # correlation = st.pearsonr(max_temp,lat)                 # pearson method\n",
    "# # correlation = round(correlation[0],2)                 # round value with 2 decimals\n",
    "# # # Print answer of above calculation\n",
    "# # print(f\"The correlation coeficient between Max.Temperature and Latitude is {correlation}\")\n",
    "\n",
    "\n",
    "\n",
    "\n",
    "\n",
    "# plt.figure(figsize=(14, 8))                                        # Set up total size of graph\n",
    "\n",
    "# # Plot linear regression on top of scatter plot ----------------------------------------------------\n",
    "# # Plot scatter\n",
    "# plt.scatter(max_temp, lat,\n",
    "#             s=20, \n",
    "#             color=\"yellow\",\n",
    "#             edgecolors='black')\n",
    "\n",
    "# # plot linear regression with variables\n",
    "# plt.plot(max_temp,regress_values,\"r-\")\n",
    "\n",
    "# # Show formula for linear regression\n",
    "# plt.annotate(line_eq,(18.1,41),              # position of line formula within x, y values in graph\n",
    "#              fontsize=14.5,\n",
    "#              color=\"red\")  \n",
    "\n",
    "# # Add labels and title to plot\n",
    "# plt.title(\"Northern Hemisphere - Linear regression of Max Temp. vs Latitude\",fontsize =18)\n",
    "# plt.xlabel(\"Max. Temperature (C)\",fontsize =16)\n",
    "# plt.ylabel(\"Latitude\",fontsize =16)\n",
    "# plt.xticks(fontsize=13)\n",
    "# plt.yticks(np.arange(0, 90, 10.0))  \n",
    "# plt.yticks(fontsize=13)\n",
    "# plt.grid()\n",
    "\n",
    "# # Save the figure\n",
    "# plt.savefig(\"figures/Regression_Latitude_vs_Temp.png\")\n",
    "\n",
    "# # Show plot\n",
    "# plt.show()\n",
    "\n"
   ]
  },
  {
   "cell_type": "markdown",
   "metadata": {},
   "source": [
    "####  Southern Hemisphere - Max Temp vs. Latitude Linear Regression"
   ]
  },
  {
   "cell_type": "code",
   "execution_count": null,
   "metadata": {},
   "outputs": [],
   "source": []
  },
  {
   "cell_type": "markdown",
   "metadata": {},
   "source": [
    "####  Northern Hemisphere - Humidity (%) vs. Latitude Linear Regression"
   ]
  },
  {
   "cell_type": "code",
   "execution_count": null,
   "metadata": {},
   "outputs": [],
   "source": []
  },
  {
   "cell_type": "markdown",
   "metadata": {},
   "source": [
    "####  Southern Hemisphere - Humidity (%) vs. Latitude Linear Regression"
   ]
  },
  {
   "cell_type": "code",
   "execution_count": null,
   "metadata": {},
   "outputs": [],
   "source": []
  },
  {
   "cell_type": "markdown",
   "metadata": {},
   "source": [
    "####  Northern Hemisphere - Cloudiness (%) vs. Latitude Linear Regression"
   ]
  },
  {
   "cell_type": "code",
   "execution_count": null,
   "metadata": {},
   "outputs": [],
   "source": []
  },
  {
   "cell_type": "markdown",
   "metadata": {},
   "source": [
    "####  Southern Hemisphere - Cloudiness (%) vs. Latitude Linear Regression"
   ]
  },
  {
   "cell_type": "code",
   "execution_count": null,
   "metadata": {},
   "outputs": [],
   "source": []
  },
  {
   "cell_type": "markdown",
   "metadata": {},
   "source": [
    "####  Northern Hemisphere - Wind Speed (mph) vs. Latitude Linear Regression"
   ]
  },
  {
   "cell_type": "code",
   "execution_count": null,
   "metadata": {},
   "outputs": [],
   "source": []
  },
  {
   "cell_type": "markdown",
   "metadata": {},
   "source": [
    "####  Southern Hemisphere - Wind Speed (mph) vs. Latitude Linear Regression"
   ]
  },
  {
   "cell_type": "code",
   "execution_count": null,
   "metadata": {},
   "outputs": [],
   "source": []
  },
  {
   "cell_type": "code",
   "execution_count": null,
   "metadata": {},
   "outputs": [],
   "source": []
  }
 ],
 "metadata": {
  "anaconda-cloud": {},
  "kernel_info": {
   "name": "python3"
  },
  "kernelspec": {
   "display_name": "Python 3",
   "language": "python",
   "name": "python3"
  },
  "language_info": {
   "codemirror_mode": {
    "name": "ipython",
    "version": 3
   },
   "file_extension": ".py",
   "mimetype": "text/x-python",
   "name": "python",
   "nbconvert_exporter": "python",
   "pygments_lexer": "ipython3",
   "version": "3.6.10"
  },
  "latex_envs": {
   "LaTeX_envs_menu_present": true,
   "autoclose": false,
   "autocomplete": true,
   "bibliofile": "biblio.bib",
   "cite_by": "apalike",
   "current_citInitial": 1,
   "eqLabelWithNumbers": true,
   "eqNumInitial": 1,
   "hotkeys": {
    "equation": "Ctrl-E",
    "itemize": "Ctrl-I"
   },
   "labels_anchors": false,
   "latex_user_defs": false,
   "report_style_numbering": false,
   "user_envs_cfg": false
  },
  "nteract": {
   "version": "0.12.3"
  }
 },
 "nbformat": 4,
 "nbformat_minor": 2
}
