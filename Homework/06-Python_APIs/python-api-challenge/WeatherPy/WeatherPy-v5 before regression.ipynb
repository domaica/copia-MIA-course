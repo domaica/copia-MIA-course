{
 "cells": [
  {
   "cell_type": "markdown",
   "metadata": {},
   "source": [
    "# WeatherPy\n",
    "----\n",
    "\n",
    "#### Note\n",
    "* Instructions have been included for each segment. You do not have to follow them exactly, but they are included to help you think through the steps."
   ]
  },
  {
   "cell_type": "code",
   "execution_count": 1,
   "metadata": {},
   "outputs": [],
   "source": [
    "# pip install citipy"
   ]
  },
  {
   "cell_type": "code",
   "execution_count": 19,
   "metadata": {
    "scrolled": true
   },
   "outputs": [
    {
     "name": "stdout",
     "output_type": "stream",
     "text": [
      "99f96a0396de356f1b82d64d481006c5\n"
     ]
    }
   ],
   "source": [
    "# Dependencies and Setup\n",
    "import matplotlib.pyplot as plt\n",
    "import pandas as pd\n",
    "import numpy as np\n",
    "import requests\n",
    "import time\n",
    "import scipy.stats as st\n",
    "from scipy.stats import linregress\n",
    "\n",
    "# Import API key\n",
    "from config import weather_api_key\n",
    "\n",
    "# Incorporated citipy to determine city based on latitude and longitude\n",
    "from citipy import citipy\n",
    "\n",
    "# Output File (CSV)\n",
    "output_data_file = \"output_data/cities.csv\"\n",
    "\n",
    "# Range of latitudes and longitudes\n",
    "lat_range = (-90, 90)\n",
    "lng_range = (-180, 180)\n",
    "\n",
    "print(weather_api_key)"
   ]
  },
  {
   "cell_type": "markdown",
   "metadata": {},
   "source": [
    "## Generate Cities List"
   ]
  },
  {
   "cell_type": "code",
   "execution_count": 20,
   "metadata": {
    "scrolled": true
   },
   "outputs": [
    {
     "data": {
      "text/plain": [
       "19"
      ]
     },
     "execution_count": 20,
     "metadata": {},
     "output_type": "execute_result"
    }
   ],
   "source": [
    "# List for holding lat_lngs and cities\n",
    "lat_lngs = []\n",
    "cities = []\n",
    "\n",
    "# Create a set of random lat and lng combinations\n",
    "lats = np.random.uniform(lat_range[0], lat_range[1], size=20)\n",
    "lngs = np.random.uniform(lng_range[0], lng_range[1], size=20)\n",
    "lat_lngs = zip(lats, lngs)\n",
    "\n",
    "# Identify nearest city for each lat, lng combination\n",
    "for lat_lng in lat_lngs:\n",
    "    city = citipy.nearest_city(lat_lng[0], lat_lng[1]).city_name\n",
    "    \n",
    "    # If the city is unique, then add it to a our cities list\n",
    "    if city not in cities:\n",
    "        cities.append(city)\n",
    "\n",
    "# Print the city count to confirm sufficient count\n",
    "len(cities)\n",
    "# print(cities)"
   ]
  },
  {
   "cell_type": "markdown",
   "metadata": {},
   "source": [
    "### Perform API Calls\n",
    "* Perform a weather check on each city using a series of successive API calls.\n",
    "* Include a print log of each city as it'sbeing processed (with the city number and city name).\n"
   ]
  },
  {
   "cell_type": "code",
   "execution_count": 21,
   "metadata": {
    "scrolled": true
   },
   "outputs": [
    {
     "name": "stdout",
     "output_type": "stream",
     "text": [
      "------------------------\n",
      "Beginning Weather Check\n",
      "------------------------\n",
      "Retrieving data from city of arraial do cabo ==> Record 1\n",
      "Retrieving data from city of cape town ==> Record 2\n",
      "Retrieving data from city of zhigansk ==> Record 3\n",
      "Retrieving data from city of santiago del estero ==> Record 4\n",
      "Retrieving data from city of egvekinot ==> Record 5\n",
      "Retrieving data from city of hofn ==> Record 6\n",
      "Retrieving data from city of hobart ==> Record 7\n",
      "Retrieving data from city of gravdal ==> Record 8\n",
      "Retrieving data from city of hithadhoo ==> Record 9\n",
      "Retrieving data from city of saint-francois ==> Record 10\n",
      "Retrieving data from city of muskogee ==> Record 11\n",
      "Retrieving data from city of namwala ==> Record 12\n",
      "Retrieving data from city of pevek ==> Record 13\n",
      "Retrieving data from city of port lincoln ==> Record 14\n",
      "Retrieving data from city of colac ==> Record 15\n",
      "Retrieving data from city of laguna ==> Record 16\n",
      "Retrieving data from city of atbasar ==> Record 17\n",
      "Retrieving data from city of thompson ==> Record 18\n",
      "Retrieving data from city of jamestown ==> Record 19\n",
      "-------------------------\n",
      "Finished weather check\n",
      "-------------------------\n"
     ]
    }
   ],
   "source": [
    "# OpenWeatherMap API Key\n",
    "api_key = weather_api_key\n",
    "# Starting URL for Weather Map API Call\n",
    "url = \"http://api.openweathermap.org/data/2.5/weather?units=Metric&APPID=\" + api_key\n",
    "\n",
    "# Create empty lists to append the API data into lists \n",
    "city_list = []\n",
    "country_list = []\n",
    "lat_list = []\n",
    "lng_list = []\n",
    "temperature_list = []\n",
    "cloud_list = []\n",
    "humidity_list = []\n",
    "wind_speed_list = []\n",
    "\n",
    "record_counter = 0\n",
    "\n",
    "print('------------------------')\n",
    "print('Beginning Weather Check')\n",
    "print('------------------------')\n",
    "\n",
    "for city in cities:\n",
    "    # Try statement to append calls where value is found \n",
    "    # Not all calls return data as OpenWeatherMap will\n",
    "    # not have have records in all the cities generated by CityPy module\n",
    "    try: \n",
    "    \n",
    "        query_url = url + \"&q=\" + city\n",
    "        # Get weather data\n",
    "        response = requests.get(query_url).json()\n",
    "\n",
    "    #     response = requests.get(query_url + city).json()\n",
    "        city_list.append(response[\"name\"])\n",
    "        country_list.append(response[\"sys\"][\"country\"])\n",
    "        lat_list.append(response[\"coord\"][\"lat\"])\n",
    "        lng_list.append(response[\"coord\"][\"lon\"])\n",
    "        temperature_list.append(response['main']['temp_max'])    \n",
    "        cloud_list.append(response[\"clouds\"][\"all\"])\n",
    "        humidity_list.append(response[\"main\"][\"humidity\"])\n",
    "\n",
    "    #    date_list.append(response[\"dt\"])\n",
    "        wind_speed_list.append(response[\"wind\"][\"speed\"])\n",
    "        record_counter += 1\n",
    "        print('Retrieving data from city of {} ==> Record {}'.format(city, record_counter))\n",
    "    \n",
    "#         # If no record found \"skip\" to next city\n",
    "    except:\n",
    "        print('-------------------------')\n",
    "        print(\"There are not enough weather information{}. Skip record.\")\n",
    "        print('-------------------------')\n",
    "        #         print(query_url)\n",
    "\n",
    "\n",
    "    pass\n",
    "    \n",
    "    \n",
    "    \n",
    "    \n",
    "    \n",
    "\n",
    "\n",
    "print('-------------------------')\n",
    "print('Finished weather check')\n",
    "print('-------------------------')"
   ]
  },
  {
   "cell_type": "markdown",
   "metadata": {},
   "source": [
    "### Convert Raw Data to DataFrame\n",
    "* Export the city data into a .csv.\n",
    "* Display the DataFrame"
   ]
  },
  {
   "cell_type": "code",
   "execution_count": 22,
   "metadata": {
    "scrolled": false
   },
   "outputs": [
    {
     "data": {
      "text/html": [
       "<div>\n",
       "<style scoped>\n",
       "    .dataframe tbody tr th:only-of-type {\n",
       "        vertical-align: middle;\n",
       "    }\n",
       "\n",
       "    .dataframe tbody tr th {\n",
       "        vertical-align: top;\n",
       "    }\n",
       "\n",
       "    .dataframe thead th {\n",
       "        text-align: right;\n",
       "    }\n",
       "</style>\n",
       "<table border=\"1\" class=\"dataframe\">\n",
       "  <thead>\n",
       "    <tr style=\"text-align: right;\">\n",
       "      <th></th>\n",
       "      <th>City</th>\n",
       "      <th>Lat</th>\n",
       "      <th>Lng</th>\n",
       "      <th>Country</th>\n",
       "      <th>Max.Temp</th>\n",
       "      <th>Humidity</th>\n",
       "      <th>Cloudiness</th>\n",
       "      <th>Wind Speed</th>\n",
       "    </tr>\n",
       "  </thead>\n",
       "  <tbody>\n",
       "    <tr>\n",
       "      <th>0</th>\n",
       "      <td>Arraial do Cabo</td>\n",
       "      <td>-22.9661</td>\n",
       "      <td>-42.0278</td>\n",
       "      <td>BR</td>\n",
       "      <td>27.00</td>\n",
       "      <td>69</td>\n",
       "      <td>20</td>\n",
       "      <td>5.66</td>\n",
       "    </tr>\n",
       "    <tr>\n",
       "      <th>1</th>\n",
       "      <td>Cape Town</td>\n",
       "      <td>-33.9258</td>\n",
       "      <td>18.4232</td>\n",
       "      <td>ZA</td>\n",
       "      <td>19.44</td>\n",
       "      <td>63</td>\n",
       "      <td>20</td>\n",
       "      <td>8.23</td>\n",
       "    </tr>\n",
       "    <tr>\n",
       "      <th>2</th>\n",
       "      <td>Zhigansk</td>\n",
       "      <td>66.7697</td>\n",
       "      <td>123.3711</td>\n",
       "      <td>RU</td>\n",
       "      <td>-30.18</td>\n",
       "      <td>90</td>\n",
       "      <td>100</td>\n",
       "      <td>0.97</td>\n",
       "    </tr>\n",
       "    <tr>\n",
       "      <th>3</th>\n",
       "      <td>Santiago del Estero</td>\n",
       "      <td>-27.7951</td>\n",
       "      <td>-64.2615</td>\n",
       "      <td>AR</td>\n",
       "      <td>22.91</td>\n",
       "      <td>56</td>\n",
       "      <td>98</td>\n",
       "      <td>1.34</td>\n",
       "    </tr>\n",
       "    <tr>\n",
       "      <th>4</th>\n",
       "      <td>Egvekinot</td>\n",
       "      <td>66.3167</td>\n",
       "      <td>-179.1667</td>\n",
       "      <td>RU</td>\n",
       "      <td>-22.30</td>\n",
       "      <td>73</td>\n",
       "      <td>59</td>\n",
       "      <td>3.63</td>\n",
       "    </tr>\n",
       "    <tr>\n",
       "      <th>5</th>\n",
       "      <td>Hofn</td>\n",
       "      <td>64.2539</td>\n",
       "      <td>-15.2082</td>\n",
       "      <td>IS</td>\n",
       "      <td>7.23</td>\n",
       "      <td>88</td>\n",
       "      <td>44</td>\n",
       "      <td>7.94</td>\n",
       "    </tr>\n",
       "    <tr>\n",
       "      <th>6</th>\n",
       "      <td>Hobart</td>\n",
       "      <td>-42.8794</td>\n",
       "      <td>147.3294</td>\n",
       "      <td>AU</td>\n",
       "      <td>13.33</td>\n",
       "      <td>87</td>\n",
       "      <td>75</td>\n",
       "      <td>2.57</td>\n",
       "    </tr>\n",
       "    <tr>\n",
       "      <th>7</th>\n",
       "      <td>Gravdal</td>\n",
       "      <td>68.1214</td>\n",
       "      <td>13.5031</td>\n",
       "      <td>NO</td>\n",
       "      <td>5.00</td>\n",
       "      <td>65</td>\n",
       "      <td>75</td>\n",
       "      <td>5.66</td>\n",
       "    </tr>\n",
       "    <tr>\n",
       "      <th>8</th>\n",
       "      <td>Hithadhoo</td>\n",
       "      <td>-0.6000</td>\n",
       "      <td>73.0833</td>\n",
       "      <td>MV</td>\n",
       "      <td>28.08</td>\n",
       "      <td>74</td>\n",
       "      <td>99</td>\n",
       "      <td>5.34</td>\n",
       "    </tr>\n",
       "    <tr>\n",
       "      <th>9</th>\n",
       "      <td>Saint-François</td>\n",
       "      <td>46.4154</td>\n",
       "      <td>3.9054</td>\n",
       "      <td>FR</td>\n",
       "      <td>2.22</td>\n",
       "      <td>75</td>\n",
       "      <td>0</td>\n",
       "      <td>3.09</td>\n",
       "    </tr>\n",
       "    <tr>\n",
       "      <th>10</th>\n",
       "      <td>Muskogee</td>\n",
       "      <td>35.5834</td>\n",
       "      <td>-95.3336</td>\n",
       "      <td>US</td>\n",
       "      <td>17.00</td>\n",
       "      <td>36</td>\n",
       "      <td>1</td>\n",
       "      <td>6.17</td>\n",
       "    </tr>\n",
       "    <tr>\n",
       "      <th>11</th>\n",
       "      <td>Namwala</td>\n",
       "      <td>-15.7504</td>\n",
       "      <td>26.4384</td>\n",
       "      <td>ZM</td>\n",
       "      <td>17.72</td>\n",
       "      <td>94</td>\n",
       "      <td>0</td>\n",
       "      <td>1.43</td>\n",
       "    </tr>\n",
       "    <tr>\n",
       "      <th>12</th>\n",
       "      <td>Pevek</td>\n",
       "      <td>69.7008</td>\n",
       "      <td>170.3133</td>\n",
       "      <td>RU</td>\n",
       "      <td>-26.91</td>\n",
       "      <td>90</td>\n",
       "      <td>100</td>\n",
       "      <td>0.73</td>\n",
       "    </tr>\n",
       "    <tr>\n",
       "      <th>13</th>\n",
       "      <td>Port Lincoln</td>\n",
       "      <td>-34.7333</td>\n",
       "      <td>135.8667</td>\n",
       "      <td>AU</td>\n",
       "      <td>20.86</td>\n",
       "      <td>73</td>\n",
       "      <td>0</td>\n",
       "      <td>6.05</td>\n",
       "    </tr>\n",
       "    <tr>\n",
       "      <th>14</th>\n",
       "      <td>Colac</td>\n",
       "      <td>-38.3333</td>\n",
       "      <td>143.5833</td>\n",
       "      <td>AU</td>\n",
       "      <td>16.11</td>\n",
       "      <td>93</td>\n",
       "      <td>4</td>\n",
       "      <td>0.89</td>\n",
       "    </tr>\n",
       "    <tr>\n",
       "      <th>15</th>\n",
       "      <td>Laguna</td>\n",
       "      <td>38.4210</td>\n",
       "      <td>-121.4238</td>\n",
       "      <td>US</td>\n",
       "      <td>17.78</td>\n",
       "      <td>63</td>\n",
       "      <td>75</td>\n",
       "      <td>2.06</td>\n",
       "    </tr>\n",
       "    <tr>\n",
       "      <th>16</th>\n",
       "      <td>Atbasar</td>\n",
       "      <td>51.8000</td>\n",
       "      <td>68.3333</td>\n",
       "      <td>KZ</td>\n",
       "      <td>0.87</td>\n",
       "      <td>96</td>\n",
       "      <td>100</td>\n",
       "      <td>5.89</td>\n",
       "    </tr>\n",
       "    <tr>\n",
       "      <th>17</th>\n",
       "      <td>Thompson</td>\n",
       "      <td>55.7435</td>\n",
       "      <td>-97.8558</td>\n",
       "      <td>CA</td>\n",
       "      <td>10.00</td>\n",
       "      <td>40</td>\n",
       "      <td>75</td>\n",
       "      <td>4.63</td>\n",
       "    </tr>\n",
       "    <tr>\n",
       "      <th>18</th>\n",
       "      <td>Jamestown</td>\n",
       "      <td>42.0970</td>\n",
       "      <td>-79.2353</td>\n",
       "      <td>US</td>\n",
       "      <td>3.33</td>\n",
       "      <td>25</td>\n",
       "      <td>1</td>\n",
       "      <td>3.88</td>\n",
       "    </tr>\n",
       "  </tbody>\n",
       "</table>\n",
       "</div>"
      ],
      "text/plain": [
       "                   City      Lat       Lng Country  Max.Temp  Humidity  \\\n",
       "0       Arraial do Cabo -22.9661  -42.0278      BR     27.00        69   \n",
       "1             Cape Town -33.9258   18.4232      ZA     19.44        63   \n",
       "2              Zhigansk  66.7697  123.3711      RU    -30.18        90   \n",
       "3   Santiago del Estero -27.7951  -64.2615      AR     22.91        56   \n",
       "4             Egvekinot  66.3167 -179.1667      RU    -22.30        73   \n",
       "5                  Hofn  64.2539  -15.2082      IS      7.23        88   \n",
       "6                Hobart -42.8794  147.3294      AU     13.33        87   \n",
       "7               Gravdal  68.1214   13.5031      NO      5.00        65   \n",
       "8             Hithadhoo  -0.6000   73.0833      MV     28.08        74   \n",
       "9        Saint-François  46.4154    3.9054      FR      2.22        75   \n",
       "10             Muskogee  35.5834  -95.3336      US     17.00        36   \n",
       "11              Namwala -15.7504   26.4384      ZM     17.72        94   \n",
       "12                Pevek  69.7008  170.3133      RU    -26.91        90   \n",
       "13         Port Lincoln -34.7333  135.8667      AU     20.86        73   \n",
       "14                Colac -38.3333  143.5833      AU     16.11        93   \n",
       "15               Laguna  38.4210 -121.4238      US     17.78        63   \n",
       "16              Atbasar  51.8000   68.3333      KZ      0.87        96   \n",
       "17             Thompson  55.7435  -97.8558      CA     10.00        40   \n",
       "18            Jamestown  42.0970  -79.2353      US      3.33        25   \n",
       "\n",
       "    Cloudiness  Wind Speed  \n",
       "0           20        5.66  \n",
       "1           20        8.23  \n",
       "2          100        0.97  \n",
       "3           98        1.34  \n",
       "4           59        3.63  \n",
       "5           44        7.94  \n",
       "6           75        2.57  \n",
       "7           75        5.66  \n",
       "8           99        5.34  \n",
       "9            0        3.09  \n",
       "10           1        6.17  \n",
       "11           0        1.43  \n",
       "12         100        0.73  \n",
       "13           0        6.05  \n",
       "14           4        0.89  \n",
       "15          75        2.06  \n",
       "16         100        5.89  \n",
       "17          75        4.63  \n",
       "18           1        3.88  "
      ]
     },
     "execution_count": 22,
     "metadata": {},
     "output_type": "execute_result"
    }
   ],
   "source": [
    "# move data to dictionary and the DF\n",
    "weather_data_dict = {\n",
    "    \"City\": city_list,\n",
    "    \"Lat\":lat_list, \n",
    "    \"Lng\":lng_list, \n",
    "    \"Country\":country_list,\n",
    "    \"Max.Temp\": temperature_list,    \n",
    "    \"Humidity\": humidity_list,   \n",
    "    \"Cloudiness\":cloud_list, \n",
    "    \"Wind Speed\":wind_speed_list\n",
    "}\n",
    "\n",
    "# Create a data frame from dictionary\n",
    "weather_data_df = pd.DataFrame(weather_data_dict)\n",
    "\n",
    "# Display count of weather data values \n",
    "# weather_data_df.count()\n",
    "weather_data_df\n",
    "\n"
   ]
  },
  {
   "cell_type": "code",
   "execution_count": 23,
   "metadata": {},
   "outputs": [],
   "source": [
    "# Save data frame to CSV\n",
    "# i have anticipated step\n",
    "weather_data_df.to_csv('weather_data.csv')"
   ]
  },
  {
   "cell_type": "markdown",
   "metadata": {},
   "source": [
    "## Inspect the data and remove the cities where the humidity > 100%.\n",
    "----\n",
    "Skip this step if there are no cities that have humidity > 100%. "
   ]
  },
  {
   "cell_type": "code",
   "execution_count": 24,
   "metadata": {},
   "outputs": [
    {
     "data": {
      "text/html": [
       "<div>\n",
       "<style scoped>\n",
       "    .dataframe tbody tr th:only-of-type {\n",
       "        vertical-align: middle;\n",
       "    }\n",
       "\n",
       "    .dataframe tbody tr th {\n",
       "        vertical-align: top;\n",
       "    }\n",
       "\n",
       "    .dataframe thead th {\n",
       "        text-align: right;\n",
       "    }\n",
       "</style>\n",
       "<table border=\"1\" class=\"dataframe\">\n",
       "  <thead>\n",
       "    <tr style=\"text-align: right;\">\n",
       "      <th></th>\n",
       "      <th>City</th>\n",
       "      <th>Lat</th>\n",
       "      <th>Lng</th>\n",
       "      <th>Country</th>\n",
       "      <th>Max.Temp</th>\n",
       "      <th>Humidity</th>\n",
       "      <th>Cloudiness</th>\n",
       "      <th>Wind Speed</th>\n",
       "    </tr>\n",
       "  </thead>\n",
       "  <tbody>\n",
       "    <tr>\n",
       "      <th>11</th>\n",
       "      <td>Namwala</td>\n",
       "      <td>-15.7504</td>\n",
       "      <td>26.4384</td>\n",
       "      <td>ZM</td>\n",
       "      <td>17.72</td>\n",
       "      <td>94</td>\n",
       "      <td>0</td>\n",
       "      <td>1.43</td>\n",
       "    </tr>\n",
       "  </tbody>\n",
       "</table>\n",
       "</div>"
      ],
      "text/plain": [
       "       City      Lat      Lng Country  Max.Temp  Humidity  Cloudiness  \\\n",
       "11  Namwala -15.7504  26.4384      ZM     17.72        94           0   \n",
       "\n",
       "    Wind Speed  \n",
       "11        1.43  "
      ]
     },
     "execution_count": 24,
     "metadata": {},
     "output_type": "execute_result"
    }
   ],
   "source": [
    "# humid_100_df = weather_data_df.loc[reduced_df[\"Drug Regimen\"] == 100,:]\n",
    "\n",
    "humid_100_df = weather_data_df.loc[weather_data_df[\"Humidity\"] == 94,:]\n",
    "\n",
    "humid_100_df"
   ]
  },
  {
   "cell_type": "code",
   "execution_count": 25,
   "metadata": {},
   "outputs": [
    {
     "data": {
      "text/plain": [
       "Int64Index([11], dtype='int64')"
      ]
     },
     "execution_count": 25,
     "metadata": {},
     "output_type": "execute_result"
    }
   ],
   "source": [
    "#  Get the indices of cities that have humidity over 100%.\n",
    "humid_100_df.index"
   ]
  },
  {
   "cell_type": "code",
   "execution_count": 26,
   "metadata": {},
   "outputs": [],
   "source": [
    "# # Make a new DataFrame equal to the city data to drop all humidity outliers by index.\n",
    "# # Passing \"inplace=False\" will make a copy of the city_data DataFrame, which we call \n",
    "# # \"clean_city_data\".\n",
    "\n",
    "# # clean_city_data_df = weather_data_df.drop(weather_data_df[\"Humidity\"] == 94.index, inplace=False)\n",
    "# # clean_city_data_df = weather_data_df.loc(weather_data_df[\"Humidity\"] == 94, inplace=False)\n",
    "# clean_city_data_df = weather_data_df.loc(weather_data_df[\"Humidity\"] == 94)\n",
    "\n",
    "\n",
    "# #  clean_city_data_df =df.drop(df[df.score < 50].index, inplace=True)\n",
    "# clean_city_data_df"
   ]
  },
  {
   "cell_type": "markdown",
   "metadata": {},
   "source": [
    "## Plotting the Data\n",
    "* Use proper labeling of the plots using plot titles (including date of analysis) and axes labels.\n",
    "* Save the plotted figures as .pngs."
   ]
  },
  {
   "cell_type": "markdown",
   "metadata": {},
   "source": [
    "## Latitude vs. Temperature Plot"
   ]
  },
  {
   "cell_type": "code",
   "execution_count": 27,
   "metadata": {},
   "outputs": [],
   "source": [
    "# weather_data_df.columns"
   ]
  },
  {
   "cell_type": "code",
   "execution_count": 28,
   "metadata": {
    "scrolled": true
   },
   "outputs": [
    {
     "data": {
      "image/png": "[encoded data removed]",
      "text/plain": [
       "<Figure size 432x288 with 1 Axes>"
      ]
     },
     "metadata": {
      "needs_background": "light"
     },
     "output_type": "display_data"
    }
   ],
   "source": [
    "\n",
    "# Scatter plot\n",
    "plt.scatter(weather_data_df[\"Lat\"], weather_data_df[\"Max.Temp\"], marker=\"o\", s=10)\n",
    "\n",
    "# Incorporate the other graph properties\n",
    "plt.title(\"City Latitude vs. Max.Temperature\")\n",
    "plt.ylabel(\"Max. Temperature (C)\")\n",
    "plt.xlabel(\"Latitude\")\n",
    "plt.grid(True)\n",
    "\n",
    "# Save the figure\n",
    "plt.savefig(\"figures/Latitude_vs_Temp.png\")\n",
    "\n",
    "# Show plot\n",
    "plt.show()"
   ]
  },
  {
   "cell_type": "markdown",
   "metadata": {},
   "source": [
    "## Latitude vs. Humidity Plot"
   ]
  },
  {
   "cell_type": "code",
   "execution_count": 29,
   "metadata": {},
   "outputs": [
    {
     "data": {
      "image/png": "[encoded data removed]",
      "text/plain": [
       "<Figure size 432x288 with 1 Axes>"
      ]
     },
     "metadata": {
      "needs_background": "light"
     },
     "output_type": "display_data"
    }
   ],
   "source": [
    "\n",
    "# Scatter plot\n",
    "plt.scatter(weather_data_df[\"Lat\"], weather_data_df[\"Humidity\"], marker=\"o\", s=10)\n",
    "\n",
    "# Incorporate the other graph properties\n",
    "plt.title(\"City Latitude vs. Humidity\")\n",
    "plt.ylabel(\"Humidity %\")\n",
    "plt.xlabel(\"Latitude\")\n",
    "plt.grid(True)\n",
    "\n",
    "# Save the figure\n",
    "plt.savefig(\"figures/Latitude_vs_Humidity.png\")\n",
    "\n",
    "# Show plot\n",
    "plt.show()"
   ]
  },
  {
   "cell_type": "markdown",
   "metadata": {},
   "source": [
    "## Latitude vs. Cloudiness Plot"
   ]
  },
  {
   "cell_type": "code",
   "execution_count": 30,
   "metadata": {},
   "outputs": [
    {
     "data": {
      "image/png": "[encoded data removed]",
      "text/plain": [
       "<Figure size 432x288 with 1 Axes>"
      ]
     },
     "metadata": {
      "needs_background": "light"
     },
     "output_type": "display_data"
    }
   ],
   "source": [
    "# Scatter plot\n",
    "plt.scatter(weather_data_df[\"Lat\"], weather_data_df[\"Cloudiness\"], marker=\"o\", s=10)\n",
    "\n",
    "# Incorporate the other graph properties\n",
    "plt.title(\"City Latitude vs. Cloudiness\")\n",
    "plt.ylabel(\"Cloudiness\")\n",
    "plt.xlabel(\"Latitude\")\n",
    "plt.grid(True)\n",
    "\n",
    "# Save the figure\n",
    "plt.savefig(\"figures/Latitude_vs_Cloudiness.png\")\n",
    "\n",
    "# Show plot\n",
    "plt.show()"
   ]
  },
  {
   "cell_type": "markdown",
   "metadata": {},
   "source": [
    "## Latitude vs. Wind Speed Plot"
   ]
  },
  {
   "cell_type": "code",
   "execution_count": 31,
   "metadata": {},
   "outputs": [
    {
     "data": {
      "image/png": "[encoded data removed]",
      "text/plain": [
       "<Figure size 432x288 with 1 Axes>"
      ]
     },
     "metadata": {
      "needs_background": "light"
     },
     "output_type": "display_data"
    }
   ],
   "source": [
    "# Scatter plot\n",
    "plt.scatter(weather_data_df[\"Lat\"], weather_data_df[\"Wind Speed\"], marker=\"o\", s=10)\n",
    "\n",
    "# Incorporate the other graph properties\n",
    "plt.title(\"City Latitude vs. Wind Speed(kpm)\")\n",
    "plt.ylabel(\"Temperature (C)\")\n",
    "plt.xlabel(\"Wind Speed (kph)\")\n",
    "plt.grid(True)\n",
    "\n",
    "# Save the figure\n",
    "plt.savefig(\"figures/Latitude_vs_Wind.png\")\n",
    "\n",
    "# Show plot\n",
    "plt.show()"
   ]
  },
  {
   "cell_type": "markdown",
   "metadata": {},
   "source": [
    "## Linear Regression"
   ]
  },
  {
   "cell_type": "markdown",
   "metadata": {},
   "source": [
    "####  Northern Hemisphere - Max Temp vs. Latitude Linear Regression"
   ]
  },
  {
   "cell_type": "code",
   "execution_count": 32,
   "metadata": {},
   "outputs": [
    {
     "data": {
      "text/html": [
       "<div>\n",
       "<style scoped>\n",
       "    .dataframe tbody tr th:only-of-type {\n",
       "        vertical-align: middle;\n",
       "    }\n",
       "\n",
       "    .dataframe tbody tr th {\n",
       "        vertical-align: top;\n",
       "    }\n",
       "\n",
       "    .dataframe thead th {\n",
       "        text-align: right;\n",
       "    }\n",
       "</style>\n",
       "<table border=\"1\" class=\"dataframe\">\n",
       "  <thead>\n",
       "    <tr style=\"text-align: right;\">\n",
       "      <th></th>\n",
       "      <th>City</th>\n",
       "      <th>Lat</th>\n",
       "      <th>Lng</th>\n",
       "      <th>Country</th>\n",
       "      <th>Max.Temp</th>\n",
       "      <th>Humidity</th>\n",
       "      <th>Cloudiness</th>\n",
       "      <th>Wind Speed</th>\n",
       "    </tr>\n",
       "  </thead>\n",
       "  <tbody>\n",
       "    <tr>\n",
       "      <th>2</th>\n",
       "      <td>Zhigansk</td>\n",
       "      <td>66.7697</td>\n",
       "      <td>123.3711</td>\n",
       "      <td>RU</td>\n",
       "      <td>-30.18</td>\n",
       "      <td>90</td>\n",
       "      <td>100</td>\n",
       "      <td>0.97</td>\n",
       "    </tr>\n",
       "    <tr>\n",
       "      <th>4</th>\n",
       "      <td>Egvekinot</td>\n",
       "      <td>66.3167</td>\n",
       "      <td>-179.1667</td>\n",
       "      <td>RU</td>\n",
       "      <td>-22.30</td>\n",
       "      <td>73</td>\n",
       "      <td>59</td>\n",
       "      <td>3.63</td>\n",
       "    </tr>\n",
       "    <tr>\n",
       "      <th>5</th>\n",
       "      <td>Hofn</td>\n",
       "      <td>64.2539</td>\n",
       "      <td>-15.2082</td>\n",
       "      <td>IS</td>\n",
       "      <td>7.23</td>\n",
       "      <td>88</td>\n",
       "      <td>44</td>\n",
       "      <td>7.94</td>\n",
       "    </tr>\n",
       "    <tr>\n",
       "      <th>7</th>\n",
       "      <td>Gravdal</td>\n",
       "      <td>68.1214</td>\n",
       "      <td>13.5031</td>\n",
       "      <td>NO</td>\n",
       "      <td>5.00</td>\n",
       "      <td>65</td>\n",
       "      <td>75</td>\n",
       "      <td>5.66</td>\n",
       "    </tr>\n",
       "    <tr>\n",
       "      <th>9</th>\n",
       "      <td>Saint-François</td>\n",
       "      <td>46.4154</td>\n",
       "      <td>3.9054</td>\n",
       "      <td>FR</td>\n",
       "      <td>2.22</td>\n",
       "      <td>75</td>\n",
       "      <td>0</td>\n",
       "      <td>3.09</td>\n",
       "    </tr>\n",
       "    <tr>\n",
       "      <th>10</th>\n",
       "      <td>Muskogee</td>\n",
       "      <td>35.5834</td>\n",
       "      <td>-95.3336</td>\n",
       "      <td>US</td>\n",
       "      <td>17.00</td>\n",
       "      <td>36</td>\n",
       "      <td>1</td>\n",
       "      <td>6.17</td>\n",
       "    </tr>\n",
       "    <tr>\n",
       "      <th>12</th>\n",
       "      <td>Pevek</td>\n",
       "      <td>69.7008</td>\n",
       "      <td>170.3133</td>\n",
       "      <td>RU</td>\n",
       "      <td>-26.91</td>\n",
       "      <td>90</td>\n",
       "      <td>100</td>\n",
       "      <td>0.73</td>\n",
       "    </tr>\n",
       "    <tr>\n",
       "      <th>15</th>\n",
       "      <td>Laguna</td>\n",
       "      <td>38.4210</td>\n",
       "      <td>-121.4238</td>\n",
       "      <td>US</td>\n",
       "      <td>17.78</td>\n",
       "      <td>63</td>\n",
       "      <td>75</td>\n",
       "      <td>2.06</td>\n",
       "    </tr>\n",
       "    <tr>\n",
       "      <th>16</th>\n",
       "      <td>Atbasar</td>\n",
       "      <td>51.8000</td>\n",
       "      <td>68.3333</td>\n",
       "      <td>KZ</td>\n",
       "      <td>0.87</td>\n",
       "      <td>96</td>\n",
       "      <td>100</td>\n",
       "      <td>5.89</td>\n",
       "    </tr>\n",
       "    <tr>\n",
       "      <th>17</th>\n",
       "      <td>Thompson</td>\n",
       "      <td>55.7435</td>\n",
       "      <td>-97.8558</td>\n",
       "      <td>CA</td>\n",
       "      <td>10.00</td>\n",
       "      <td>40</td>\n",
       "      <td>75</td>\n",
       "      <td>4.63</td>\n",
       "    </tr>\n",
       "    <tr>\n",
       "      <th>18</th>\n",
       "      <td>Jamestown</td>\n",
       "      <td>42.0970</td>\n",
       "      <td>-79.2353</td>\n",
       "      <td>US</td>\n",
       "      <td>3.33</td>\n",
       "      <td>25</td>\n",
       "      <td>1</td>\n",
       "      <td>3.88</td>\n",
       "    </tr>\n",
       "  </tbody>\n",
       "</table>\n",
       "</div>"
      ],
      "text/plain": [
       "              City      Lat       Lng Country  Max.Temp  Humidity  Cloudiness  \\\n",
       "2         Zhigansk  66.7697  123.3711      RU    -30.18        90         100   \n",
       "4        Egvekinot  66.3167 -179.1667      RU    -22.30        73          59   \n",
       "5             Hofn  64.2539  -15.2082      IS      7.23        88          44   \n",
       "7          Gravdal  68.1214   13.5031      NO      5.00        65          75   \n",
       "9   Saint-François  46.4154    3.9054      FR      2.22        75           0   \n",
       "10        Muskogee  35.5834  -95.3336      US     17.00        36           1   \n",
       "12           Pevek  69.7008  170.3133      RU    -26.91        90         100   \n",
       "15          Laguna  38.4210 -121.4238      US     17.78        63          75   \n",
       "16         Atbasar  51.8000   68.3333      KZ      0.87        96         100   \n",
       "17        Thompson  55.7435  -97.8558      CA     10.00        40          75   \n",
       "18       Jamestown  42.0970  -79.2353      US      3.33        25           1   \n",
       "\n",
       "    Wind Speed  \n",
       "2         0.97  \n",
       "4         3.63  \n",
       "5         7.94  \n",
       "7         5.66  \n",
       "9         3.09  \n",
       "10        6.17  \n",
       "12        0.73  \n",
       "15        2.06  \n",
       "16        5.89  \n",
       "17        4.63  \n",
       "18        3.88  "
      ]
     },
     "execution_count": 32,
     "metadata": {},
     "output_type": "execute_result"
    }
   ],
   "source": [
    "\n",
    "# Create Northern and Southern Hemisphere DataFrames\n",
    "north_lat = weather_data_df.loc[weather_data_df[\"Lat\"] >= 0]\n",
    "south_lat = weather_data_df.loc[weather_data_df[\"Lat\"] < 0]\n",
    "\n",
    "north_lat"
   ]
  },
  {
   "cell_type": "code",
   "execution_count": 37,
   "metadata": {},
   "outputs": [
    {
     "name": "stdout",
     "output_type": "stream",
     "text": [
      "In northern hemisphere he correlation coeficient between Max.Temperature and Latitude is -0.71\n"
     ]
    },
    {
     "data": {
      "image/png": "[encoded data removed]",
      "text/plain": [
       "<Figure size 1008x576 with 1 Axes>"
      ]
     },
     "metadata": {
      "needs_background": "light"
     },
     "output_type": "display_data"
    }
   ],
   "source": [
    "#---------------------------------\n",
    "\n",
    "# Calculate linear regression for above values weight and tumor volume\n",
    "(slope, intercept, rvalue, pvalue, stderr) = linregress(north_lat[\"Max.Temp\"], north_lat[\"Lat\"])\n",
    "regress_values = north_lat[\"Max.Temp\"] * slope + intercept\n",
    "line_eq = \"y = \" + str(round(slope,2)) + \"x + \" + str(round(intercept,2)) # equation of a line y = mx + b \n",
    "\n",
    "# Calculate the correlation coefficient between mouse weight and average tumor volume\n",
    "correlation = st.pearsonr(north_lat[\"Max.Temp\"],north_lat[\"Lat\"])                 # pearson method\n",
    "correlation = round(correlation[0],2)                 # round value with 2 decimals\n",
    "# Print answer of above calculation\n",
    "print(f\"In northern hemisphere he correlation coeficient between Max.Temperature and Latitude is {correlation}\")\n",
    "\n",
    "\n",
    "\n",
    "\n",
    "\n",
    "plt.figure(figsize=(14, 8))                                        # Set up total size of graph\n",
    "\n",
    "# Plot linear regression on top of scatter plot ----------------------------------------------------\n",
    "# Plot scatter\n",
    "plt.scatter(north_lat[\"Max.Temp\"], north_lat[\"Lat\"],\n",
    "            s=20, \n",
    "            color=\"yellow\",\n",
    "            edgecolors='black')\n",
    "\n",
    "# plot linear regression with variables\n",
    "plt.plot(north_lat[\"Max.Temp\"],regress_values,\"r-\")\n",
    "\n",
    "# Show formula for linear regression\n",
    "plt.annotate(line_eq,(-20,50),              # position of line formula within x, y values in graph\n",
    "             fontsize=14.5,\n",
    "             color=\"red\")  \n",
    "\n",
    "# Add labels and title to plot\n",
    "plt.title(\"Northern Hemisphere - Linear regression of Max Temp. vs Latitude\",fontsize =18)\n",
    "plt.xlabel(\"Max. Temperature (C)\",fontsize =16)\n",
    "plt.ylabel(\"Latitude\",fontsize =16)\n",
    "plt.xticks(fontsize=13)\n",
    "plt.yticks(np.arange(0, 90, 10.0))  \n",
    "plt.yticks(fontsize=13)\n",
    "plt.grid()\n",
    "\n",
    "# Save the figure\n",
    "plt.savefig(\"figures/Northern_Regression_Max_temp_vs_Latitude.png\")\n",
    "\n",
    "# Show plot\n",
    "plt.show()\n",
    "\n"
   ]
  },
  {
   "cell_type": "markdown",
   "metadata": {},
   "source": [
    "####  Southern Hemisphere - Max Temp vs. Latitude Linear Regression"
   ]
  },
  {
   "cell_type": "code",
   "execution_count": 54,
   "metadata": {},
   "outputs": [
    {
     "name": "stdout",
     "output_type": "stream",
     "text": [
      "In southern hemisphere he correlation coeficient between Max.Temperature and Latitude is 0.73\n"
     ]
    },
    {
     "data": {
      "image/png": "[encoded data removed]",
      "text/plain": [
       "<Figure size 1008x576 with 1 Axes>"
      ]
     },
     "metadata": {
      "needs_background": "light"
     },
     "output_type": "display_data"
    }
   ],
   "source": [
    "# variables:\n",
    "\n",
    "x = south_lat[\"Max.Temp\"]\n",
    "y = south_lat[\"Lat\"]\n",
    "\n",
    "\n",
    "# Calculate linear regression for above values weight and tumor volume\n",
    "(slope, intercept, rvalue, pvalue, stderr) = linregress(x, y)\n",
    "regress_values = x * slope + intercept\n",
    "line_eq = \"y = \" + str(round(slope,2)) + \"x + \" + str(round(intercept,2)) # equation of a line y = mx + b \n",
    "\n",
    "# Calculate the correlation coefficient between mouse weight and average tumor volume\n",
    "correlation = st.pearsonr(x,y)                 # pearson method\n",
    "correlation = round(correlation[0],2)                 # round value with 2 decimals\n",
    "# Print answer of above calculation\n",
    "print(f\"In southern hemisphere he correlation coeficient between Max.Temperature and Latitude is {correlation}\")\n",
    "\n",
    "\n",
    "\n",
    "\n",
    "\n",
    "plt.figure(figsize=(14, 8))     # Set up total size of graph\n",
    "\n",
    "# Plot linear regression on top of scatter plot ----------------------------------------------------\n",
    "# Plot scatter\n",
    "plt.scatter(x, y,\n",
    "            s=20, \n",
    "            color=\"yellow\",\n",
    "            edgecolors='black')\n",
    "\n",
    "# plot linear regression with variables\n",
    "plt.plot(x,regress_values,\"r-\")\n",
    "\n",
    "# Show formula for linear regression\n",
    "plt.annotate(line_eq,(15,-30),              # position of line formula within x, y values in graph\n",
    "             fontsize=14.5,\n",
    "             color=\"red\")  \n",
    "\n",
    "# Add labels and title to plot\n",
    " \n",
    "plt.title(\"Southern Hemisphere - Linear regression of Max Temp. vs Latitude\",fontsize =18)\n",
    "plt.xlabel(\"Max. Temperature (C)\",fontsize =16)\n",
    "plt.ylabel(\"Latitude\",fontsize =16)\n",
    "plt.xticks(fontsize=13)\n",
    "plt.yticks(np.arange(-90, 0, 10.0))  \n",
    "plt.yticks(fontsize=13)\n",
    "plt.grid()\n",
    "\n",
    "# Save the figure\n",
    "plt.savefig(\"figures/Southern_Regression_Max_Temp_vs_Latitude.png\")\n",
    "\n",
    "# Show plot\n",
    "plt.show()"
   ]
  },
  {
   "cell_type": "markdown",
   "metadata": {},
   "source": [
    "####  Northern Hemisphere - Humidity (%) vs. Latitude Linear Regression"
   ]
  },
  {
   "cell_type": "code",
   "execution_count": 59,
   "metadata": {},
   "outputs": [
    {
     "name": "stdout",
     "output_type": "stream",
     "text": [
      "In Northern Hemisphere he correlation coeficient between Humidity % and Latitude is 0.6\n"
     ]
    },
    {
     "data": {
      "image/png": "[encoded data removed]",
      "text/plain": [
       "<Figure size 1008x576 with 1 Axes>"
      ]
     },
     "metadata": {
      "needs_background": "light"
     },
     "output_type": "display_data"
    }
   ],
   "source": [
    "# variables:\n",
    "\n",
    "x = north_lat[\"Humidity\"]\n",
    "y = north_lat[\"Lat\"]\n",
    "text_x = \"Humidity %\"\n",
    "where = \"Northern Hemisphere\"\n",
    "\n",
    "\n",
    "# Calculate linear regression for above values weight and tumor volume\n",
    "(slope, intercept, rvalue, pvalue, stderr) = linregress(x, y)\n",
    "regress_values = x * slope + intercept\n",
    "line_eq = \"y = \" + str(round(slope,2)) + \"x + \" + str(round(intercept,2)) # equation of a line y = mx + b \n",
    "\n",
    "# Calculate the correlation coefficient between mouse weight and average tumor volume\n",
    "correlation = st.pearsonr(x,y)                 # pearson method\n",
    "correlation = round(correlation[0],2)                 # round value with 2 decimals\n",
    "# Print answer of above calculation\n",
    "print(f\"In {where} he correlation coeficient between {text_x} and Latitude is {correlation}\")\n",
    "\n",
    "plt.figure(figsize=(14, 8))     # Set up total size of graph\n",
    "\n",
    "# Plot linear regression on top of scatter plot ----------------------------------------------------\n",
    "# Plot scatter\n",
    "plt.scatter(x, y,\n",
    "            s=20, \n",
    "            color=\"yellow\",\n",
    "            edgecolors='black')\n",
    "\n",
    "# plot linear regression with variables\n",
    "plt.plot(x,regress_values,\"r-\")\n",
    "\n",
    "# Show formula for linear regression\n",
    "plt.annotate(line_eq,(40,40),              # position of line formula within x, y values in graph\n",
    "             fontsize=14.5,\n",
    "             color=\"red\")  \n",
    "\n",
    "# Add labels and title to plot\n",
    " \n",
    "plt.title(f\"{where} - Linear regression of {text_x}. vs Latitude\",fontsize =18)\n",
    "plt.xlabel(text_x,fontsize =16)\n",
    "plt.ylabel(\"Latitude\",fontsize =16)\n",
    "plt.xticks(fontsize=13)\n",
    "plt.yticks(np.arange(0, 90, 10.0))  \n",
    "plt.yticks(fontsize=13)\n",
    "plt.grid()\n",
    "\n",
    "# Save the figure\n",
    "plt.savefig(\"figures/Northern_Regression_Humidity_vs_Latitude.png\")\n",
    "\n",
    "# Show plot\n",
    "plt.show()"
   ]
  },
  {
   "cell_type": "markdown",
   "metadata": {},
   "source": [
    "####  Southern Hemisphere - Humidity (%) vs. Latitude Linear Regression"
   ]
  },
  {
   "cell_type": "code",
   "execution_count": 69,
   "metadata": {},
   "outputs": [
    {
     "name": "stdout",
     "output_type": "stream",
     "text": [
      "In Southern Hemisphere he correlation coeficient between Humidity % and Latitude is -0.09\n"
     ]
    },
    {
     "data": {
      "image/png": "[encoded data removed]",
      "text/plain": [
       "<Figure size 1008x576 with 1 Axes>"
      ]
     },
     "metadata": {
      "needs_background": "light"
     },
     "output_type": "display_data"
    }
   ],
   "source": [
    "# variables:\n",
    "\n",
    "x = south_lat[\"Humidity\"]\n",
    "y = south_lat[\"Lat\"]\n",
    "text_x = \"Humidity %\"\n",
    "where = \"Southern Hemisphere\"\n",
    "\n",
    "\n",
    "# Calculate linear regression for above values weight and tumor volume\n",
    "(slope, intercept, rvalue, pvalue, stderr) = linregress(x, y)\n",
    "regress_values = x * slope + intercept\n",
    "line_eq = \"y = \" + str(round(slope,2)) + \"x + \" + str(round(intercept,2)) # equation of a line y = mx + b \n",
    "\n",
    "# Calculate the correlation coefficient between mouse weight and average tumor volume\n",
    "correlation = st.pearsonr(x,y)                 # pearson method\n",
    "correlation = round(correlation[0],2)                 # round value with 2 decimals\n",
    "# Print answer of above calculation\n",
    "print(f\"In {where} he correlation coeficient between {text_x} and Latitude is {correlation}\")\n",
    "\n",
    "plt.figure(figsize=(14, 8))     # Set up total size of graph\n",
    "\n",
    "# Plot linear regression on top of scatter plot ----------------------------------------------------\n",
    "# Plot scatter\n",
    "plt.scatter(x, y,\n",
    "            s=20, \n",
    "            color=\"yellow\",\n",
    "            edgecolors='black')\n",
    "\n",
    "# plot linear regression with variables\n",
    "plt.plot(x,regress_values,\"r-\")\n",
    "\n",
    "# Show formula for linear regression\n",
    "plt.annotate(line_eq,(75,-15),              # position of line formula within x, y values in graph\n",
    "             fontsize=14.5,\n",
    "             color=\"red\")  \n",
    "\n",
    "# Add labels and title to plot\n",
    " \n",
    "plt.title(f\"{where} - Linear regression of {text_x}. vs Latitude\",fontsize =18)\n",
    "plt.xlabel(text_x,fontsize =16)\n",
    "plt.ylabel(\"Latitude\",fontsize =16)\n",
    "plt.xticks(fontsize=13)\n",
    "plt.yticks(np.arange(-90, 0, 10.0))  \n",
    "plt.yticks(fontsize=13)\n",
    "plt.grid()\n",
    "\n",
    "# Save the figure\n",
    "plt.savefig(\"figures/Southern_Regression_Humidity_vs_Latitude.png\")\n",
    "\n",
    "# Show plot\n",
    "plt.show()"
   ]
  },
  {
   "cell_type": "markdown",
   "metadata": {},
   "source": [
    "####  Northern Hemisphere - Cloudiness (%) vs. Latitude Linear Regression"
   ]
  },
  {
   "cell_type": "code",
   "execution_count": 65,
   "metadata": {},
   "outputs": [
    {
     "name": "stdout",
     "output_type": "stream",
     "text": [
      "In Northern Hemisphere he correlation coeficient between Cloudiness and Latitude is 0.61\n"
     ]
    },
    {
     "data": {
      "image/png": "[encoded data removed]",
      "text/plain": [
       "<Figure size 1008x576 with 1 Axes>"
      ]
     },
     "metadata": {
      "needs_background": "light"
     },
     "output_type": "display_data"
    }
   ],
   "source": [
    "# variables:\n",
    "\n",
    "x = north_lat[\"Cloudiness\"]\n",
    "y = north_lat[\"Lat\"]\n",
    "text_x = \"Cloudiness\"\n",
    "where = \"Northern Hemisphere\"\n",
    "\n",
    "\n",
    "# Calculate linear regression for above values weight and tumor volume\n",
    "(slope, intercept, rvalue, pvalue, stderr) = linregress(x, y)\n",
    "regress_values = x * slope + intercept\n",
    "line_eq = \"y = \" + str(round(slope,2)) + \"x + \" + str(round(intercept,2)) # equation of a line y = mx + b \n",
    "\n",
    "# Calculate the correlation coefficient between mouse weight and average tumor volume\n",
    "correlation = st.pearsonr(x,y)                 # pearson method\n",
    "correlation = round(correlation[0],2)                 # round value with 2 decimals\n",
    "# Print answer of above calculation\n",
    "print(f\"In {where} he correlation coeficient between {text_x} and Latitude is {correlation}\")\n",
    "\n",
    "plt.figure(figsize=(14, 8))     # Set up total size of graph\n",
    "\n",
    "# Plot linear regression on top of scatter plot ----------------------------------------------------\n",
    "# Plot scatter\n",
    "plt.scatter(x, y,\n",
    "            s=20, \n",
    "            color=\"yellow\",\n",
    "            edgecolors='black')\n",
    "\n",
    "# plot linear regression with variables\n",
    "plt.plot(x,regress_values,\"r-\")\n",
    "\n",
    "# Show formula for linear regression\n",
    "plt.annotate(line_eq,(40,40),              # position of line formula within x, y values in graph\n",
    "             fontsize=14.5,\n",
    "             color=\"red\")  \n",
    "\n",
    "# Add labels and title to plot\n",
    " \n",
    "plt.title(f\"{where} - Linear regression of {text_x}. vs Latitude\",fontsize =18)\n",
    "plt.xlabel(text_x,fontsize =16)\n",
    "plt.ylabel(\"Latitude\",fontsize =16)\n",
    "plt.xticks(fontsize=13)\n",
    "plt.yticks(np.arange(0, 90, 10.0))  \n",
    "plt.yticks(fontsize=13)\n",
    "plt.grid()\n",
    "\n",
    "# Save the figure\n",
    "plt.savefig(\"figures/Northern_Regression_Cloudiness_vs_Latitude.png\")\n",
    "\n",
    "# Show plot\n",
    "plt.show()"
   ]
  },
  {
   "cell_type": "markdown",
   "metadata": {},
   "source": [
    "####  Southern Hemisphere - Cloudiness (%) vs. Latitude Linear Regression"
   ]
  },
  {
   "cell_type": "code",
   "execution_count": 74,
   "metadata": {},
   "outputs": [
    {
     "name": "stdout",
     "output_type": "stream",
     "text": [
      "In Southern Hemisphere he correlation coeficient between Cloudiness % and Latitude is 0.3\n"
     ]
    },
    {
     "data": {
      "image/png": "[encoded data removed]",
      "text/plain": [
       "<Figure size 1008x576 with 1 Axes>"
      ]
     },
     "metadata": {
      "needs_background": "light"
     },
     "output_type": "display_data"
    }
   ],
   "source": [
    "# variables:\n",
    "\n",
    "x = south_lat[\"Cloudiness\"]\n",
    "y = south_lat[\"Lat\"]\n",
    "text_x = \"Cloudiness %\"\n",
    "where = \"Southern Hemisphere\"\n",
    "\n",
    "\n",
    "# Calculate linear regression for above values weight and tumor volume\n",
    "(slope, intercept, rvalue, pvalue, stderr) = linregress(x, y)\n",
    "regress_values = x * slope + intercept\n",
    "line_eq = \"y = \" + str(round(slope,2)) + \"x + \" + str(round(intercept,2)) # equation of a line y = mx + b \n",
    "\n",
    "# Calculate the correlation coefficient between mouse weight and average tumor volume\n",
    "correlation = st.pearsonr(x,y)                 # pearson method\n",
    "correlation = round(correlation[0],2)                 # round value with 2 decimals\n",
    "# Print answer of above calculation\n",
    "print(f\"In {where} he correlation coeficient between {text_x} and Latitude is {correlation}\")\n",
    "\n",
    "plt.figure(figsize=(14, 8))     # Set up total size of graph\n",
    "\n",
    "# Plot linear regression on top of scatter plot ----------------------------------------------------\n",
    "# Plot scatter\n",
    "plt.scatter(x, y,\n",
    "            s=20, \n",
    "            color=\"yellow\",\n",
    "            edgecolors='black')\n",
    "\n",
    "# plot linear regression with variables\n",
    "plt.plot(x,regress_values,\"r-\")\n",
    "\n",
    "# Show formula for linear regression\n",
    "plt.annotate(line_eq,(50,-10),              # position of line formula within x, y values in graph\n",
    "             fontsize=14.5,\n",
    "             color=\"red\")  \n",
    "\n",
    "# Add labels and title to plot\n",
    " \n",
    "plt.title(f\"{where} - Linear regression of {text_x}. vs Latitude\",fontsize =18)\n",
    "plt.xlabel(text_x,fontsize =16)\n",
    "plt.ylabel(\"Latitude\",fontsize =16)\n",
    "plt.xticks(fontsize=13)\n",
    "plt.yticks(np.arange(-90, 0, 10.0))  \n",
    "plt.yticks(fontsize=13)\n",
    "plt.grid()\n",
    "\n",
    "# Save the figure\n",
    "plt.savefig(\"figures/Southern_Regression_Cloudiness_vs_Latitude.png\")\n",
    "\n",
    "# Show plot\n",
    "plt.show()"
   ]
  },
  {
   "cell_type": "markdown",
   "metadata": {},
   "source": [
    "####  Northern Hemisphere - Wind Speed (mph) vs. Latitude Linear Regression"
   ]
  },
  {
   "cell_type": "code",
   "execution_count": 73,
   "metadata": {},
   "outputs": [
    {
     "name": "stdout",
     "output_type": "stream",
     "text": [
      "In Northern Hemisphere he correlation coeficient between Wind Speed (kph) and Latitude is -0.12\n"
     ]
    },
    {
     "data": {
      "image/png": "[encoded data removed]",
      "text/plain": [
       "<Figure size 1008x576 with 1 Axes>"
      ]
     },
     "metadata": {
      "needs_background": "light"
     },
     "output_type": "display_data"
    }
   ],
   "source": [
    "x = north_lat[\"Wind Speed\"]\n",
    "y = north_lat[\"Lat\"]\n",
    "text_x = \"Wind Speed (kph)\"\n",
    "where = \"Northern Hemisphere\"\n",
    "\n",
    "\n",
    "# Calculate linear regression for above values weight and tumor volume\n",
    "(slope, intercept, rvalue, pvalue, stderr) = linregress(x, y)\n",
    "regress_values = x * slope + intercept\n",
    "line_eq = \"y = \" + str(round(slope,2)) + \"x + \" + str(round(intercept,2)) # equation of a line y = mx + b \n",
    "\n",
    "# Calculate the correlation coefficient between mouse weight and average tumor volume\n",
    "correlation = st.pearsonr(x,y)                 # pearson method\n",
    "correlation = round(correlation[0],2)                 # round value with 2 decimals\n",
    "# Print answer of above calculation\n",
    "print(f\"In {where} he correlation coeficient between {text_x} and Latitude is {correlation}\")\n",
    "\n",
    "plt.figure(figsize=(14, 8))     # Set up total size of graph\n",
    "\n",
    "# Plot linear regression on top of scatter plot ----------------------------------------------------\n",
    "# Plot scatter\n",
    "plt.scatter(x, y,\n",
    "            s=20, \n",
    "            color=\"yellow\",\n",
    "            edgecolors='black')\n",
    "\n",
    "# plot linear regression with variables\n",
    "plt.plot(x,regress_values,\"r-\")\n",
    "\n",
    "# Show formula for linear regression\n",
    "plt.annotate(line_eq,(2,60),              # position of line formula within x, y values in graph\n",
    "             fontsize=14.5,\n",
    "             color=\"red\")  \n",
    "\n",
    "# Add labels and title to plot\n",
    " \n",
    "plt.title(f\"{where} - Linear regression of {text_x}. vs Latitude\",fontsize =18)\n",
    "plt.xlabel(text_x,fontsize =16)\n",
    "plt.ylabel(\"Latitude\",fontsize =16)\n",
    "plt.xticks(fontsize=13)\n",
    "plt.yticks(np.arange(0, 90, 10.0))  \n",
    "plt.yticks(fontsize=13)\n",
    "plt.grid()\n",
    "\n",
    "# Save the figure\n",
    "plt.savefig(\"figures/Northern_Regression_Wind_Speed_vs_Latitude.png\")\n",
    "\n",
    "# Show plot\n",
    "plt.show()"
   ]
  },
  {
   "cell_type": "markdown",
   "metadata": {},
   "source": [
    "####  Southern Hemisphere - Wind Speed (mph) vs. Latitude Linear Regression"
   ]
  },
  {
   "cell_type": "code",
   "execution_count": 78,
   "metadata": {},
   "outputs": [
    {
     "name": "stdout",
     "output_type": "stream",
     "text": [
      "In Southern Hemisphere he correlation coeficient between Wind Speed (kph) and Latitude is 0.11\n"
     ]
    },
    {
     "data": {
      "image/png": "[encoded data removed]",
      "text/plain": [
       "<Figure size 1008x576 with 1 Axes>"
      ]
     },
     "metadata": {
      "needs_background": "light"
     },
     "output_type": "display_data"
    }
   ],
   "source": [
    "# variables:\n",
    "\n",
    "x = south_lat[\"Wind Speed\"]\n",
    "y = south_lat[\"Lat\"]\n",
    "text_x = \"Wind Speed (kph)\"\n",
    "where = \"Southern Hemisphere\"\n",
    "\n",
    "\n",
    "# Calculate linear regression for above values weight and tumor volume\n",
    "(slope, intercept, rvalue, pvalue, stderr) = linregress(x, y)\n",
    "regress_values = x * slope + intercept\n",
    "line_eq = \"y = \" + str(round(slope,2)) + \"x + \" + str(round(intercept,2)) # equation of a line y = mx + b \n",
    "\n",
    "# Calculate the correlation coefficient between mouse weight and average tumor volume\n",
    "correlation = st.pearsonr(x,y)                 # pearson method\n",
    "correlation = round(correlation[0],2)                 # round value with 2 decimals\n",
    "# Print answer of above calculation\n",
    "print(f\"In {where} he correlation coeficient between {text_x} and Latitude is {correlation}\")\n",
    "\n",
    "plt.figure(figsize=(14, 8))     # Set up total size of graph\n",
    "\n",
    "# Plot linear regression on top of scatter plot ----------------------------------------------------\n",
    "# Plot scatter\n",
    "plt.scatter(x, y,\n",
    "            s=20, \n",
    "            color=\"yellow\",\n",
    "            edgecolors='black')\n",
    "\n",
    "# plot linear regression with variables\n",
    "plt.plot(x,regress_values,\"r-\")\n",
    "\n",
    "# Show formula for linear regression\n",
    "plt.annotate(line_eq,(3,-35),              # position of line formula within x, y values in graph\n",
    "             fontsize=14.5,\n",
    "             color=\"red\")  \n",
    "\n",
    "# Add labels and title to plot\n",
    " \n",
    "plt.title(f\"{where} - Linear regression of {text_x}. vs Latitude\",fontsize =18)\n",
    "plt.xlabel(text_x,fontsize =16)\n",
    "plt.ylabel(\"Latitude\",fontsize =16)\n",
    "plt.xticks(fontsize=13)\n",
    "plt.yticks(np.arange(-90, 0, 10.0))  \n",
    "plt.yticks(fontsize=13)\n",
    "plt.grid()\n",
    "\n",
    "# Save the figure\n",
    "plt.savefig(\"figures/Southern_Regression_Wind_Speed_vs_Latitude.png\")\n",
    "\n",
    "# Show plot\n",
    "plt.show()"
   ]
  },
  {
   "cell_type": "code",
   "execution_count": null,
   "metadata": {},
   "outputs": [],
   "source": []
  }
 ],
 "metadata": {
  "anaconda-cloud": {},
  "kernel_info": {
   "name": "python3"
  },
  "kernelspec": {
   "display_name": "Python 3",
   "language": "python",
   "name": "python3"
  },
  "language_info": {
   "codemirror_mode": {
    "name": "ipython",
    "version": 3
   },
   "file_extension": ".py",
   "mimetype": "text/x-python",
   "name": "python",
   "nbconvert_exporter": "python",
   "pygments_lexer": "ipython3",
   "version": "3.6.10"
  },
  "latex_envs": {
   "LaTeX_envs_menu_present": true,
   "autoclose": false,
   "autocomplete": true,
   "bibliofile": "biblio.bib",
   "cite_by": "apalike",
   "current_citInitial": 1,
   "eqLabelWithNumbers": true,
   "eqNumInitial": 1,
   "hotkeys": {
    "equation": "Ctrl-E",
    "itemize": "Ctrl-I"
   },
   "labels_anchors": false,
   "latex_user_defs": false,
   "report_style_numbering": false,
   "user_envs_cfg": false
  },
  "nteract": {
   "version": "0.12.3"
  }
 },
 "nbformat": 4,
 "nbformat_minor": 2
}
