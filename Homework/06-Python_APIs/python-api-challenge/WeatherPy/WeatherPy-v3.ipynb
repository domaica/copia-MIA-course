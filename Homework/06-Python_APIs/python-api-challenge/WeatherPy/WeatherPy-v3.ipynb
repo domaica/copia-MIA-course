{
 "cells": [
  {
   "cell_type": "markdown",
   "metadata": {},
   "source": [
    "# WeatherPy\n",
    "----\n",
    "\n",
    "#### Note\n",
    "* Instructions have been included for each segment. You do not have to follow them exactly, but they are included to help you think through the steps."
   ]
  },
  {
   "cell_type": "code",
   "execution_count": null,
   "metadata": {},
   "outputs": [],
   "source": [
    "# pip install citipy"
   ]
  },
  {
   "cell_type": "code",
   "execution_count": 1,
   "metadata": {
    "scrolled": true
   },
   "outputs": [
    {
     "name": "stdout",
     "output_type": "stream",
     "text": [
      "99f96a0396de356f1b82d64d481006c5\n"
     ]
    }
   ],
   "source": [
    "# Dependencies and Setup\n",
    "import matplotlib.pyplot as plt\n",
    "import pandas as pd\n",
    "import numpy as np\n",
    "import requests\n",
    "import time\n",
    "from scipy.stats import linregress\n",
    "\n",
    "# Import API key\n",
    "from config import weather_api_key\n",
    "\n",
    "# Incorporated citipy to determine city based on latitude and longitude\n",
    "from citipy import citipy\n",
    "\n",
    "# Output File (CSV)\n",
    "output_data_file = \"output_data/cities.csv\"\n",
    "\n",
    "# Range of latitudes and longitudes\n",
    "lat_range = (-90, 90)\n",
    "lng_range = (-180, 180)\n",
    "\n",
    "print(weather_api_key)"
   ]
  },
  {
   "cell_type": "markdown",
   "metadata": {},
   "source": [
    "## Generate Cities List"
   ]
  },
  {
   "cell_type": "code",
   "execution_count": 6,
   "metadata": {
    "scrolled": true
   },
   "outputs": [
    {
     "data": {
      "text/plain": [
       "20"
      ]
     },
     "execution_count": 6,
     "metadata": {},
     "output_type": "execute_result"
    }
   ],
   "source": [
    "# List for holding lat_lngs and cities\n",
    "lat_lngs = []\n",
    "cities = []\n",
    "\n",
    "# Create a set of random lat and lng combinations\n",
    "lats = np.random.uniform(lat_range[0], lat_range[1], size=20)\n",
    "lngs = np.random.uniform(lng_range[0], lng_range[1], size=20)\n",
    "lat_lngs = zip(lats, lngs)\n",
    "\n",
    "# Identify nearest city for each lat, lng combination\n",
    "for lat_lng in lat_lngs:\n",
    "    city = citipy.nearest_city(lat_lng[0], lat_lng[1]).city_name\n",
    "    \n",
    "    # If the city is unique, then add it to a our cities list\n",
    "    if city not in cities:\n",
    "        cities.append(city)\n",
    "\n",
    "# Print the city count to confirm sufficient count\n",
    "len(cities)\n",
    "# print(cities)"
   ]
  },
  {
   "cell_type": "markdown",
   "metadata": {},
   "source": [
    "### Perform API Calls\n",
    "* Perform a weather check on each city using a series of successive API calls.\n",
    "* Include a print log of each city as it'sbeing processed (with the city number and city name).\n"
   ]
  },
  {
   "cell_type": "code",
   "execution_count": 17,
   "metadata": {
    "scrolled": true
   },
   "outputs": [
    {
     "name": "stdout",
     "output_type": "stream",
     "text": [
      "------------------------\n",
      "Beginning Weather Check\n",
      "------------------------\n",
      "Retrieving data from city of hilo ==> Record 1\n",
      "Retrieving data from city of longyearbyen ==> Record 2\n",
      "Retrieving data from city of geraldton ==> Record 3\n",
      "Retrieving data from city of castro ==> Record 4\n",
      "Retrieving data from city of kapatan ==> Record 5\n",
      "Retrieving data from city of pisco ==> Record 6\n",
      "Retrieving data from city of tabas ==> Record 7\n",
      "Retrieving data from city of ancud ==> Record 8\n",
      "Retrieving data from city of bluff ==> Record 9\n",
      "Retrieving data from city of sassandra ==> Record 10\n",
      "Retrieving data from city of puerto ayora ==> Record 11\n",
      "Retrieving data from city of ushuaia ==> Record 12\n",
      "Retrieving data from city of atuona ==> Record 13\n",
      "Retrieving data from city of clarence town ==> Record 14\n",
      "Retrieving data from city of hermanus ==> Record 15\n",
      "Retrieving data from city of acapulco ==> Record 16\n",
      "Retrieving data from city of saskylakh ==> Record 17\n",
      "Retrieving data from city of rawson ==> Record 18\n",
      "Retrieving data from city of lebu ==> Record 19\n",
      "Retrieving data from city of georgetown ==> Record 20\n",
      "-------------------------\n",
      "Finished weather check\n",
      "-------------------------\n"
     ]
    }
   ],
   "source": [
    "# OpenWeatherMap API Key\n",
    "api_key = weather_api_key\n",
    "# Starting URL for Weather Map API Call\n",
    "url = \"http://api.openweathermap.org/data/2.5/weather?units=Metric&APPID=\" + api_key\n",
    "\n",
    "# Create empty lists to append the API data into lists \n",
    "city_list = []\n",
    "country_list = []\n",
    "lat_list = []\n",
    "lng_list = []\n",
    "temperature_list = []\n",
    "cloud_list = []\n",
    "humidity_list = []\n",
    "wind_speed_list = []\n",
    "\n",
    "record_counter = 0\n",
    "\n",
    "print('------------------------')\n",
    "print('Beginning Weather Check')\n",
    "print('------------------------')\n",
    "\n",
    "for city in cities:\n",
    "    # Try statement to append calls where value is found \n",
    "    # Not all calls return data as OpenWeatherMap will\n",
    "    # not have have records in all the cities generated by CityPy module\n",
    "#     try: \n",
    "    \n",
    "        query_url = url + \"&q=\" + city\n",
    "        # Get weather data\n",
    "        response = requests.get(query_url).json()\n",
    "\n",
    "    #     response = requests.get(query_url + city).json()\n",
    "        city_list.append(response[\"name\"])\n",
    "        country_list.append(response[\"sys\"][\"country\"])\n",
    "        lat_list.append(response[\"coord\"][\"lat\"])\n",
    "        lng_list.append(response[\"coord\"][\"lon\"])\n",
    "        temperature_list.append(response['main']['temp_max'])    \n",
    "        cloud_list.append(response[\"clouds\"][\"all\"])\n",
    "        humidity_list.append(response[\"main\"][\"humidity\"])\n",
    "\n",
    "    #    date_list.append(response[\"dt\"])\n",
    "        wind_speed_list.append(response[\"wind\"][\"speed\"])\n",
    "        record_counter += 1\n",
    "        print('Retrieving data from city of {} ==> Record {}'.format(city, record_counter))\n",
    "    \n",
    "#         # If no record found \"skip\" to next city\n",
    "#     except:\n",
    "#         print(\"There are not enough weather information for city of {}. Skip record.\")\n",
    "# #         print(query_url)\n",
    "\n",
    "#     continue\n",
    "    \n",
    "    \n",
    "    \n",
    "    \n",
    "    \n",
    "\n",
    "\n",
    "print('-------------------------')\n",
    "print('Finished weather check')\n",
    "print('-------------------------')"
   ]
  },
  {
   "cell_type": "markdown",
   "metadata": {},
   "source": [
    "### Convert Raw Data to DataFrame\n",
    "* Export the city data into a .csv.\n",
    "* Display the DataFrame"
   ]
  },
  {
   "cell_type": "code",
   "execution_count": 20,
   "metadata": {
    "scrolled": true
   },
   "outputs": [
    {
     "data": {
      "text/html": [
       "<div>\n",
       "<style scoped>\n",
       "    .dataframe tbody tr th:only-of-type {\n",
       "        vertical-align: middle;\n",
       "    }\n",
       "\n",
       "    .dataframe tbody tr th {\n",
       "        vertical-align: top;\n",
       "    }\n",
       "\n",
       "    .dataframe thead th {\n",
       "        text-align: right;\n",
       "    }\n",
       "</style>\n",
       "<table border=\"1\" class=\"dataframe\">\n",
       "  <thead>\n",
       "    <tr style=\"text-align: right;\">\n",
       "      <th></th>\n",
       "      <th>City</th>\n",
       "      <th>Lat</th>\n",
       "      <th>Lng</th>\n",
       "      <th>Country</th>\n",
       "      <th>Max.Temp</th>\n",
       "      <th>Humidity</th>\n",
       "      <th>Cloudiness</th>\n",
       "      <th>Wind Speed</th>\n",
       "    </tr>\n",
       "  </thead>\n",
       "  <tbody>\n",
       "    <tr>\n",
       "      <th>0</th>\n",
       "      <td>Hilo</td>\n",
       "      <td>19.7297</td>\n",
       "      <td>-155.0900</td>\n",
       "      <td>US</td>\n",
       "      <td>19.73</td>\n",
       "      <td>78</td>\n",
       "      <td>40</td>\n",
       "      <td>3.22</td>\n",
       "    </tr>\n",
       "    <tr>\n",
       "      <th>1</th>\n",
       "      <td>Longyearbyen</td>\n",
       "      <td>78.2186</td>\n",
       "      <td>15.6401</td>\n",
       "      <td>SJ</td>\n",
       "      <td>0.00</td>\n",
       "      <td>69</td>\n",
       "      <td>75</td>\n",
       "      <td>5.66</td>\n",
       "    </tr>\n",
       "    <tr>\n",
       "      <th>2</th>\n",
       "      <td>Geraldton</td>\n",
       "      <td>-28.7667</td>\n",
       "      <td>114.6000</td>\n",
       "      <td>AU</td>\n",
       "      <td>19.00</td>\n",
       "      <td>55</td>\n",
       "      <td>0</td>\n",
       "      <td>1.54</td>\n",
       "    </tr>\n",
       "    <tr>\n",
       "      <th>3</th>\n",
       "      <td>Castro</td>\n",
       "      <td>-24.7911</td>\n",
       "      <td>-50.0119</td>\n",
       "      <td>BR</td>\n",
       "      <td>23.83</td>\n",
       "      <td>75</td>\n",
       "      <td>51</td>\n",
       "      <td>2.94</td>\n",
       "    </tr>\n",
       "    <tr>\n",
       "      <th>4</th>\n",
       "      <td>Kapatan</td>\n",
       "      <td>5.9006</td>\n",
       "      <td>125.2375</td>\n",
       "      <td>PH</td>\n",
       "      <td>26.08</td>\n",
       "      <td>81</td>\n",
       "      <td>90</td>\n",
       "      <td>1.51</td>\n",
       "    </tr>\n",
       "    <tr>\n",
       "      <th>5</th>\n",
       "      <td>Pisco</td>\n",
       "      <td>-13.7000</td>\n",
       "      <td>-76.2167</td>\n",
       "      <td>PE</td>\n",
       "      <td>25.47</td>\n",
       "      <td>69</td>\n",
       "      <td>0</td>\n",
       "      <td>4.12</td>\n",
       "    </tr>\n",
       "    <tr>\n",
       "      <th>6</th>\n",
       "      <td>Tabas</td>\n",
       "      <td>33.5959</td>\n",
       "      <td>56.9244</td>\n",
       "      <td>IR</td>\n",
       "      <td>22.89</td>\n",
       "      <td>19</td>\n",
       "      <td>24</td>\n",
       "      <td>3.81</td>\n",
       "    </tr>\n",
       "    <tr>\n",
       "      <th>7</th>\n",
       "      <td>Ancud</td>\n",
       "      <td>-41.8697</td>\n",
       "      <td>-73.8203</td>\n",
       "      <td>CL</td>\n",
       "      <td>10.89</td>\n",
       "      <td>76</td>\n",
       "      <td>75</td>\n",
       "      <td>1.54</td>\n",
       "    </tr>\n",
       "    <tr>\n",
       "      <th>8</th>\n",
       "      <td>Bluff</td>\n",
       "      <td>-46.6000</td>\n",
       "      <td>168.3333</td>\n",
       "      <td>NZ</td>\n",
       "      <td>11.11</td>\n",
       "      <td>87</td>\n",
       "      <td>95</td>\n",
       "      <td>0.89</td>\n",
       "    </tr>\n",
       "    <tr>\n",
       "      <th>9</th>\n",
       "      <td>Sassandra</td>\n",
       "      <td>4.9500</td>\n",
       "      <td>-6.0833</td>\n",
       "      <td>CI</td>\n",
       "      <td>27.40</td>\n",
       "      <td>75</td>\n",
       "      <td>6</td>\n",
       "      <td>4.26</td>\n",
       "    </tr>\n",
       "    <tr>\n",
       "      <th>10</th>\n",
       "      <td>Puerto Ayora</td>\n",
       "      <td>-0.7393</td>\n",
       "      <td>-90.3518</td>\n",
       "      <td>EC</td>\n",
       "      <td>28.93</td>\n",
       "      <td>74</td>\n",
       "      <td>20</td>\n",
       "      <td>4.12</td>\n",
       "    </tr>\n",
       "    <tr>\n",
       "      <th>11</th>\n",
       "      <td>Ushuaia</td>\n",
       "      <td>-54.8000</td>\n",
       "      <td>-68.3000</td>\n",
       "      <td>AR</td>\n",
       "      <td>12.00</td>\n",
       "      <td>47</td>\n",
       "      <td>75</td>\n",
       "      <td>5.14</td>\n",
       "    </tr>\n",
       "    <tr>\n",
       "      <th>12</th>\n",
       "      <td>Atuona</td>\n",
       "      <td>-9.8000</td>\n",
       "      <td>-139.0333</td>\n",
       "      <td>PF</td>\n",
       "      <td>26.75</td>\n",
       "      <td>78</td>\n",
       "      <td>75</td>\n",
       "      <td>6.43</td>\n",
       "    </tr>\n",
       "    <tr>\n",
       "      <th>13</th>\n",
       "      <td>Clarence Town</td>\n",
       "      <td>-32.5833</td>\n",
       "      <td>151.7833</td>\n",
       "      <td>AU</td>\n",
       "      <td>19.81</td>\n",
       "      <td>100</td>\n",
       "      <td>75</td>\n",
       "      <td>6.17</td>\n",
       "    </tr>\n",
       "    <tr>\n",
       "      <th>14</th>\n",
       "      <td>Hermanus</td>\n",
       "      <td>-34.4187</td>\n",
       "      <td>19.2345</td>\n",
       "      <td>ZA</td>\n",
       "      <td>18.89</td>\n",
       "      <td>70</td>\n",
       "      <td>100</td>\n",
       "      <td>0.89</td>\n",
       "    </tr>\n",
       "    <tr>\n",
       "      <th>15</th>\n",
       "      <td>Acapulco de Juárez</td>\n",
       "      <td>16.8634</td>\n",
       "      <td>-99.8901</td>\n",
       "      <td>MX</td>\n",
       "      <td>29.00</td>\n",
       "      <td>70</td>\n",
       "      <td>20</td>\n",
       "      <td>4.63</td>\n",
       "    </tr>\n",
       "    <tr>\n",
       "      <th>16</th>\n",
       "      <td>Saskylakh</td>\n",
       "      <td>71.9167</td>\n",
       "      <td>114.0833</td>\n",
       "      <td>RU</td>\n",
       "      <td>-36.02</td>\n",
       "      <td>98</td>\n",
       "      <td>0</td>\n",
       "      <td>1.89</td>\n",
       "    </tr>\n",
       "    <tr>\n",
       "      <th>17</th>\n",
       "      <td>Rawson</td>\n",
       "      <td>-43.3002</td>\n",
       "      <td>-65.1023</td>\n",
       "      <td>AR</td>\n",
       "      <td>26.99</td>\n",
       "      <td>21</td>\n",
       "      <td>0</td>\n",
       "      <td>7.09</td>\n",
       "    </tr>\n",
       "    <tr>\n",
       "      <th>18</th>\n",
       "      <td>Lebu</td>\n",
       "      <td>-37.6167</td>\n",
       "      <td>-73.6500</td>\n",
       "      <td>CL</td>\n",
       "      <td>16.11</td>\n",
       "      <td>70</td>\n",
       "      <td>54</td>\n",
       "      <td>5.34</td>\n",
       "    </tr>\n",
       "    <tr>\n",
       "      <th>19</th>\n",
       "      <td>George Town</td>\n",
       "      <td>5.4112</td>\n",
       "      <td>100.3354</td>\n",
       "      <td>MY</td>\n",
       "      <td>26.26</td>\n",
       "      <td>61</td>\n",
       "      <td>20</td>\n",
       "      <td>1.54</td>\n",
       "    </tr>\n",
       "  </tbody>\n",
       "</table>\n",
       "</div>"
      ],
      "text/plain": [
       "                  City      Lat       Lng Country  Max.Temp  Humidity  \\\n",
       "0                 Hilo  19.7297 -155.0900      US     19.73        78   \n",
       "1         Longyearbyen  78.2186   15.6401      SJ      0.00        69   \n",
       "2            Geraldton -28.7667  114.6000      AU     19.00        55   \n",
       "3               Castro -24.7911  -50.0119      BR     23.83        75   \n",
       "4              Kapatan   5.9006  125.2375      PH     26.08        81   \n",
       "5                Pisco -13.7000  -76.2167      PE     25.47        69   \n",
       "6                Tabas  33.5959   56.9244      IR     22.89        19   \n",
       "7                Ancud -41.8697  -73.8203      CL     10.89        76   \n",
       "8                Bluff -46.6000  168.3333      NZ     11.11        87   \n",
       "9            Sassandra   4.9500   -6.0833      CI     27.40        75   \n",
       "10        Puerto Ayora  -0.7393  -90.3518      EC     28.93        74   \n",
       "11             Ushuaia -54.8000  -68.3000      AR     12.00        47   \n",
       "12              Atuona  -9.8000 -139.0333      PF     26.75        78   \n",
       "13       Clarence Town -32.5833  151.7833      AU     19.81       100   \n",
       "14            Hermanus -34.4187   19.2345      ZA     18.89        70   \n",
       "15  Acapulco de Juárez  16.8634  -99.8901      MX     29.00        70   \n",
       "16           Saskylakh  71.9167  114.0833      RU    -36.02        98   \n",
       "17              Rawson -43.3002  -65.1023      AR     26.99        21   \n",
       "18                Lebu -37.6167  -73.6500      CL     16.11        70   \n",
       "19         George Town   5.4112  100.3354      MY     26.26        61   \n",
       "\n",
       "    Cloudiness  Wind Speed  \n",
       "0           40        3.22  \n",
       "1           75        5.66  \n",
       "2            0        1.54  \n",
       "3           51        2.94  \n",
       "4           90        1.51  \n",
       "5            0        4.12  \n",
       "6           24        3.81  \n",
       "7           75        1.54  \n",
       "8           95        0.89  \n",
       "9            6        4.26  \n",
       "10          20        4.12  \n",
       "11          75        5.14  \n",
       "12          75        6.43  \n",
       "13          75        6.17  \n",
       "14         100        0.89  \n",
       "15          20        4.63  \n",
       "16           0        1.89  \n",
       "17           0        7.09  \n",
       "18          54        5.34  \n",
       "19          20        1.54  "
      ]
     },
     "execution_count": 20,
     "metadata": {},
     "output_type": "execute_result"
    }
   ],
   "source": [
    "# move data to dictionary and the DF\n",
    "weather_data_dict = {\n",
    "    \"City\": city_list,\n",
    "    \"Lat\":lat_list, \n",
    "    \"Lng\":lng_list, \n",
    "    \"Country\":country_list,\n",
    "    \"Max.Temp\": temperature_list,    \n",
    "    \"Humidity\": humidity_list,   \n",
    "    \"Cloudiness\":cloud_list, \n",
    "    \"Wind Speed\":wind_speed_list\n",
    "}\n",
    "\n",
    "# Create a data frame from dictionary\n",
    "weather_data_df = pd.DataFrame(weather_data_dict)\n",
    "\n",
    "# Display count of weather data values \n",
    "# weather_data_df.count()\n",
    "weather_data_df\n",
    "\n"
   ]
  },
  {
   "cell_type": "markdown",
   "metadata": {},
   "source": [
    "## Inspect the data and remove the cities where the humidity > 100%.\n",
    "----\n",
    "Skip this step if there are no cities that have humidity > 100%. "
   ]
  },
  {
   "cell_type": "code",
   "execution_count": null,
   "metadata": {},
   "outputs": [],
   "source": []
  },
  {
   "cell_type": "code",
   "execution_count": null,
   "metadata": {},
   "outputs": [],
   "source": [
    "#  Get the indices of cities that have humidity over 100%.\n"
   ]
  },
  {
   "cell_type": "code",
   "execution_count": null,
   "metadata": {},
   "outputs": [],
   "source": [
    "# Make a new DataFrame equal to the city data to drop all humidity outliers by index.\n",
    "# Passing \"inplace=False\" will make a copy of the city_data DataFrame, which we call \"clean_city_data\".\n"
   ]
  },
  {
   "cell_type": "code",
   "execution_count": null,
   "metadata": {},
   "outputs": [],
   "source": [
    "\n"
   ]
  },
  {
   "cell_type": "markdown",
   "metadata": {},
   "source": [
    "## Plotting the Data\n",
    "* Use proper labeling of the plots using plot titles (including date of analysis) and axes labels.\n",
    "* Save the plotted figures as .pngs."
   ]
  },
  {
   "cell_type": "markdown",
   "metadata": {},
   "source": [
    "## Latitude vs. Temperature Plot"
   ]
  },
  {
   "cell_type": "code",
   "execution_count": null,
   "metadata": {
    "scrolled": true
   },
   "outputs": [],
   "source": []
  },
  {
   "cell_type": "markdown",
   "metadata": {},
   "source": [
    "## Latitude vs. Humidity Plot"
   ]
  },
  {
   "cell_type": "code",
   "execution_count": null,
   "metadata": {},
   "outputs": [],
   "source": []
  },
  {
   "cell_type": "markdown",
   "metadata": {},
   "source": [
    "## Latitude vs. Cloudiness Plot"
   ]
  },
  {
   "cell_type": "code",
   "execution_count": null,
   "metadata": {},
   "outputs": [],
   "source": []
  },
  {
   "cell_type": "markdown",
   "metadata": {},
   "source": [
    "## Latitude vs. Wind Speed Plot"
   ]
  },
  {
   "cell_type": "code",
   "execution_count": null,
   "metadata": {},
   "outputs": [],
   "source": []
  },
  {
   "cell_type": "markdown",
   "metadata": {},
   "source": [
    "## Linear Regression"
   ]
  },
  {
   "cell_type": "code",
   "execution_count": null,
   "metadata": {},
   "outputs": [],
   "source": []
  },
  {
   "cell_type": "markdown",
   "metadata": {},
   "source": [
    "####  Northern Hemisphere - Max Temp vs. Latitude Linear Regression"
   ]
  },
  {
   "cell_type": "code",
   "execution_count": null,
   "metadata": {},
   "outputs": [],
   "source": []
  },
  {
   "cell_type": "markdown",
   "metadata": {},
   "source": [
    "####  Southern Hemisphere - Max Temp vs. Latitude Linear Regression"
   ]
  },
  {
   "cell_type": "code",
   "execution_count": null,
   "metadata": {},
   "outputs": [],
   "source": []
  },
  {
   "cell_type": "markdown",
   "metadata": {},
   "source": [
    "####  Northern Hemisphere - Humidity (%) vs. Latitude Linear Regression"
   ]
  },
  {
   "cell_type": "code",
   "execution_count": null,
   "metadata": {},
   "outputs": [],
   "source": []
  },
  {
   "cell_type": "markdown",
   "metadata": {},
   "source": [
    "####  Southern Hemisphere - Humidity (%) vs. Latitude Linear Regression"
   ]
  },
  {
   "cell_type": "code",
   "execution_count": null,
   "metadata": {},
   "outputs": [],
   "source": []
  },
  {
   "cell_type": "markdown",
   "metadata": {},
   "source": [
    "####  Northern Hemisphere - Cloudiness (%) vs. Latitude Linear Regression"
   ]
  },
  {
   "cell_type": "code",
   "execution_count": null,
   "metadata": {},
   "outputs": [],
   "source": []
  },
  {
   "cell_type": "markdown",
   "metadata": {},
   "source": [
    "####  Southern Hemisphere - Cloudiness (%) vs. Latitude Linear Regression"
   ]
  },
  {
   "cell_type": "code",
   "execution_count": null,
   "metadata": {},
   "outputs": [],
   "source": []
  },
  {
   "cell_type": "markdown",
   "metadata": {},
   "source": [
    "####  Northern Hemisphere - Wind Speed (mph) vs. Latitude Linear Regression"
   ]
  },
  {
   "cell_type": "code",
   "execution_count": null,
   "metadata": {},
   "outputs": [],
   "source": []
  },
  {
   "cell_type": "markdown",
   "metadata": {},
   "source": [
    "####  Southern Hemisphere - Wind Speed (mph) vs. Latitude Linear Regression"
   ]
  },
  {
   "cell_type": "code",
   "execution_count": null,
   "metadata": {},
   "outputs": [],
   "source": []
  },
  {
   "cell_type": "code",
   "execution_count": null,
   "metadata": {},
   "outputs": [],
   "source": []
  }
 ],
 "metadata": {
  "anaconda-cloud": {},
  "kernel_info": {
   "name": "python3"
  },
  "kernelspec": {
   "display_name": "Python 3",
   "language": "python",
   "name": "python3"
  },
  "language_info": {
   "codemirror_mode": {
    "name": "ipython",
    "version": 3
   },
   "file_extension": ".py",
   "mimetype": "text/x-python",
   "name": "python",
   "nbconvert_exporter": "python",
   "pygments_lexer": "ipython3",
   "version": "3.6.10"
  },
  "latex_envs": {
   "LaTeX_envs_menu_present": true,
   "autoclose": false,
   "autocomplete": true,
   "bibliofile": "biblio.bib",
   "cite_by": "apalike",
   "current_citInitial": 1,
   "eqLabelWithNumbers": true,
   "eqNumInitial": 1,
   "hotkeys": {
    "equation": "Ctrl-E",
    "itemize": "Ctrl-I"
   },
   "labels_anchors": false,
   "latex_user_defs": false,
   "report_style_numbering": false,
   "user_envs_cfg": false
  },
  "nteract": {
   "version": "0.12.3"
  }
 },
 "nbformat": 4,
 "nbformat_minor": 2
}
