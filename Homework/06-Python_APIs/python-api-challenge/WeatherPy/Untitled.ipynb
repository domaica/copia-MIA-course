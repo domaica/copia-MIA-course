{
 "cells": [
  {
   "cell_type": "code",
   "execution_count": 1,
   "metadata": {},
   "outputs": [],
   "source": [
    "import os\n",
    "import time\n",
    "import random\n",
    "import pandas as pd\n",
    "import matplotlib.pyplot as plt\n",
    "import requests\n",
    "import json\n",
    "from scipy.stats import linregress\n",
    "from pprint import pprint\n",
    "from citipy import citipy\n",
    "from api_keys import weather_api_key\n",
    "from api_keys import g_key"
   ]
  },
  {
   "cell_type": "code",
   "execution_count": 3,
   "metadata": {},
   "outputs": [
    {
     "ename": "FileNotFoundError",
     "evalue": "[Errno 2] No such file or directory: 'city.list.json'",
     "output_type": "error",
     "traceback": [
      "\u001b[1;31m---------------------------------------------------------------------------\u001b[0m",
      "\u001b[1;31mFileNotFoundError\u001b[0m                         Traceback (most recent call last)",
      "\u001b[1;32m<ipython-input-3-3ed50750d983>\u001b[0m in \u001b[0;36m<module>\u001b[1;34m\u001b[0m\n\u001b[0;32m      1\u001b[0m \u001b[1;31m# Construct city list from the jason file that is distributed by api.openweather.org, save the list to \"allcities.csv\"\u001b[0m\u001b[1;33m\u001b[0m\u001b[1;33m\u001b[0m\u001b[1;33m\u001b[0m\u001b[0m\n\u001b[0;32m      2\u001b[0m \u001b[1;33m\u001b[0m\u001b[0m\n\u001b[1;32m----> 3\u001b[1;33m \u001b[1;32mwith\u001b[0m \u001b[0mopen\u001b[0m\u001b[1;33m(\u001b[0m\u001b[1;34m'city.list.json'\u001b[0m\u001b[1;33m,\u001b[0m \u001b[1;34m'r'\u001b[0m\u001b[1;33m,\u001b[0m\u001b[0mencoding\u001b[0m\u001b[1;33m=\u001b[0m\u001b[1;34m'utf-8'\u001b[0m\u001b[1;33m)\u001b[0m \u001b[1;32mas\u001b[0m \u001b[0mjsonfile\u001b[0m\u001b[1;33m:\u001b[0m\u001b[1;33m\u001b[0m\u001b[1;33m\u001b[0m\u001b[0m\n\u001b[0m\u001b[0;32m      4\u001b[0m     \u001b[0mjsndata\u001b[0m \u001b[1;33m=\u001b[0m \u001b[0mjson\u001b[0m\u001b[1;33m.\u001b[0m\u001b[0mload\u001b[0m\u001b[1;33m(\u001b[0m\u001b[0mjsonfile\u001b[0m\u001b[1;33m)\u001b[0m\u001b[1;33m\u001b[0m\u001b[1;33m\u001b[0m\u001b[0m\n\u001b[0;32m      5\u001b[0m \u001b[1;33m\u001b[0m\u001b[0m\n",
      "\u001b[1;31mFileNotFoundError\u001b[0m: [Errno 2] No such file or directory: 'city.list.json'"
     ]
    }
   ],
   "source": [
    "# Construct city list from the jason file that is distributed by api.openweather.org, save the list to \"allcities.csv\"\n",
    "\n",
    "with open('city.list.json', 'r',encoding='utf-8') as jsonfile:\n",
    "    jsndata = json.load(jsonfile)\n",
    "\n",
    "ids = []\n",
    "nam = []\n",
    "country = []\n",
    "lat = []\n",
    "lon = []\n",
    "\n",
    "for i in range(len(jsndata)):\n",
    "    ids.append(jsndata[i]['id'])\n",
    "    nam.append(jsndata[i]['name'].lower())\n",
    "    country.append(jsndata[i]['country'])\n",
    "    # need to lower the letter case because citipy uses lower case letters\n",
    "    lat.append(jsndata[i]['coord']['lat'])\n",
    "    lon.append(jsndata[i]['coord']['lon'])\n",
    "    \n",
    "dftemp = pd.DataFrame({'id':ids,'City':nam,'Country':country,'Lat':lat,'Lng':lon})\n",
    "dftemp\n",
    "# dftemp.to_csv(\"output_data/allcities.csv\", index=False, header=True)"
   ]
  },
  {
   "cell_type": "code",
   "execution_count": null,
   "metadata": {},
   "outputs": [],
   "source": [
    "# Read dfcities.csv file into dataframe, previous cell is not required to run once the dfcities.csv is saved\n",
    "\n",
    "dfcities = pd.read_csv(\"output_data/allcities.csv\", encoding=\"utf-8\")\n",
    "dfcities = dfcities.set_index('City')\n",
    "dfcities.head()"
   ]
  },
  {
   "cell_type": "code",
   "execution_count": null,
   "metadata": {},
   "outputs": [],
   "source": [
    "# Select 500 unique cities and save the data into dfselected.csv\n",
    "\n",
    "ncities = 500\n",
    "namsel = []\n",
    "idsel = []\n",
    "countrysel = []\n",
    "latsel = []\n",
    "lonsel = []\n",
    "i = 0\n",
    "while(i < ncities):\n",
    "    i = i+1\n",
    "    latitude = random.uniform(-90.0,90.0)\n",
    "    longitude = random.uniform(-180.0,180.0)\n",
    "    city = citipy.nearest_city(latitude,longitude)\n",
    "    try:\n",
    "        id = int(dfcities.loc[city.city_name]['id'])\n",
    "        try:\n",
    "            itemp = idsel.index(id)\n",
    "            i = i - 1\n",
    "        except:\n",
    "            idsel.append(id)\n",
    "            namsel.append(city.city_name)\n",
    "            countrysel.append(dfcities.loc[city.city_name]['Country'])\n",
    "            latsel.append(dfcities.loc[city.city_name]['Lat'])\n",
    "            lonsel.append(dfcities.loc[city.city_name]['Lng'])\n",
    "    except:\n",
    "        i = i - 1\n",
    "\n",
    "dftemp = pd.DataFrame({'City':namsel,'id':idsel,'Country':countrysel,'Lat':latsel,'Lng':lonsel})\n",
    "dftemp.to_csv(\"output_data/dfselected.csv\", index=False, header=True)"
   ]
  },
  {
   "cell_type": "code",
   "execution_count": null,
   "metadata": {},
   "outputs": [],
   "source": [
    "# Request weather informatiton for the selected cities and save into a json file weatherlist.json\n",
    "\n",
    "jsnlist = []\n",
    "\n",
    "i = 0\n",
    "waitingtime = 0\n",
    "ncities = len(dfselected)\n",
    "while i < ncities:\n",
    "    id = dfselected['id'][i]\n",
    "    url = f\"http://api.openweathermap.org/data/2.5/forecast?id={id}&units=imperial&APPID={weather_api_key}\"\n",
    "    jsn = requests.get(url).json()\n",
    "    try:\n",
    "        print('City-{0}: {1}'.format(i,jsn['city']['name']))\n",
    "        jsnlist.append(jsn)\n",
    "        i = i + 1\n",
    "        waitingtime = 0\n",
    "    except:\n",
    "        waitingtime = waitingtime + 1\n",
    "        print(f\"Waiting {waitingtime} seconds\")\n",
    "        time.sleep(1)\n",
    "    \n",
    "with open('output_data/weatherlist.json', 'w') as jsonfile:\n",
    "    json.dump(jsnlist, jsonfile)"
   ]
  },
  {
   "cell_type": "code",
   "execution_count": null,
   "metadata": {},
   "outputs": [],
   "source": []
  },
  {
   "cell_type": "code",
   "execution_count": null,
   "metadata": {},
   "outputs": [],
   "source": []
  },
  {
   "cell_type": "code",
   "execution_count": null,
   "metadata": {},
   "outputs": [],
   "source": []
  }
 ],
 "metadata": {
  "kernelspec": {
   "display_name": "Python 3",
   "language": "python",
   "name": "python3"
  },
  "language_info": {
   "codemirror_mode": {
    "name": "ipython",
    "version": 3
   },
   "file_extension": ".py",
   "mimetype": "text/x-python",
   "name": "python",
   "nbconvert_exporter": "python",
   "pygments_lexer": "ipython3",
   "version": "3.6.10"
  }
 },
 "nbformat": 4,
 "nbformat_minor": 4
}
