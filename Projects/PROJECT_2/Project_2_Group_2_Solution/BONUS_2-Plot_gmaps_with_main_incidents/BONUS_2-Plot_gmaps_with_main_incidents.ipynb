{
 "cells": [
  {
   "cell_type": "markdown",
   "metadata": {},
   "source": [
    "# BONUS 2\n",
    "\n",
    "### 2.\tPlot map with top five shooting incidents in Florida"
   ]
  },
  {
   "cell_type": "code",
   "execution_count": 1,
   "metadata": {
    "scrolled": true
   },
   "outputs": [],
   "source": [
    "# Dependencies and Setup\n",
    "import pandas as pd\n",
    "import gmaps\n",
    "import os\n",
    "import json\n",
    "from IPython.display import display\n",
    "\n",
    "from config import gkey"
   ]
  },
  {
   "cell_type": "markdown",
   "metadata": {},
   "source": [
    "## Generate Cities List"
   ]
  },
  {
   "cell_type": "code",
   "execution_count": null,
   "metadata": {
    "scrolled": true
   },
   "outputs": [],
   "source": [
    "# gun dataframe from .csv\n",
    "path1 = \"../data/gun_FL_final_df.csv\"\n",
    "# gun_detail_df = pd.read_csv(path1).drop([\"unnamed 0\"],axis=1)\n",
    "gun_detail_df = pd.read_csv(path1)\n",
    "\n",
    "gun_detail_df.head()"
   ]
  },
  {
   "cell_type": "code",
   "execution_count": null,
   "metadata": {
    "scrolled": true
   },
   "outputs": [],
   "source": [
    "# Sort top 5 gun incidents\n",
    "gun_detail_df = gun_detail_df.sort_values([\"n_killed\"], ascending=[False])\n",
    "gun_detail_df.head()"
   ]
  },
  {
   "cell_type": "code",
   "execution_count": 4,
   "metadata": {},
   "outputs": [],
   "source": [
    "# Reset index\n",
    "gun_detail_df = gun_detail_df.reset_index()\n"
   ]
  },
  {
   "cell_type": "code",
   "execution_count": 5,
   "metadata": {
    "scrolled": true
   },
   "outputs": [
    {
     "data": {
      "text/html": [
       "<div>\n",
       "<style scoped>\n",
       "    .dataframe tbody tr th:only-of-type {\n",
       "        vertical-align: middle;\n",
       "    }\n",
       "\n",
       "    .dataframe tbody tr th {\n",
       "        vertical-align: top;\n",
       "    }\n",
       "\n",
       "    .dataframe thead th {\n",
       "        text-align: right;\n",
       "    }\n",
       "</style>\n",
       "<table border=\"1\" class=\"dataframe\">\n",
       "  <thead>\n",
       "    <tr style=\"text-align: right;\">\n",
       "      <th></th>\n",
       "      <th>index</th>\n",
       "      <th>incident_id</th>\n",
       "      <th>date</th>\n",
       "      <th>address</th>\n",
       "      <th>n_killed</th>\n",
       "      <th>n_injured</th>\n",
       "      <th>latitude</th>\n",
       "      <th>longitude</th>\n",
       "      <th>city</th>\n",
       "      <th>state_name</th>\n",
       "      <th>state_ab</th>\n",
       "      <th>county</th>\n",
       "      <th>mean_income</th>\n",
       "      <th>median_income</th>\n",
       "      <th>poverty_population</th>\n",
       "      <th>poverty_rate</th>\n",
       "      <th>unemployed_n</th>\n",
       "      <th>unemployed_rate</th>\n",
       "    </tr>\n",
       "  </thead>\n",
       "  <tbody>\n",
       "    <tr>\n",
       "      <th>0</th>\n",
       "      <td>4414</td>\n",
       "      <td>577157</td>\n",
       "      <td>12-06-16</td>\n",
       "      <td>1912 S Orange Avenue</td>\n",
       "      <td>50</td>\n",
       "      <td>53</td>\n",
       "      <td>28.5195</td>\n",
       "      <td>-81.3767</td>\n",
       "      <td>orlando</td>\n",
       "      <td>Florida</td>\n",
       "      <td>FL</td>\n",
       "      <td>Orange</td>\n",
       "      <td>43567.0</td>\n",
       "      <td>36551.0</td>\n",
       "      <td>171,599</td>\n",
       "      <td>12.6</td>\n",
       "      <td>22173.0</td>\n",
       "      <td>2.9</td>\n",
       "    </tr>\n",
       "    <tr>\n",
       "      <th>1</th>\n",
       "      <td>8958</td>\n",
       "      <td>1049217</td>\n",
       "      <td>14-02-18</td>\n",
       "      <td>5901 Pine Island Rd</td>\n",
       "      <td>17</td>\n",
       "      <td>17</td>\n",
       "      <td>26.3045</td>\n",
       "      <td>-80.2694</td>\n",
       "      <td>parkland</td>\n",
       "      <td>Florida</td>\n",
       "      <td>FL</td>\n",
       "      <td>Alachua</td>\n",
       "      <td>118346.0</td>\n",
       "      <td>112964.0</td>\n",
       "      <td>46,916</td>\n",
       "      <td>18.4</td>\n",
       "      <td>4105.0</td>\n",
       "      <td>2.9</td>\n",
       "    </tr>\n",
       "    <tr>\n",
       "      <th>2</th>\n",
       "      <td>1355</td>\n",
       "      <td>192851</td>\n",
       "      <td>18-09-14</td>\n",
       "      <td>NW 30th Street and NW 39th Terrace</td>\n",
       "      <td>8</td>\n",
       "      <td>0</td>\n",
       "      <td>29.7555</td>\n",
       "      <td>-82.8626</td>\n",
       "      <td>lake city</td>\n",
       "      <td>Florida</td>\n",
       "      <td>FL</td>\n",
       "      <td>Alachua</td>\n",
       "      <td>48348.0</td>\n",
       "      <td>40683.0</td>\n",
       "      <td>46,916</td>\n",
       "      <td>18.4</td>\n",
       "      <td>4105.0</td>\n",
       "      <td>2.9</td>\n",
       "    </tr>\n",
       "    <tr>\n",
       "      <th>3</th>\n",
       "      <td>3</td>\n",
       "      <td>491265</td>\n",
       "      <td>26-07-13</td>\n",
       "      <td>1485 W 46th St</td>\n",
       "      <td>7</td>\n",
       "      <td>0</td>\n",
       "      <td>25.8640</td>\n",
       "      <td>-80.3122</td>\n",
       "      <td>hialeah gardens</td>\n",
       "      <td>Florida</td>\n",
       "      <td>FL</td>\n",
       "      <td>Alachua</td>\n",
       "      <td>57174.0</td>\n",
       "      <td>39071.0</td>\n",
       "      <td>46,916</td>\n",
       "      <td>18.4</td>\n",
       "      <td>4105.0</td>\n",
       "      <td>2.9</td>\n",
       "    </tr>\n",
       "    <tr>\n",
       "      <th>4</th>\n",
       "      <td>6098</td>\n",
       "      <td>743995</td>\n",
       "      <td>06-01-17</td>\n",
       "      <td>100 Terminal Dr</td>\n",
       "      <td>5</td>\n",
       "      <td>6</td>\n",
       "      <td>26.0698</td>\n",
       "      <td>-80.1367</td>\n",
       "      <td>dania beach</td>\n",
       "      <td>Florida</td>\n",
       "      <td>FL</td>\n",
       "      <td>Alachua</td>\n",
       "      <td>69836.0</td>\n",
       "      <td>64961.0</td>\n",
       "      <td>46,916</td>\n",
       "      <td>18.4</td>\n",
       "      <td>4105.0</td>\n",
       "      <td>2.9</td>\n",
       "    </tr>\n",
       "  </tbody>\n",
       "</table>\n",
       "</div>"
      ],
      "text/plain": [
       "   index  incident_id      date                             address  n_killed  \\\n",
       "0   4414       577157  12-06-16                1912 S Orange Avenue        50   \n",
       "1   8958      1049217  14-02-18                 5901 Pine Island Rd        17   \n",
       "2   1355       192851  18-09-14  NW 30th Street and NW 39th Terrace         8   \n",
       "3      3       491265  26-07-13                      1485 W 46th St         7   \n",
       "4   6098       743995  06-01-17                     100 Terminal Dr         5   \n",
       "\n",
       "   n_injured  latitude  longitude             city state_name state_ab  \\\n",
       "0         53   28.5195   -81.3767          orlando    Florida       FL   \n",
       "1         17   26.3045   -80.2694         parkland    Florida       FL   \n",
       "2          0   29.7555   -82.8626        lake city    Florida       FL   \n",
       "3          0   25.8640   -80.3122  hialeah gardens    Florida       FL   \n",
       "4          6   26.0698   -80.1367      dania beach    Florida       FL   \n",
       "\n",
       "    county  mean_income  median_income poverty_population  poverty_rate  \\\n",
       "0   Orange      43567.0        36551.0            171,599          12.6   \n",
       "1  Alachua     118346.0       112964.0             46,916          18.4   \n",
       "2  Alachua      48348.0        40683.0             46,916          18.4   \n",
       "3  Alachua      57174.0        39071.0             46,916          18.4   \n",
       "4  Alachua      69836.0        64961.0             46,916          18.4   \n",
       "\n",
       "   unemployed_n  unemployed_rate  \n",
       "0       22173.0              2.9  \n",
       "1        4105.0              2.9  \n",
       "2        4105.0              2.9  \n",
       "3        4105.0              2.9  \n",
       "4        4105.0              2.9  "
      ]
     },
     "execution_count": 5,
     "metadata": {},
     "output_type": "execute_result"
    }
   ],
   "source": [
    "# Get top 5 incidents\n",
    "top_5_df = gun_detail_df.head()\n",
    "top_5_df"
   ]
  },
  {
   "cell_type": "code",
   "execution_count": null,
   "metadata": {},
   "outputs": [],
   "source": [
    "# add needed country column to plot gmaps\n",
    "top_5_df['Country'] = 'US'\n",
    "# top_5_df"
   ]
  },
  {
   "cell_type": "code",
   "execution_count": null,
   "metadata": {
    "scrolled": true
   },
   "outputs": [],
   "source": [
    "# Rename city column to plot gmaps\n",
    "top_5_df = top_5_df.rename(columns={\"city\": \"City\"})\n",
    "top_5_df"
   ]
  },
  {
   "cell_type": "code",
   "execution_count": 8,
   "metadata": {},
   "outputs": [
    {
     "data": {
      "application/vnd.jupyter.widget-view+json": {
       "model_id": "91d27eaf96ab422a9781e9fb13c4d6cc",
       "version_major": 2,
       "version_minor": 0
      },
      "text/plain": [
       "Figure(layout=FigureLayout(border='1px solid black', height='800px', margin='0 auto 0 auto', padding='1px', wi…"
      ]
     },
     "metadata": {},
     "output_type": "display_data"
    }
   ],
   "source": [
    "# fill locations with latitude and longitude to feed markers for hotels\n",
    "locations = top_5_df[[\"latitude\", \"longitude\"]].astype(float)\n",
    "\n",
    "#---------------------------------------------------------------------------------------------------------------------\n",
    "# NOTE: Do not change any of the code in this cell\n",
    "# Using the template add the city marks to the map\n",
    "info_box_template = \"\"\"\n",
    "<dl>\n",
    "<dt>City</dt><dd>{City}</dd>\n",
    "<dt>Country</dt><dd>{Country}</dd>\n",
    "</dl>\n",
    "\"\"\"\n",
    "# Store the DataFrame Row\n",
    "\n",
    "\n",
    "# NOTE: be sure to update with your DataFrame name\n",
    "city_info = [info_box_template.format(**row) for index, row in top_5_df.iterrows()]\n",
    "\n",
    "\n",
    "#----------------------------------------------------------------------------------------------------------\n",
    "# Uncomment following 9 lines if you want to plot a new map without heat layer\n",
    "# Customize the size of the figure\n",
    "figure_layout = {\n",
    "    'width': '1000px',\n",
    "    'height': '800px',\n",
    "    'border': '1px solid black',\n",
    "    'padding': '1px',\n",
    "    'margin': '0 auto 0 auto'}\n",
    "# plot map with parameters above\n",
    "fig = gmaps.figure(layout=figure_layout)\n",
    "\n",
    "# Add marker layer and info box content on top of map\n",
    "markers = gmaps.marker_layer(locations, info_box_content = city_info)\n",
    "markers = gmaps.marker_layer(locations)\n",
    "\n",
    "# Add the layer to the map\n",
    "fig.add_layer(markers)\n",
    "\n",
    "# Display Map\n",
    "fig"
   ]
  },
  {
   "cell_type": "code",
   "execution_count": null,
   "metadata": {},
   "outputs": [],
   "source": []
  },
  {
   "cell_type": "code",
   "execution_count": null,
   "metadata": {},
   "outputs": [],
   "source": []
  }
 ],
 "metadata": {
  "anaconda-cloud": {},
  "kernel_info": {
   "name": "python3"
  },
  "kernelspec": {
   "display_name": "Python 3",
   "language": "python",
   "name": "python3"
  },
  "language_info": {
   "codemirror_mode": {
    "name": "ipython",
    "version": 3
   },
   "file_extension": ".py",
   "mimetype": "text/x-python",
   "name": "python",
   "nbconvert_exporter": "python",
   "pygments_lexer": "ipython3",
   "version": "3.6.10"
  },
  "latex_envs": {
   "LaTeX_envs_menu_present": true,
   "autoclose": false,
   "autocomplete": true,
   "bibliofile": "biblio.bib",
   "cite_by": "apalike",
   "current_citInitial": 1,
   "eqLabelWithNumbers": true,
   "eqNumInitial": 1,
   "hotkeys": {
    "equation": "Ctrl-E",
    "itemize": "Ctrl-I"
   },
   "labels_anchors": false,
   "latex_user_defs": false,
   "report_style_numbering": false,
   "user_envs_cfg": false
  },
  "nteract": {
   "version": "0.12.3"
  }
 },
 "nbformat": 4,
 "nbformat_minor": 2
}
