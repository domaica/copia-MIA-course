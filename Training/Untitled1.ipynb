{
 "cells": [
  {
   "cell_type": "code",
   "execution_count": 20,
   "metadata": {},
   "outputs": [
    {
     "data": {
      "image/png": "[encoded data removed]",
      "text/plain": [
       "<Figure size 720x576 with 1 Axes>"
      ]
     },
     "metadata": {
      "needs_background": "light"
     },
     "output_type": "display_data"
    }
   ],
   "source": [
    "import matplotlib.pyplot as plt\n",
    "import numpy as np\n",
    "\n",
    "# Random test data\n",
    "np.random.seed(19680801)\n",
    "all_data = [np.random.normal(0, std, size=100) for std in range(1, 4)]\n",
    "labels = ['x1', 'x2', 'x3']\n",
    "\n",
    "# fig, (ax1, ax2) = plt.subplots(nrows=1, ncols=2, figsize=(9, 4))\n",
    "\n",
    "# Boxplot\n",
    "fig1, ax1 = plt.subplots(figsize=(10, 8))                # Boxplot and total size of graph\n",
    "ax1.set_title('Tumor Volume by Treatment', fontsize =20) # Title and fontsize\n",
    "ax1.set_ylabel('Final Tumor Volume (mm3)',fontsize = 16) # label for y axis and fontsize\n",
    "ax1.set_xlabel('Drug Regimen',fontsize = 16)             # label for x axis and fontsize \n",
    "ax1.boxplot(all_data, \n",
    "            widths = 0.4,\n",
    "            patch_artist=True,  # fill with color\n",
    "            vert=True)        # vertical box alignment\n",
    "\n",
    "# text labels for ticks and fontsize\n",
    "# plt.xticks([1, 2, 3, 4], ['Capomulin', 'Ramicane', 'Infubinol', 'Ceftamin'], fontsize = 14) \n",
    "\n",
    "# plt.ylim(10, 80) # limit of y axis\n",
    "# plt.grid()       \n",
    "ax1.yaxis.grid(True) # Horizontal lines for reference \n",
    "\n",
    "plt.show()\n",
    "\n",
    "\n",
    "\n",
    "# # rectangular box plot\n",
    "# bplot1 = ax1.boxplot(all_data,\n",
    "#                      vert=True,  # vertical box alignment\n",
    "#                      patch_artist=True,  # fill with color\n",
    "#                      labels=labels)  # will be used to label x-ticks\n",
    "# ax1.set_title('Rectangular box plot')\n",
    "\n",
    "# # notch shape box plot\n",
    "# bplot2 = ax2.boxplot(all_data,\n",
    "#                      notch=True,  # notch shape\n",
    "#                      vert=True,  # vertical box alignment\n",
    "#                      patch_artist=True,  # fill with color\n",
    "#                      labels=labels)  # will be used to label x-ticks\n",
    "# ax2.set_title('Notched box plot')\n",
    "\n",
    "# # fill with colors\n",
    "# colors = ['pink', 'lightblue', 'lightgreen']\n",
    "# for bplot in (bplot1, bplot2):\n",
    "#     for patch, color in zip(bplot['boxes'], colors):\n",
    "#         patch.set_facecolor(color)\n",
    "\n",
    "# # adding horizontal grid lines\n",
    "# for ax in [ax1, ax2]:\n",
    "#     ax.yaxis.grid(True)\n",
    "#     ax.set_xlabel('Three separate samples')\n",
    "#     ax.set_ylabel('Observed values')\n",
    "\n",
    "plt.show()"
   ]
  },
  {
   "cell_type": "code",
   "execution_count": null,
   "metadata": {},
   "outputs": [],
   "source": []
  }
 ],
 "metadata": {
  "kernelspec": {
   "display_name": "Python 3",
   "language": "python",
   "name": "python3"
  },
  "language_info": {
   "codemirror_mode": {
    "name": "ipython",
    "version": 3
   },
   "file_extension": ".py",
   "mimetype": "text/x-python",
   "name": "python",
   "nbconvert_exporter": "python",
   "pygments_lexer": "ipython3",
   "version": "3.6.10"
  }
 },
 "nbformat": 4,
 "nbformat_minor": 4
}
